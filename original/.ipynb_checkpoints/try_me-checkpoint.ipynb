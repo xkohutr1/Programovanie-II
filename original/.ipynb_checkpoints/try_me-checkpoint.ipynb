{
 "cells": [
  {
   "cell_type": "markdown",
   "metadata": {},
   "source": [
    "$65 \\rightarrow$ A"
   ]
  },
  {
   "cell_type": "code",
   "execution_count": null,
   "metadata": {
    "collapsed": true
   },
   "outputs": [],
   "source": [
    "bw = [86, 115, 101, 116, 107, 111, 32, 110, 97, 106, 32, 107, 32, 118, 99, 101, 114, 97, 106, 115, 105, 109, 32, 110, 97, 114, 111, 100, 107, 97, 109, 32, 116, 121, 32, 98, 117, 107, 118, 97]"
   ]
  }
 ],
 "metadata": {
  "kernelspec": {
   "display_name": "Python 3",
   "language": "python",
   "name": "python3"
  },
  "language_info": {
   "codemirror_mode": {
    "name": "ipython",
    "version": 3
   },
   "file_extension": ".py",
   "mimetype": "text/x-python",
   "name": "python",
   "nbconvert_exporter": "python",
   "pygments_lexer": "ipython3",
   "version": "3.6.2"
  }
 },
 "nbformat": 4,
 "nbformat_minor": 2
}
