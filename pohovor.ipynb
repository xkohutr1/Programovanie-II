{
 "cells": [
  {
   "cell_type": "markdown",
   "metadata": {},
   "source": [
    "Tento zápisník obsahuje úlohy, ktoré sa často opakujú na prijímacích pohovoroch technologických firiem, ako napr. Google, Microsoft, atď."
   ]
  },
  {
   "cell_type": "markdown",
   "metadata": {},
   "source": [
    "## Párovanie prvkov\n",
    "\n",
    "Majme pole celých čísel, napr. `[3, 1, 8, 5, 7, 2]`. Úlohou je napísať funkciu, ktorej vstupom je takéto pole a celé číslo, volajme ho `S` (načítané z klávesnice). Funkcia nájde a vráti indexy dvoch prvkov poľa, ktorých súčet je presne rovný `S`. Ak takéto prvky neexistujú, funkcia vráti `None`.\n",
    "\n",
    "Príklad:\n",
    "```\n",
    "Zadaj cislo S: 10\n",
    "Nájdený pár na indexoch 0 a 4 (3 + 7 = 10)\n",
    "```\n",
    "alebo\n",
    "```\n",
    "Zadaj cislo S: 22\n",
    "Par su suctom 22 sa neda najst.\n",
    "```"
   ]
  },
  {
   "cell_type": "code",
   "execution_count": null,
   "metadata": {
    "collapsed": true
   },
   "outputs": [],
   "source": []
  },
  {
   "cell_type": "markdown",
   "metadata": {},
   "source": [
    "**Rozšírenie:** Vstupné polia načítajte zo súboru `pohovor01.txt` kde každý riadok obsahuje prvky poľa oddelené medzerou. Pre každé pole uvažujte `S=12`. Program musí podporovať ľubovolný počet polí v súbore."
   ]
  },
  {
   "cell_type": "code",
   "execution_count": null,
   "metadata": {
    "collapsed": true
   },
   "outputs": [],
   "source": []
  },
  {
   "cell_type": "markdown",
   "metadata": {},
   "source": [
    "## Najpočetnejší prvkov v zozname\n",
    "\n",
    "Majme zoznam celých čísel, napr. `[4, 0, 2, 1, 2, 8, 3, 2, 1, 2, 8, 3, 2]`. Zistite, ktorý prvok sa v danom zoznam vyskytuje najčastejšie (v našom prípade je to 2)."
   ]
  },
  {
   "cell_type": "code",
   "execution_count": null,
   "metadata": {
    "collapsed": true
   },
   "outputs": [],
   "source": []
  },
  {
   "cell_type": "markdown",
   "metadata": {},
   "source": [
    "**Rozšírenie:** Vstupné polia načítajte zo súboru `pohovor02.txt`. Pozor, v každom sú jednotlivé čísla oddelené sekvenciou `\", \"` (čiarka, medzera)."
   ]
  },
  {
   "cell_type": "code",
   "execution_count": null,
   "metadata": {
    "collapsed": true
   },
   "outputs": [],
   "source": []
  },
  {
   "cell_type": "markdown",
   "metadata": {},
   "source": [
    "## Prvky s najväčšou sumou\n",
    "\n",
    "Majme zoznam celých čísel, napr. `[3, 1, 8, 5, 7, 2]`. Zistite, suma ktorých dvoch čísel je najväčšia. \n",
    "\n",
    "Príklad výstupu:\n",
    "```\n",
    "Maximálna suma je 15 (8 + 7)\n",
    "```"
   ]
  },
  {
   "cell_type": "code",
   "execution_count": null,
   "metadata": {
    "collapsed": true
   },
   "outputs": [],
   "source": []
  },
  {
   "cell_type": "markdown",
   "metadata": {
    "deletable": true,
    "editable": true
   },
   "source": [
    "**Rozšírenie:** Vstupné polia načítajte zo súboru `pohovor03.txt`. Všimnite si najskôr, v akom formáte sú jednotlivé dáta uložené."
   ]
  },
  {
   "cell_type": "code",
   "execution_count": null,
   "metadata": {
    "collapsed": true
   },
   "outputs": [],
   "source": []
  },
  {
   "cell_type": "markdown",
   "metadata": {},
   "source": [
    "## Konverzia indexov na názvy stĺpcov v Exceli\n",
    "\n",
    "Vieme, že Excel prideľuje stĺpcom označenia `\"A\"` až `\"Z\"` (zodpovedajú indexom 1 až 26). 27. stĺpec má potom označenie `\"AA\"`, 28. potom `\"AB\"`, atď. Napríklad stĺpec č. 1014 má označenie `\"ALZ\"` a č. 1015 je `\"AMA\"`. \n",
    "\n",
    "Vytvorte program, ktorého vstupom z klávesnice je poradové číslo stĺpca a výstupom jeho textové označenie."
   ]
  },
  {
   "cell_type": "code",
   "execution_count": null,
   "metadata": {
    "collapsed": true
   },
   "outputs": [],
   "source": []
  },
  {
   "cell_type": "markdown",
   "metadata": {},
   "source": [
    "## Prevod textu na čísla na klávesnici mobilu\n",
    "\n",
    "Vieme, že na klávesnici mobilu sú ku každému číslu asociované 3 písmená podľa nasledovnej schémy:\n",
    "\n",
    "![](https://i0.wp.com/www.techiedelight.com/wp-content/uploads/Keypad.png?resize=256%2C199&ssl=1)\n",
    "\n",
    "Úlohou je napísať program, ktorého vstupom je reťazec (napr. `\"PYTHON\"`) a výstupom je príslušná sekvencia čísel (v našom prípade `798466`)."
   ]
  },
  {
   "cell_type": "code",
   "execution_count": null,
   "metadata": {
    "collapsed": true
   },
   "outputs": [],
   "source": []
  },
  {
   "cell_type": "markdown",
   "metadata": {},
   "source": [
    "## Validácia IP adresy\n",
    "\n",
    "Vieme, že platná IP adresa má formát `AAA.BBB.CCC.DDD`, kde `AAA`, `BBB`, `CCC`, `DDD` sú celé čísla z intervalu 0 až 255. Vytvorte program, ktorý z klávesnice načíta IP adresu a vypíše, či je platná.\n",
    "\n",
    "Príklady platných adries:\n",
    "```\n",
    "17.3.123.18\n",
    "255.255.255.255\n",
    "192.168.0.1\n",
    "```\n",
    "\n",
    "Príklady neplatných adries:\n",
    "```\n",
    "123.xyz.1.53\n",
    "111.300.8.12\n",
    "90.52.3\n",
    "```"
   ]
  },
  {
   "cell_type": "code",
   "execution_count": null,
   "metadata": {
    "collapsed": true
   },
   "outputs": [],
   "source": []
  },
  {
   "cell_type": "markdown",
   "metadata": {
    "deletable": true,
    "editable": true
   },
   "source": [
    "**Rozšírenie:** Vstupné adresy načítajte zo súboru `pohovor04.txt`. Výstup má byť v tvare:\n",
    "```\n",
    "Adresa 17.3.123.18 je platna\n",
    "Adresa 123.xyz.1.45 je neplatna\n",
    "Adresa 255.255.255.255 je platna\n",
    "Adresa 1.1.1 je neplatna\n",
    "```"
   ]
  },
  {
   "cell_type": "code",
   "execution_count": null,
   "metadata": {
    "collapsed": true
   },
   "outputs": [],
   "source": []
  },
  {
   "cell_type": "markdown",
   "metadata": {},
   "source": [
    "## Izomorfické reťazce\n",
    "\n",
    "Majme dva reťazce, napr. `\"ACAB\"` a `\"XCXY\"`. Tieto reťazce sú tzv. *izomorfické*, keďže platí zámena `\"A\" -> \"X\"`, `\"B\" -> \"Y\"` a `\"C\" -> \"C\"`. Vytvorte program, ktorý zistí, či sú dva reťazce izomorfické.\n",
    "\n",
    "Príklady izomorfických reťazcov:\n",
    "```\n",
    "ACAB XCXY\n",
    "ABCCBA UIJJIU\n",
    "```"
   ]
  },
  {
   "cell_type": "code",
   "execution_count": null,
   "metadata": {
    "collapsed": true
   },
   "outputs": [],
   "source": []
  },
  {
   "cell_type": "markdown",
   "metadata": {},
   "source": [
    "## Zachytávanie dažďovej vody\n",
    "\n",
    "Majme zoznam čísel, napr. `[7, 0, 4, 2, 5, 0, 6, 4, 0, 5]`. Každé číslo pritom udáva výšku \"steny\" podľa nasledovného obrázka:\n",
    "\n",
    "![](https://i2.wp.com/www.techiedelight.com/wp-content/uploads/Rain-Water-Trapping-Bars.png?resize=419%2C324&ssl=1)\n",
    "\n",
    "Vytvorte program, ktorý zistí, aký maximálny objem vody dokáže takáto nádrž zachytiť. Pre náš príklad by to bolo\n",
    "\n",
    "![](https://i0.wp.com/www.techiedelight.com/wp-content/uploads/Rain-Water-Trapping.png?resize=417%2C328&ssl=1)\n",
    "\n",
    "a teda maximálny zachytený objem je 25.\n",
    "\n",
    "Pomôcka: ideo je vypočítať maximálnu výšku steny vľavo a vpravo od každej steny. Potom objem vody zachytený nad aktuálnou stenou je daný ako minimum z maxima výšky ľavej a pravej steny mínus výška aktuálnej steny."
   ]
  },
  {
   "cell_type": "code",
   "execution_count": null,
   "metadata": {
    "collapsed": true
   },
   "outputs": [],
   "source": []
  }
 ],
 "metadata": {
  "kernelspec": {
   "display_name": "Python 3",
   "language": "python",
   "name": "python3"
  },
  "language_info": {
   "codemirror_mode": {
    "name": "ipython",
    "version": 3
   },
   "file_extension": ".py",
   "mimetype": "text/x-python",
   "name": "python",
   "nbconvert_exporter": "python",
   "pygments_lexer": "ipython3",
   "version": "3.5.2"
  }
 },
 "nbformat": 4,
 "nbformat_minor": 2
}
