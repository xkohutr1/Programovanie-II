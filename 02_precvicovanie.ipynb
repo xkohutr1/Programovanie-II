{
 "cells": [
  {
   "cell_type": "markdown",
   "metadata": {},
   "source": [
    "# Kapitalizácia viet\n",
    "\n",
    "Z klávesnice načítavajte reťazce až dokým užívateľ nevloží prázdny reťazec (teda iba stlačí enter). Potom na obrazovku vypíšte jednotlivé reťazce tak, že všetky písmená v nich budú veľké.\n",
    "\n",
    "Príklad:\n",
    "```\n",
    "Vloz retazec: Prva veta\n",
    "Vloz retazec: Druha veta\n",
    "Vloz retazec: \n",
    "\n",
    "Kapitalizovane retazce:\n",
    "PRVA VETA\n",
    "DRUHA VETA\n",
    "```"
   ]
  },
  {
   "cell_type": "code",
   "execution_count": null,
   "metadata": {
    "collapsed": true
   },
   "outputs": [],
   "source": []
  },
  {
   "cell_type": "markdown",
   "metadata": {},
   "source": [
    "# Kapitalizácia viet v súbore\n",
    "\n",
    "Program z predošlej úlohy upravte tak, aby jednotlivé vety načítal zo súboru `02_vety_kapitalizacia.txt`. Kapitalizované vety vypisujte na obrazovku aj do súboru, ktorého názov načítate z klávesnice.\n",
    "\n",
    "Príklad:\n",
    "```\n",
    "Nacitane vety:\n",
    "Prva veta\n",
    "Druha veta\n",
    "Tretia veta\n",
    "\n",
    "Vloz nazov vystupneho suboru: vety_vystup.txt\n",
    "Kapitalizovane retazce:\n",
    "PRVA VETA\n",
    "DRUHA VETA\n",
    "TRETIA VETA\n",
    "```"
   ]
  },
  {
   "cell_type": "code",
   "execution_count": null,
   "metadata": {
    "collapsed": true
   },
   "outputs": [],
   "source": []
  },
  {
   "cell_type": "markdown",
   "metadata": {},
   "source": [
    "# Hra s číslami\n",
    "\n",
    "Na obrazovku vypíšte všetky čísla od 100 po 300 (vrátane) také, že:\n",
    "\n",
    "* majú všetky číslice párne (0 považujte za párnu číslicu)\n",
    "* majú všetky číslice rozdielne\n",
    "\n",
    "Príklad:\n",
    "```\n",
    "Iba parne cislice:\n",
    "202\n",
    "204\n",
    "206\n",
    "...\n",
    "\n",
    "Iba rozdielne cislice:\n",
    "102\n",
    "103\n",
    "...\n",
    "```"
   ]
  },
  {
   "cell_type": "code",
   "execution_count": null,
   "metadata": {
    "collapsed": true
   },
   "outputs": [],
   "source": []
  },
  {
   "cell_type": "markdown",
   "metadata": {},
   "source": [
    "# Štatistika emailových adries\n",
    "\n",
    "Zo súboru `02_emaily.txt` načítajte emailové adresy v tvare `uzivatel@firma.sk`:\n",
    "\n",
    "```\n",
    "janko@google.sk\n",
    "marienka@microsoft.cz\n",
    "anicka@ibm.sk\n",
    "ferko@google.cz\n",
    "jozko@ibm.cz\n",
    "katka@microsoft.sk\n",
    "janka@ibm.sk\n",
    "mirko@google.sk\n",
    "```\n",
    "Následne ich rozdeľte na užívateľa, firmu a krajinu. Na záver vypíšte štatistiku firiem a krajín podľa nasledovného príkladu:\n",
    "\n",
    "```\n",
    "Pocet emailov: 8\n",
    "Krajina CZ: 3\n",
    "Krajina SK: 5\n",
    "Firma google: 3\n",
    "Firma ibm: 3\n",
    "Firma microsoft: 2\n",
    "```"
   ]
  },
  {
   "cell_type": "code",
   "execution_count": 23,
   "metadata": {},
   "outputs": [
    {
     "name": "stdout",
     "output_type": "stream",
     "text": [
      "{'cz': 3, 'sk': 5}\n",
      "{'microsoft': 2, 'ibm': 3, 'google': 3}\n"
     ]
    }
   ],
   "source": []
  },
  {
   "cell_type": "markdown",
   "metadata": {},
   "source": [
    "# Analýza webových logov\n",
    "\n",
    "V súbore `02_logs.txt` sa nachádzajú (zjednodušené) logy prístupov na webové stránky nášho ústavu. Každý záznam je v tvare `datum cas stranka`:\n",
    "```\n",
    "21.2.2017 08:04 stranka_hlavna.php\n",
    "21.2.2017 08:10 stranka_hlavna.php\n",
    "21.2.2017 08:30 veda_a_vyskum.php\n",
    "21.2.2017 08:31 kontakty.php\n",
    "21.2.2017 08:31 rozvrh.php\n",
    "21.2.2017 08:33 rozvrh.php\n",
    "...\n",
    "```\n",
    "Jednotlivé záznamy načítajte a na obrazovky vypíšte štatistiku a frekvenciu návštev jednotlivých stránok zoradených od najviac navštevovanej po najmenej navštevovanú.\n",
    "\n",
    "Príklad:\n",
    "```\n",
    "stranka_hlavna.php: 12\n",
    "kontakty.php: 10\n",
    "rozvrh.php: 8\n",
    "veda_a_vyskum.php: 4\n",
    "```"
   ]
  },
  {
   "cell_type": "code",
   "execution_count": 47,
   "metadata": {},
   "outputs": [
    {
     "name": "stdout",
     "output_type": "stream",
     "text": [
      "stranka_hlavna.php: 12\n",
      "kontakty.php: 10\n",
      "rozvrh.php: 8\n",
      "veda_a_vyskum.php: 4\n"
     ]
    }
   ],
   "source": []
  },
  {
   "cell_type": "markdown",
   "metadata": {},
   "source": [
    "# Štatistika súborov v adresári\n",
    "\n",
    "V súbore `02_subory.txt` je zoznam súborov v adresári v nasledovnom tvare:\n",
    "```\n",
    "-rw-r--r--@  1 michal  staff   3.1K Sep 21  2012 main.css\n",
    "-rw-r--r--@  1 michal  staff   8.2K Sep 21  2012 main.js\n",
    "-rw-r--r--@  1 michal  staff   492B Sep 21  2012 mainIE.css\n",
    "-rw-r--r--@  1 michal  staff   128B Sep 21  2012 mainMoz.css\n",
    "-rw-r--r--@  1 michal  staff   586B Sep 21  2012 main2.js\n",
    "-rw-r--r--@  1 michal  staff   6.5K Sep 21  2012 shapeimage_1.png\n",
    "-rw-r--r--@  1 michal  staff   4.5K Sep 21  2012 shapeimage_2.png\n",
    "-rw-r--r--@  1 michal  staff   2.9K Sep 21  2012 shapeimage_3.png\n",
    "-rw-r--r--@  1 michal  staff    14K Sep 21  2012 shapeimage_4.png\n",
    "```\n",
    "\n",
    "Analyzujte tento súbor a na obrazovku vypíšte štatistiku jednotlivých typov súborov (určených podľa ich koncovky) v tvare:\n",
    "\n",
    "```\n",
    "pripona | pocet suborov | celkova velkost\n",
    "-----------------------------------------\n",
    "    png |       4       |     27.9K\n",
    "     js |       2       |      8.8K\n",
    "   .css |       3       |      3.8K\n",
    "```\n",
    "\n",
    "Dbajte na:\n",
    "\n",
    "* správny prepočet medzi bajtami (B) a kilobajtami (K) podľa vzorca K=B/1024, celkovú veľkosť zaokrúhlite na jedno desatinné číslo smerom hore\n",
    "* správne odsadenie podľa vzoru (príponu doprava, cisla na stred jednotlivých stĺpcov)\n",
    "* správne zoradenie podľa celkovej veľkosti"
   ]
  },
  {
   "cell_type": "code",
   "execution_count": 69,
   "metadata": {},
   "outputs": [
    {
     "name": "stdout",
     "output_type": "stream",
     "text": [
      "{'js': 8.9, 'css': 3.9000000000000004, 'png': 28.0}\n",
      "{'js': 2, 'css': 3, 'png': 4}\n"
     ]
    }
   ],
   "source": []
  }
 ],
 "metadata": {
  "kernelspec": {
   "display_name": "Python 3",
   "language": "python",
   "name": "python3"
  },
  "language_info": {
   "codemirror_mode": {
    "name": "ipython",
    "version": 3
   },
   "file_extension": ".py",
   "mimetype": "text/x-python",
   "name": "python",
   "nbconvert_exporter": "python",
   "pygments_lexer": "ipython3",
   "version": "3.6.2"
  }
 },
 "nbformat": 4,
 "nbformat_minor": 1
}