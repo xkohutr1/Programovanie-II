{
 "cells": [
  {
   "cell_type": "markdown",
   "metadata": {},
   "source": [
    "# `numpy`\n",
    "\n",
    "* `numpy` je knižnica na vedecké výpočty v Pythone\n",
    "* Podporuje:\n",
    "    * vektory a matice\n",
    "    * lineárnu algebru (riešenie systémov rovníc)\n",
    "    * vykresľovanie (cez knižnicu `matplotlib`)\n",
    "* V princípe funguje podobne ako MATLAB\n",
    "\n",
    "## Dôležité odkazy\n",
    "\n",
    "* Hlavná stránka: http://www.numpy.org\n",
    "* `numpy` pre používateľov MATLABu: https://docs.scipy.org/doc/numpy-dev/user/numpy-for-matlab-users.html\n",
    "* Tutoriál pre `numpy`: https://docs.scipy.org/doc/numpy-dev/user/quickstart.html"
   ]
  },
  {
   "cell_type": "markdown",
   "metadata": {},
   "source": [
    "## Importovanie knižnice `numpy`\n",
    "\n",
    "* Dlhý zápis:\n",
    "```\n",
    "import numpy\n",
    "vektor = numpy.funkcia(...)\n",
    "```\n",
    "\n",
    "* Skrátený zápis:\n",
    "```\n",
    "import numpy as np\n",
    "vektor = np.funkcia(...)\n",
    "```"
   ]
  },
  {
   "cell_type": "markdown",
   "metadata": {},
   "source": [
    "## Vektory a matice\n",
    "\n",
    "* Vektory a matice v `numpy` sú reprezentované triedou `array`.\n",
    "* Oboje je reprezentované zoznamom zoznamov\n",
    "    * vonkajší zoznam definuje riadky\n",
    "    * vnútorný zoznam definuje stĺpce\n",
    "* Riadkový vektor 1x3:\n",
    "```\n",
    "v1 = np.array( [ [1., 2., 3.] ] )\n",
    "```\n",
    "* Stĺpcový vektor 3x1:\n",
    "```\n",
    "v2 = np.array( [ [1.], [2.], [3.] ] )\n",
    "```\n",
    "* Matica 2x3:\n",
    "```\n",
    "m = np.array( [ [1., 2., 3.], [4., 5., 6.] ] )\n",
    "```"
   ]
  },
  {
   "cell_type": "code",
   "execution_count": 1,
   "metadata": {},
   "outputs": [
    {
     "name": "stdout",
     "output_type": "stream",
     "text": [
      "[[ 1.  2.  3.]]\n",
      "[[ 1.]\n",
      " [ 2.]\n",
      " [ 3.]]\n",
      "[[ 1.  2.  3.]\n",
      " [ 4.  5.  6.]]\n"
     ]
    }
   ],
   "source": [
    "import numpy as np\n",
    "v1 = np.array( [ [1., 2., 3.] ] )\n",
    "v2 = np.array( [ [1.], [2.], [3.] ] )\n",
    "m = np.array( [ [1., 2., 3.], [4., 5., 6.] ] )\n",
    "print(v1)\n",
    "print(v2)\n",
    "print(m)"
   ]
  },
  {
   "cell_type": "code",
   "execution_count": null,
   "metadata": {
    "collapsed": true
   },
   "outputs": [],
   "source": []
  },
  {
   "cell_type": "markdown",
   "metadata": {},
   "source": [
    "## Vypisovanie vektorov a matíc\n",
    "\n",
    "* Vypisovanie vektorov a matíc sa realizuje cez `print()`"
   ]
  },
  {
   "cell_type": "code",
   "execution_count": 92,
   "metadata": {},
   "outputs": [
    {
     "name": "stdout",
     "output_type": "stream",
     "text": [
      "Riadkovy vektor:\n",
      "[[ 1.  2.  3.]]\n",
      "\n",
      "Stlpcovy vektor:\n",
      "[[ 1.]\n",
      " [ 2.]\n",
      " [ 3.]]\n",
      "\n",
      "Matica:\n",
      "[[ 1.  2.  3.]\n",
      " [ 4.  5.  6.]]\n",
      "Vektor je [[ 1.]\n",
      " [ 2.]\n",
      " [ 3.]]\n",
      "Matica je [[ 1.  2.  3.]\n",
      " [ 4.  5.  6.]]\n"
     ]
    }
   ],
   "source": [
    "import numpy as np\n",
    "v1 = np.array([[1., 2., 3.]])\n",
    "v2 = np.array([[1.], [2.], [3.]])\n",
    "m = np.array([ [1., 2., 3.], [4., 5., 6.] ])\n",
    "print('Riadkovy vektor:')\n",
    "print(v1)\n",
    "print('\\nStlpcovy vektor:')\n",
    "print(v2)\n",
    "print('\\nMatica:')\n",
    "print(m)\n",
    "print('Vektor je %s' % (v2))\n",
    "print('Matica je {}'.format(m))"
   ]
  },
  {
   "cell_type": "markdown",
   "metadata": {},
   "source": [
    "## Zistenie veľkosti \n",
    "\n",
    "* Atribút `shape` obsahuje riadkovú a stĺpcovú veľkosť\n",
    "* Vracia dvojicu, ktorú je možné \"rozbaliť\":\n",
    "```\n",
    "riadky, stlpce = v1.shape\n",
    "print('v1 ma {} riadkov a {} stlpcov'.format(riadky, stlpce))\n",
    "```\n",
    "* Atribút `size` obsahuje počet prvkov:\n",
    "```\n",
    "pocet = m.size\n",
    "print('Matica ma %d prvkov' % pocet)\n",
    "```"
   ]
  },
  {
   "cell_type": "code",
   "execution_count": 93,
   "metadata": {},
   "outputs": [
    {
     "name": "stdout",
     "output_type": "stream",
     "text": [
      "v1 ma 1 riadkov a 3 stlpcov\n",
      "Matica ma 6 prvkov\n"
     ]
    }
   ],
   "source": [
    "riadky, stlpce = v1.shape\n",
    "print('v1 ma {} riadkov a {} stlpcov'.format(riadky, stlpce))\n",
    "pocet = m.size\n",
    "print('Matica ma %d prvkov' % pocet)"
   ]
  },
  {
   "cell_type": "markdown",
   "metadata": {},
   "source": [
    "## Tvorba špeciálnych matíc\n",
    "\n",
    "* Nulovú maticu vytvoríme funkciou `zeros`\n",
    "* Vstupom je dvojica (počet riadkov a počet stĺpcov)\n",
    "```\n",
    "nulova = np.zeros( (3, 4) )\n",
    "print(nulova)\n",
    "```\n",
    "* Maticu jednotiek vytvoríme funkciou `ones`\n",
    "```\n",
    "jednotky = np.ones( (2, 1) )\n",
    "```\n",
    "* Jednotkovú maticu vytvoríme funkciou `eye`\n",
    "```\n",
    "I = np.eye(3)\n",
    "```"
   ]
  },
  {
   "cell_type": "code",
   "execution_count": 27,
   "metadata": {},
   "outputs": [
    {
     "name": "stdout",
     "output_type": "stream",
     "text": [
      "[[ 0.  0.  0.  0.]\n",
      " [ 0.  0.  0.  0.]\n",
      " [ 0.  0.  0.  0.]]\n",
      "[[ 1.]\n",
      " [ 1.]]\n",
      "[[ 1.  0.  0.]\n",
      " [ 0.  1.  0.]\n",
      " [ 0.  0.  1.]]\n"
     ]
    }
   ],
   "source": [
    "nulova = np.zeros( (3, 4) )\n",
    "jednotky = np.ones( (2, 1) )\n",
    "I = np.eye(3)\n",
    "print(nulova)\n",
    "print(jednotky)\n",
    "print(I)"
   ]
  },
  {
   "cell_type": "markdown",
   "metadata": {},
   "source": [
    "## Indexovanie a rezanie\n",
    "\n",
    "* Vektory a matice indexujeme ako zoznamy\n",
    "* Nezabudnite, že Python indexuje od nuly\n",
    "```\n",
    "M = np.array( [ [1., 2., 3.], [4., 5., 6.] ])\n",
    "print(M[0, 0])\n",
    "```\n",
    "* Posledný riadok/stĺpec majú index -1\n",
    "```\n",
    "print(M[-1, -1])\n",
    "```\n",
    "* Vektor a maticu je možné \"rozrezať\" na časti:\n",
    "```\n",
    "M = np.array( [ [1., 2., 3.], [4., 5., 6.] ])\n",
    "prvy_riadok = M[0, :]\n",
    "print(prvy_riadok)\n",
    "```"
   ]
  },
  {
   "cell_type": "code",
   "execution_count": 40,
   "metadata": {},
   "outputs": [
    {
     "name": "stdout",
     "output_type": "stream",
     "text": [
      "1.0\n",
      "6.0\n",
      "2.0\n"
     ]
    }
   ],
   "source": [
    "M = np.array( [ [1., 2., 3.], [4., 5., 6.] ])\n",
    "V = np.array( [[1., 2., 3.]])\n",
    "W = np.array( [ [1.], [2.], [3.] ])\n",
    "print(M[0, 0])\n",
    "print(M[-1, -1])\n",
    "print(V[0, 1])"
   ]
  },
  {
   "cell_type": "code",
   "execution_count": 77,
   "metadata": {},
   "outputs": [
    {
     "name": "stdout",
     "output_type": "stream",
     "text": [
      "[ 1.  2.  3.]\n",
      "[ 1.  2.  3.]\n"
     ]
    }
   ],
   "source": [
    "M = np.array( [ [1., 2., 3.], [4., 5., 6.] ])\n",
    "prvy_riadok = M[0, :]\n",
    "print(prvy_riadok)\n",
    "prvy_riadok = M[0, :]\n",
    "print(prvy_riadok)"
   ]
  },
  {
   "cell_type": "markdown",
   "metadata": {},
   "source": [
    "## Kopírovanie\n",
    "\n",
    "* Priradenie `y = x` vytvára iba odkaz!\n",
    "```\n",
    "x = np.array( [ [1.] ] )\n",
    "y = x\n",
    "y[0, 0] = 2\n",
    "```\n",
    "* Kópia vektora/matice sa spraví cez `copy()':\n",
    "```\n",
    "y = x.copy()\n",
    "y[0] = 3\n",
    "```"
   ]
  },
  {
   "cell_type": "code",
   "execution_count": 67,
   "metadata": {},
   "outputs": [
    {
     "name": "stdout",
     "output_type": "stream",
     "text": [
      "[[ 2.]] [[ 2.]]\n",
      "[[ 2.]] [[ 3.]]\n"
     ]
    }
   ],
   "source": [
    "x = np.array( [ [1.] ] )\n",
    "y = x\n",
    "y[0, 0] = 2\n",
    "print(x, y)\n",
    "\n",
    "y = x.copy()\n",
    "y[0] = 3\n",
    "print(x, y)"
   ]
  },
  {
   "cell_type": "markdown",
   "metadata": {},
   "source": [
    "## Poznámka k indexovaniu a rezaniu\n",
    "\n",
    "* Pri indexovaní a rezaní sa vracia pohľad (view)\n",
    "* Pri zmene pohľadu sa mení aj pôvodný objekt:\n",
    "```\n",
    "M = np.array([ [ 1., 2., 3. ] ])\n",
    "p = M[0, 1:3]\n",
    "p[1] = 4\n",
    "```\n",
    "* Ak chceme modifikovať iba pohľad, musíme ho kopírovať:\n",
    "```\n",
    "q = M[0, 1:3].copy()\n",
    "q[1] = 5\n",
    "```"
   ]
  },
  {
   "cell_type": "code",
   "execution_count": 90,
   "metadata": {},
   "outputs": [
    {
     "name": "stdout",
     "output_type": "stream",
     "text": [
      "[ 2.  3.]\n",
      "[ 2.  4.]\n",
      "[[ 1.  2.  4.]]\n",
      "[ 2.  5.]\n",
      "[[ 1.  2.  4.]]\n"
     ]
    }
   ],
   "source": [
    "M = np.array([ [ 1., 2., 3. ] ])\n",
    "p = M[0, 1:3]\n",
    "print(p)\n",
    "p[1] = 4\n",
    "print(p)\n",
    "print(M)\n",
    "q = M[0, 1:3].copy()\n",
    "q[1] = 5\n",
    "print(q)\n",
    "print(M)"
   ]
  },
  {
   "cell_type": "markdown",
   "metadata": {},
   "source": [
    "## Matematické funkcie\n",
    "\n",
    "* Transpozícia vektora/matice:\n",
    "```\n",
    "M = np.array( [ [1., 2., 3.], [4., 5., 6.] ])\n",
    "trans = M.transpose()\n",
    "```\n",
    "* Transpozícia vektora/matice::\n",
    "```\n",
    "trans = M.T\n",
    "```\n",
    "* Násobenie vektorov a matíc (musia sedieť rozmery):\n",
    "```\n",
    "M = np.array( [ [1., 2., 3.], [4., 5., 6.] ])\n",
    "V = np.array( [ [1.], [2.], [3.] ])\n",
    "Z = M.dot(V)\n",
    "```"
   ]
  },
  {
   "cell_type": "code",
   "execution_count": 51,
   "metadata": {},
   "outputs": [
    {
     "name": "stdout",
     "output_type": "stream",
     "text": [
      "[[ 1.  4.]\n",
      " [ 2.  5.]\n",
      " [ 3.  6.]]\n",
      "[[ 14.]\n",
      " [ 32.]]\n"
     ]
    }
   ],
   "source": [
    "M = np.array( [ [1., 2., 3.], [4., 5., 6.] ])\n",
    "trans = M.transpose()\n",
    "print(trans)\n",
    "M = np.array( [ [1., 2., 3.], [4., 5., 6.] ])\n",
    "V = np.array( [ [1.], [2.], [3.] ])\n",
    "Z = M.dot(V)\n",
    "print(Z)"
   ]
  },
  {
   "cell_type": "markdown",
   "metadata": {},
   "source": [
    "## Operácie po prvkoch\n",
    "\n",
    "* Sčitovanie, odčitovanie, násobenie, delenie:\n",
    "```\n",
    "M1 = np.array( [ [1., 2., 3.], [4., 5., 6.] ])\n",
    "M2 = np.array( [ [7., 8., 9.], [10., 11., 12.] ])\n",
    "Q1 = M1 + M2\n",
    "Q2 = M1 - M2\n",
    "Q3 = M1 * M2\n",
    "Q4 = M1 / M2\n",
    "```\n",
    "* Umocnenie každého prvku:\n",
    "```\n",
    "Q5 = M1**3\n",
    "```\n",
    "* Vyhľadávanie\n",
    "```\n",
    "idx = M1>3.5\n",
    "```"
   ]
  },
  {
   "cell_type": "code",
   "execution_count": 97,
   "metadata": {},
   "outputs": [
    {
     "name": "stdout",
     "output_type": "stream",
     "text": [
      "[[  8.  10.  12.]\n",
      " [ 14.  16.  18.]]\n",
      "[[-6. -6. -6.]\n",
      " [-6. -6. -6.]]\n",
      "[[  7.  16.  27.]\n",
      " [ 40.  55.  72.]]\n",
      "[[ 0.14285714  0.25        0.33333333]\n",
      " [ 0.4         0.45454545  0.5       ]]\n",
      "[[   1.    8.   27.]\n",
      " [  64.  125.  216.]]\n",
      "[[False False False]\n",
      " [ True  True  True]]\n",
      "(array([0, 1, 1, 1]), array([2, 0, 1, 2]))\n",
      "[[  2.   4.   6.]\n",
      " [  8.  10.  12.]]\n"
     ]
    }
   ],
   "source": [
    "M1 = np.array( [ [1., 2., 3.], [4., 5., 6.] ])\n",
    "M2 = np.array( [ [7., 8., 9.], [10., 11., 12.] ])\n",
    "print(M1+M2)\n",
    "print(M1-M2)\n",
    "print(M1*M2)\n",
    "print(M1/M2)\n",
    "print(M1**3)\n",
    "print(M1>3.5)\n",
    "print(np.nonzero(M1>2.5))\n",
    "print(M1*2)\n",
    "#print(M1[np.nonzero(M1>2.5)])"
   ]
  },
  {
   "cell_type": "markdown",
   "metadata": {},
   "source": [
    "## Lineárna algebra\n",
    "\n",
    "* Je potrebné najskôr importovať `numpy.linalg`\n",
    "```\n",
    "import numpy.linalg as linalg\n",
    "```\n",
    "* Inverzia regulérnej matice:\n",
    "```\n",
    "M = np.array( [ [1., 2. ], [5., 6.] ] )\n",
    "I = linalg.inv(M)\n",
    "```\n",
    "* Hodnosť matice:\n",
    "```\n",
    "r = linalg.matrix_rank(M)\n",
    "```\n",
    "* Riešenie systému rovníc Ax=b (matica A štvorcová):\n",
    "```\n",
    "A = np.array( [ [1., 2. ], [5., 6.] ] )\n",
    "b = np.array( [ [3.], [4.] ])\n",
    "x = linalg.solve(A, b)\n",
    "```\n",
    "* Riešenie systému rovníc Ax=b (matica A neštvorcová):\n",
    "```\n",
    "x = linalg.lstsq(A, b)\n",
    "```\n",
    "* Zistenie vlastných čísel a vektorov:\n",
    "```\n",
    "V,D = linalg.eig(A)\n",
    "```"
   ]
  },
  {
   "cell_type": "code",
   "execution_count": 95,
   "metadata": {},
   "outputs": [
    {
     "name": "stdout",
     "output_type": "stream",
     "text": [
      "[[-1.5   0.5 ]\n",
      " [ 1.25 -0.25]]\n",
      "2\n",
      "[[-2.5 ]\n",
      " [ 2.75]]\n",
      "[-0.53112887  7.53112887]\n",
      "[[-0.79402877 -0.2928046 ]\n",
      " [ 0.60788018 -0.9561723 ]]\n"
     ]
    }
   ],
   "source": [
    "import numpy.linalg as linalg\n",
    "M = np.array( [ [1., 2. ], [5., 6.] ] )\n",
    "I = linalg.inv(M)\n",
    "print(I)\n",
    "r = linalg.matrix_rank(M)\n",
    "print(r)\n",
    "\n",
    "A = np.array( [ [1., 2. ], [5., 6.] ] )\n",
    "b = np.array( [ [3.], [4.] ])\n",
    "x = linalg.solve(A, b)\n",
    "print(x)\n",
    "\n",
    "V,D = linalg.eig(A)\n",
    "print(V)\n",
    "print(D)"
   ]
  }
 ],
 "metadata": {
  "kernelspec": {
   "display_name": "Python 3",
   "language": "python",
   "name": "python3"
  },
  "language_info": {
   "codemirror_mode": {
    "name": "ipython",
    "version": 3
   },
   "file_extension": ".py",
   "mimetype": "text/x-python",
   "name": "python",
   "nbconvert_exporter": "python",
   "pygments_lexer": "ipython3",
   "version": "3.6.2"
  }
 },
 "nbformat": 4,
 "nbformat_minor": 2
}
