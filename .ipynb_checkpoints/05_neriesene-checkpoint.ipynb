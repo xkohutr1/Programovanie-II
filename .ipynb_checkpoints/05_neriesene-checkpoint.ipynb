{
 "cells": [
  {
   "cell_type": "markdown",
   "metadata": {},
   "source": [
    "# Aproximácia dát\n",
    "\n",
    "V súbore `05_aproximacia.txt` sa nachádzajú dáta, pričom prvý stĺpec označuje experiment (označme ho `x`) a druhý jeho výsledok (`y`). Vytvorte program, ktorý:\n",
    "* načíta oba stĺpce do separátnych stĺpcových vektov\n",
    "* zistí najlepšiu aproximáciu týchto dát zvolenou funkciou `y = f(x)`, pričom funkcia `f` bude polynómom zvoleného \n",
    "stupňa (načítaný z klávesnice)\n",
    "* vypočíta aproximačnú chybu ako sumu štvorcov odchýliek $\\sum_{i=1}^m ( y_i - f(x_i) )^2$, kde $m$ je počet vzoriek\n",
    "\n",
    "Príklad:\n",
    "```\n",
    "Stupen polynomu: 1\n",
    "Najlepsia aproximacia: -183.852*x-7069.123\n",
    "Suma stvorcov odchyliek: 7.333E+9\n",
    "\n",
    "Stupen polynomu: 2\n",
    "Najlepsia aproximacia: 10.315*x^2-1225.651*x+10641.450\n",
    "Suma stvorcov odchyliek: 1.425E+9\n",
    "\n",
    "Stupen polynomu: 3\n",
    "Najlepsia aproximacia: 0.200*x^3-19.963*x^2+3.669*x+38.158\n",
    "Suma stvorcov odchyliek: 7.028E+5\n",
    "```"
   ]
  },
  {
   "cell_type": "code",
   "execution_count": null,
   "metadata": {
    "collapsed": true
   },
   "outputs": [],
   "source": []
  }
 ],
 "metadata": {
  "kernelspec": {
   "display_name": "Python 3",
   "language": "python",
   "name": "python3"
  },
  "language_info": {
   "codemirror_mode": {
    "name": "ipython",
    "version": 3
   },
   "file_extension": ".py",
   "mimetype": "text/x-python",
   "name": "python",
   "nbconvert_exporter": "python",
   "pygments_lexer": "ipython3",
   "version": "3.6.2"
  }
 },
 "nbformat": 4,
 "nbformat_minor": 2
}
