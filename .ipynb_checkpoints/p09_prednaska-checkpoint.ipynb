{
 "cells": [
  {
   "cell_type": "code",
   "execution_count": 29,
   "metadata": {},
   "outputs": [
    {
     "data": {
      "text/plain": [
       "<matplotlib.legend.Legend at 0x7efe4a6aae48>"
      ]
     },
     "execution_count": 29,
     "metadata": {},
     "output_type": "execute_result"
    },
    {
     "data": {
      "image/png": "[encoded data removed]",
      "text/plain": [
       "<matplotlib.figure.Figure at 0x7efe4a6aa278>"
      ]
     },
     "metadata": {},
     "output_type": "display_data"
    }
   ],
   "source": [
    "from scipy.interpolate import *\n",
    "import numpy as np\n",
    "import matplotlib.pyplot as plt\n",
    "\n",
    "x = np.linspace(0, 10, num=11)\n",
    "y = np.cos(-x**2/9.0)\n",
    "plt.plot(x, y, 'o')\n",
    "f1 = interp1d(x, y)\n",
    "f2 = interp1d(x, y, kind=2)\n",
    "xn = np.linspace(0, 10, num=41)\n",
    "plt.plot(xn, f1(xn), xn, f2(xn))\n",
    "plt.legend(['data', 'linear', 'quad'], loc='best')\n",
    "# "
   ]
  },
  {
   "cell_type": "code",
   "execution_count": 30,
   "metadata": {},
   "outputs": [
    {
     "name": "stdout",
     "output_type": "stream",
     "text": [
      "      fun: 4.3136529750579557e-16\n",
      " hess_inv: array([[ 0.84615384,  0.23076923],\n",
      "       [ 0.23076923,  0.65384616]])\n",
      "      jac: array([ -1.71968599e-08,  -1.14650716e-08])\n",
      "  message: 'Optimization terminated successfully.'\n",
      "     nfev: 16\n",
      "      nit: 2\n",
      "     njev: 4\n",
      "   status: 0\n",
      "  success: True\n",
      "        x: array([ 1.99999998, -3.00000001])\n"
     ]
    }
   ],
   "source": [
    "from scipy.optimize import minimize\n",
    "def ucelovka(x):\n",
    "    return (x[0]-2.0)**2 + (x[1]+3.0)**2\n",
    "\n",
    "x0 = [0.0, 0.0]\n",
    "vysledok = minimize(ucelovka, x0)\n",
    "print(vysledok)"
   ]
  },
  {
   "cell_type": "code",
   "execution_count": 33,
   "metadata": {},
   "outputs": [
    {
     "name": "stdout",
     "output_type": "stream",
     "text": [
      "     fun: 9.7999999999999989\n",
      "     jac: array([-5.5999999 ,  2.80000007,  0.        ])\n",
      " message: 'Optimization terminated successfully.'\n",
      "    nfev: 9\n",
      "     nit: 2\n",
      "    njev: 2\n",
      "  status: 0\n",
      " success: True\n",
      "       x: array([-0.8, -1.6])\n",
      "[-0.8 -1.6]\n"
     ]
    }
   ],
   "source": [
    "def ineq1(x):\n",
    "    return x[0] - x[1]\n",
    "def eq1(x):\n",
    "    return 2*x[0] - x[1]\n",
    "ohranicenia = [{'type': 'ineq', 'fun': ineq1 },\n",
    "               {'type': 'eq', 'fun': eq1}]\n",
    "x0 = [0.0, 0.0]\n",
    "vysledok = minimize(ucelovka, x0, constraints=ohranicenia)\n",
    "print(vysledok)\n",
    "print(vysledok.x)"
   ]
  },
  {
   "cell_type": "code",
   "execution_count": 8,
   "metadata": {},
   "outputs": [
    {
     "data": {
      "text/plain": [
       "[<matplotlib.lines.Line2D at 0x7fea5b212f60>,\n",
       " <matplotlib.lines.Line2D at 0x7fea5b218240>,\n",
       " <matplotlib.lines.Line2D at 0x7fea5b218a90>]"
      ]
     },
     "execution_count": 8,
     "metadata": {},
     "output_type": "execute_result"
    },
    {
     "data": {
      "image/png": "[encoded data removed]",
      "text/plain": [
       "<matplotlib.figure.Figure at 0x7fea5b286198>"
      ]
     },
     "metadata": {},
     "output_type": "display_data"
    }
   ],
   "source": [
    "from scipy.optimize import *\n",
    "import numpy as np\n",
    "import matplotlib.pyplot as plt\n",
    "def f(x):\n",
    "    return np.cos(14.5*x - 0.3) + (x + 0.2)*x\n",
    "x0 = 2.5\n",
    "lok = minimize(f, x0)\n",
    "glob = basinhopping(f, x0)\n",
    "\n",
    "x = np.linspace(-5, 5, num=1000)\n",
    "plt.plot(x, f(x), \n",
    "         lok.x, lok.fun, 'ro',\n",
    "         glob.x, glob.fun, 'go')"
   ]
  },
  {
   "cell_type": "code",
   "execution_count": 44,
   "metadata": {},
   "outputs": [
    {
     "name": "stdout",
     "output_type": "stream",
     "text": [
      "     fun: -8.0\n",
      " message: 'Optimization terminated successfully.'\n",
      "     nit: 1\n",
      "   slack: array([ 4.,  0.,  5.])\n",
      "  status: 0\n",
      " success: True\n",
      "       x: array([ 0.,  2.])\n"
     ]
    }
   ],
   "source": [
    "from scipy.optimize import linprog\n",
    "c = [1, -4]\n",
    "A = [ [-3, 1], [1, 2], [0, -1] ]\n",
    "b = [6, 4, 3]\n",
    "vysledok = linprog(c, A_ub=A, b_ub=b)\n",
    "print(vysledok)"
   ]
  },
  {
   "cell_type": "code",
   "execution_count": 50,
   "metadata": {},
   "outputs": [
    {
     "name": "stdout",
     "output_type": "stream",
     "text": [
      "[ 2.19446983  1.6103342   0.80168012]\n"
     ]
    },
    {
     "data": {
      "text/plain": [
       "[<matplotlib.lines.Line2D at 0x7efe4834a0f0>,\n",
       " <matplotlib.lines.Line2D at 0x7efe4834aac8>]"
      ]
     },
     "execution_count": 50,
     "metadata": {},
     "output_type": "execute_result"
    },
    {
     "data": {
      "image/png": "[encoded data removed]",
      "text/plain": [
       "<matplotlib.figure.Figure at 0x7efe484f4198>"
      ]
     },
     "metadata": {},
     "output_type": "display_data"
    }
   ],
   "source": [
    "from scipy.optimize import curve_fit\n",
    "def funkcia(x, a, b, c):\n",
    "    # fitovacia funkcia s parametrami a, b, c\n",
    "    return a*np.exp(-b*x) + c\n",
    "x = [0.0, 1.0, 2.0, 3.0, 4.0]\n",
    "y = [3.0, 1.2, 1.0, 0.8, 0.75]\n",
    "p, _ = curve_fit(funkcia, x, y)\n",
    "print(p)\n",
    "xn = np.linspace(0, 4, num=100)\n",
    "plt.plot(x, y, 'o', xn, funkcia(xn, *p))"
   ]
  },
  {
   "cell_type": "code",
   "execution_count": 97,
   "metadata": {},
   "outputs": [
    {
     "name": "stdout",
     "output_type": "stream",
     "text": [
      "[ 1.  3.  3.]\n",
      "[[ 0.          0.        ]\n",
      " [ 0.26424112  0.10363832]\n",
      " [ 0.32975303  0.43770281]\n",
      " [ 0.07473702  0.65577505]\n",
      " [-0.189427    0.59028793]]\n"
     ]
    },
    {
     "ename": "TypeError",
     "evalue": "unsupported operand type(s) for *: 'StateSpace' and 'StateSpace'",
     "output_type": "error",
     "traceback": [
      "\u001b[0;31m---------------------------------------------------------------------------\u001b[0m",
      "\u001b[0;31mTypeError\u001b[0m                                 Traceback (most recent call last)",
      "\u001b[0;32m<ipython-input-97-567b41f2a4f1>\u001b[0m in \u001b[0;36m<module>\u001b[0;34m()\u001b[0m\n\u001b[1;32m     14\u001b[0m \u001b[0mplt\u001b[0m\u001b[0;34m.\u001b[0m\u001b[0mplot\u001b[0m\u001b[0;34m(\u001b[0m\u001b[0mt\u001b[0m\u001b[0;34m,\u001b[0m \u001b[0my\u001b[0m\u001b[0;34m)\u001b[0m\u001b[0;34m\u001b[0m\u001b[0m\n\u001b[1;32m     15\u001b[0m \u001b[0mprint\u001b[0m\u001b[0;34m(\u001b[0m\u001b[0mz\u001b[0m\u001b[0;34m)\u001b[0m\u001b[0;34m\u001b[0m\u001b[0m\n\u001b[0;32m---> 16\u001b[0;31m \u001b[0mq\u001b[0m \u001b[0;34m=\u001b[0m \u001b[0msys\u001b[0m\u001b[0;34m*\u001b[0m\u001b[0msys\u001b[0m\u001b[0;34m\u001b[0m\u001b[0m\n\u001b[0m",
      "\u001b[0;31mTypeError\u001b[0m: unsupported operand type(s) for *: 'StateSpace' and 'StateSpace'"
     ]
    },
    {
     "data": {
      "image/png": "[encoded data removed]",
      "text/plain": [
       "<matplotlib.figure.Figure at 0x7efe45cbbf60>"
      ]
     },
     "metadata": {},
     "output_type": "display_data"
    }
   ],
   "source": [
    "from scipy import signal\n",
    "tf = signal.TransferFunction([1, 3, 3], [1, 2, 1])\n",
    "print(tf.num)\n",
    "# t, y = signal.step(tf)\n",
    "# t, y = signal.step(tf, T=n7p.linspace(0, 10))\n",
    "# t, y = signal.impulse(tf, T=np.linspace(0, 10))\n",
    "t, y = signal.impulse(tf)\n",
    "# t, y = signal.step(tf)\n",
    "# plt.plot(t, y)\n",
    "U = [0.0, 1.0, 1.0, 0.5, 0.0]\n",
    "T = [0, 1, 2, 3, 4]\n",
    "# T = np.linspace(0, 20)\n",
    "t, y, z = signal.lsim(tf, U, T)\n",
    "plt.plot(t, y)\n",
    "print(z)\n"
   ]
  },
  {
   "cell_type": "code",
   "execution_count": 96,
   "metadata": {},
   "outputs": [
    {
     "name": "stdout",
     "output_type": "stream",
     "text": [
      "StateSpace(\n",
      "array([[0, 1],\n",
      "       [0, 0]]),\n",
      "array([[0],\n",
      "       [1]]),\n",
      "array([[1, 0]]),\n",
      "array([[0]])\n",
      ")\n",
      "[ 1.  0.  0.]\n",
      "TransferFunction(\n",
      "array([ 1.]),\n",
      "array([ 1.,  0.,  0.])\n",
      ")\n",
      "StateSpace(\n",
      "array([[-0., -0.],\n",
      "       [ 1.,  0.]]),\n",
      "array([[ 1.],\n",
      "       [ 0.]]),\n",
      "array([[ 0.,  1.]]),\n",
      "array([[ 0.]])\n",
      ")\n"
     ]
    },
    {
     "name": "stderr",
     "output_type": "stream",
     "text": [
      "/opt/conda/lib/python3.5/site-packages/scipy/signal/filter_design.py:1057: BadCoefficients: Badly conditioned filter coefficients (numerator): the results may be meaningless\n",
      "  \"results may be meaningless\", BadCoefficients)\n"
     ]
    },
    {
     "data": {
      "text/plain": [
       "[<matplotlib.lines.Line2D at 0x7efe45c1a550>]"
      ]
     },
     "execution_count": 96,
     "metadata": {},
     "output_type": "execute_result"
    },
    {
     "data": {
      "image/png": "[encoded data removed]",
      "text/plain": [
       "<matplotlib.figure.Figure at 0x7efe45cfaf60>"
      ]
     },
     "metadata": {},
     "output_type": "display_data"
    }
   ],
   "source": [
    "A = [ [0, 1], [0, 0] ]\n",
    "B = [ [0], [1] ]\n",
    "C = [ [1, 0] ]\n",
    "D = [ [0] ]\n",
    "sys = signal.StateSpace(A, B, C, D)\n",
    "print(sys)\n",
    "tf = sys.to_tf()\n",
    "print(tf.den)\n",
    "print(signal.TransferFunction(sys))\n",
    "print(signal.StateSpace(tf))\n",
    "tt = signal.TransferFunction(sys)\n",
    "t, y = signal.step(sys)\n",
    "plt.plot(t, y)"
   ]
  },
  {
   "cell_type": "code",
   "execution_count": 108,
   "metadata": {},
   "outputs": [
    {
     "name": "stdout",
     "output_type": "stream",
     "text": [
      "[  0.   1.   2.   3.   4.   5.   6.   7.   8.   9.  10.]\n"
     ]
    }
   ],
   "source": [
    "from scipy import integrate\n",
    "def kvadrat(x):\n",
    "    return x**2\n",
    "integral, chyba = integrate.quad(kvadrat, 1.5, 5)\n",
    "# i2, c2 = integrate.trapz(kvadrat, 1.5, 5)\n",
    "# print(i2, c2)\n",
    "# print(integral)\n",
    "# print(chyba)\n",
    "print(np.linspace(0, 10, 11))"
   ]
  }
 ],
 "metadata": {
  "kernelspec": {
   "display_name": "Python 3",
   "language": "python",
   "name": "python3"
  },
  "language_info": {
   "codemirror_mode": {
    "name": "ipython",
    "version": 3
   },
   "file_extension": ".py",
   "mimetype": "text/x-python",
   "name": "python",
   "nbconvert_exporter": "python",
   "pygments_lexer": "ipython3",
   "version": "3.6.2"
  }
 },
 "nbformat": 4,
 "nbformat_minor": 2
}
