{
 "cells": [
  {
   "cell_type": "markdown",
   "metadata": {},
   "source": [
    "Zo súboru `04_cisla.txt` načítajte všetky čísla a na obrazovku vypíšte ich sumu. Pri konverzii reťazcov na čísla ošetrite výnimky, keď načítaný reťazec nie je preložiteľný na číslo."
   ]
  },
  {
   "cell_type": "code",
   "execution_count": null,
   "metadata": {
    "collapsed": true
   },
   "outputs": [],
   "source": []
  },
  {
   "cell_type": "markdown",
   "metadata": {},
   "source": [
    "Zistite a na obrazovku vypíšte aktuálny pracovný adresár."
   ]
  },
  {
   "cell_type": "code",
   "execution_count": null,
   "metadata": {},
   "outputs": [],
   "source": []
  },
  {
   "cell_type": "markdown",
   "metadata": {},
   "source": [
    "Zmeňte pracovný adresár na \"o úroveň vyššie\" (relatívna cesta `\"..\"`)."
   ]
  },
  {
   "cell_type": "code",
   "execution_count": null,
   "metadata": {},
   "outputs": [],
   "source": []
  },
  {
   "cell_type": "markdown",
   "metadata": {},
   "source": [
    "Zmeňte pracovný adresár na `/notebooks/prg2/2017/vase_priezvisko/`."
   ]
  },
  {
   "cell_type": "code",
   "execution_count": null,
   "metadata": {
    "collapsed": true
   },
   "outputs": [],
   "source": []
  },
  {
   "cell_type": "markdown",
   "metadata": {},
   "source": [
    "Z klávesnice načítajte názov adresára, do ktorého sa chcete presunúť. Ošetrite výnimku, ak adresár neexistuje."
   ]
  },
  {
   "cell_type": "code",
   "execution_count": null,
   "metadata": {},
   "outputs": [],
   "source": []
  },
  {
   "cell_type": "markdown",
   "metadata": {},
   "source": [
    "Zmeňte aktuálny pracovný adresár na `/notebooks/prg2/2017/vase_priezvisko/` a vytvorte v ňom nový adresár nazvaný `\"docasny\"`."
   ]
  },
  {
   "cell_type": "code",
   "execution_count": null,
   "metadata": {},
   "outputs": [],
   "source": []
  },
  {
   "cell_type": "markdown",
   "metadata": {},
   "source": [
    "Na obrazovku vypíšte názvy súborov v aktuálnom adresári. Každý súbor vypíšte na samostatný riadok."
   ]
  },
  {
   "cell_type": "code",
   "execution_count": null,
   "metadata": {},
   "outputs": [],
   "source": []
  },
  {
   "cell_type": "markdown",
   "metadata": {},
   "source": [
    "Zistite a na obrazovku vypíšte veľkosť súboru `01_precvicovanie.ipynb` prepočítanú na kilobajty."
   ]
  },
  {
   "cell_type": "code",
   "execution_count": null,
   "metadata": {},
   "outputs": [],
   "source": []
  },
  {
   "cell_type": "markdown",
   "metadata": {},
   "source": [
    "Na obrazovku vypíšte zoznam súborov v aktuálnom adresári a ku každému zobrazte jeho veľkosť. Ak je veľkosť menšia ako 1024 bajtov, použite bajty. V opačnom prípade veľkosť prepočítajte na kilobajty."
   ]
  },
  {
   "cell_type": "code",
   "execution_count": null,
   "metadata": {},
   "outputs": [],
   "source": []
  },
  {
   "cell_type": "markdown",
   "metadata": {},
   "source": [
    "Vytvorte nový súbor `04_mocniny.txt`, do ktorého uložíte druhé mocniny čísel od 3 po `x`, kde `x` načítate z klávesnice (cez try-except ošetrite situáciu, keď užívateľ vloží neplatný údaj, napríklad nezmyselný reťazec). Následne z klávesnice načítajte nový názov súboru a ten starý premenujte na nový názov."
   ]
  },
  {
   "cell_type": "code",
   "execution_count": null,
   "metadata": {},
   "outputs": [],
   "source": []
  },
  {
   "cell_type": "markdown",
   "metadata": {},
   "source": [
    "Vytvorte nový adresár `04_vysledky` a v ňom vytvorte súbory nazvané `01.txt` až `15.txt`. Následne zobrazte zoznam súborov v tomto adresári (každý súbor na nový riadok)."
   ]
  },
  {
   "cell_type": "code",
   "execution_count": null,
   "metadata": {},
   "outputs": [],
   "source": []
  },
  {
   "cell_type": "markdown",
   "metadata": {},
   "source": [
    "Z klávesníce načítajte celé číslo `x` a z adresára `03_vysledky` vymažte súbor `x.txt`. Ak `x` má iba jednu číslicu, automaticky ju rozšírte na dve pridaním nuly, takže ak `x=3`, vymaže sa súbor `03.txt`. Cez výnimky ošetrite situáciu, keď užívateľ chce vymazať neexistujúci súbor. Pred aj po vymazaní zobrazte zoznam súborov na obrazovku."
   ]
  },
  {
   "cell_type": "code",
   "execution_count": null,
   "metadata": {},
   "outputs": [],
   "source": []
  }
 ],
 "metadata": {
  "kernelspec": {
   "display_name": "Python 3",
   "language": "python",
   "name": "python3"
  },
  "language_info": {
   "codemirror_mode": {
    "name": "ipython",
    "version": 3
   },
   "file_extension": ".py",
   "mimetype": "text/x-python",
   "name": "python",
   "nbconvert_exporter": "python",
   "pygments_lexer": "ipython3",
   "version": "3.6.2"
  }
 },
 "nbformat": 4,
 "nbformat_minor": 1
}
