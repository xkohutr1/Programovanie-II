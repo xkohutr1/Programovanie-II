{
 "cells": [
  {
   "cell_type": "code",
   "execution_count": 1,
   "metadata": {},
   "outputs": [
    {
     "name": "stdout",
     "output_type": "stream",
     "text": [
      "[  0.           0.52631579   1.05263158   1.57894737   2.10526316\n",
      "   2.63157895   3.15789474   3.68421053   4.21052632   4.73684211\n",
      "   5.26315789   5.78947368   6.31578947   6.84210526   7.36842105\n",
      "   7.89473684   8.42105263   8.94736842   9.47368421  10.        ]\n",
      "[ 0.          0.50235115  0.86872962  0.99996678  0.86054034  0.48818921\n",
      " -0.01630136 -0.5163796  -0.87668803 -0.99970104 -0.85212237 -0.47389753\n",
      "  0.03259839  0.53027082  0.88441346  0.99916962  0.84347795  0.4594799\n",
      " -0.04888676 -0.54402111]\n"
     ]
    }
   ],
   "source": [
    "import numpy as np\n",
    "\n",
    "a = np.array([[1, 2], [3, 4]])\n",
    "b = np.array([[1], [2]])\n",
    "x = np.linspace(0, 10, 20)\n",
    "print(x)\n",
    "print(np.sin(x))"
   ]
  },
  {
   "cell_type": "code",
   "execution_count": 5,
   "metadata": {},
   "outputs": [
    {
     "name": "stdout",
     "output_type": "stream",
     "text": [
      "[[ 0.  0.]\n",
      " [ 0.  0.]\n",
      " [ 0.  0.]\n",
      " [ 0.  0.]\n",
      " [ 0.  0.]]\n",
      "[ 0.          0.10526316  0.21052632  0.31578947  0.42105263  0.52631579\n",
      "  0.63157895  0.73684211  0.84210526  0.94736842  1.05263158  1.15789474\n",
      "  1.26315789  1.36842105  1.47368421  1.57894737  1.68421053  1.78947368\n",
      "  1.89473684  2.        ]\n"
     ]
    }
   ],
   "source": [
    "import numpy as np \n",
    "x = np.zeros((5,2))\n",
    "print(x)\n",
    "print(np.linspace(0, 2, 20))"
   ]
  },
  {
   "cell_type": "code",
   "execution_count": 7,
   "metadata": {},
   "outputs": [
    {
     "data": {
      "image/png": "[encoded data removed]",
      "text/plain": [
       "<matplotlib.figure.Figure at 0x7fc3d3758048>"
      ]
     },
     "metadata": {},
     "output_type": "display_data"
    }
   ],
   "source": [
    "import numpy as np \n",
    "from matplotlib import pyplot as plt \n",
    "\n",
    "x = np.arange(1,11) \n",
    "y = 2 * x + 5 \n",
    "plt.title(\"Matplotlib demo\") \n",
    "plt.xlabel(\"x axis caption\") \n",
    "plt.ylabel(\"y axis caption\") \n",
    "plt.plot(x,y) \n",
    "plt.show()"
   ]
  },
  {
   "cell_type": "code",
   "execution_count": 4,
   "metadata": {},
   "outputs": [
    {
     "name": "stdout",
     "output_type": "stream",
     "text": [
      "['b1_1', 'b1_2']\n",
      "['b2_1']\n"
     ]
    }
   ],
   "source": [
    "class BananaBunch:\n",
    "    def __init__(self):\n",
    "        self.bananas = []\n",
    "    def addBanana(self, banana):\n",
    "        self.bananas.append(banana)\n",
    "\n",
    "b1 = BananaBunch();\n",
    "b2 = BananaBunch();\n",
    "b1.addBanana('b1_1')\n",
    "b1.addBanana('b1_2')\n",
    "b2.addBanana('b2_1')\n",
    "print(b1.bananas)\n",
    "print(b2.bananas)"
   ]
  }
 ],
 "metadata": {
  "kernelspec": {
   "display_name": "Python 3",
   "language": "python",
   "name": "python3"
  },
  "language_info": {
   "codemirror_mode": {
    "name": "ipython",
    "version": 3
   },
   "file_extension": ".py",
   "mimetype": "text/x-python",
   "name": "python",
   "nbconvert_exporter": "python",
   "pygments_lexer": "ipython3",
   "version": "3.6.2"
  }
 },
 "nbformat": 4,
 "nbformat_minor": 1
}
