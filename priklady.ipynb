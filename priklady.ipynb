{
 "cells": [
  {
   "cell_type": "markdown",
   "metadata": {
    "deletable": true,
    "editable": true
   },
   "source": [
    "## Evidencia dronov\n",
    "\n",
    "Založili ste si firmu na doručovanie zásielok pomocou dronov. Každý dron má pritom pridelený jedinečný identifikátor v tvare celého kladného čísla (kľudne uvažujte interval od 1 po N, kde N je počet dronov). Keď dron odletí zo základne k zákazníkovy, jeho ID sa pridá do zoznamu. Rovnako sa toto ID pridá do zoznamu aj po pristáti drona nazad na základni. Teda zoznam `[1, 2, 1]` znamená, že dron č. 1 je na základni (lebo vzlietol aj pristál), zatiaľ čo dron č. 2 je vo vzduchu, keďže nemáme evidovaný jeho prílet.\n",
    "\n",
    "Vytvorte program, ktorý na základe známeho zoznamu identifikátorov zistí, ktoré drony sa nachádzajú na základni a ktoré sú vo vzduchu.\n",
    "\n",
    "Príklad č. 1:\n",
    "```\n",
    "zoznam = [1, 2, 3, 2, 2, 4, 5, 1, 6, 1, 2, 7, 8, 3, 5, 1, 8, 7, 3, 4, 5, 1, 6, 4]\n",
    "Na zakladni: 2, 6, 7, 8\n",
    "Vo vzduchu: 1, 3, 4, 5\n",
    "```\n",
    "\n",
    "Príklad č. 2:\n",
    "```\n",
    "zoznam = [1, 2, 3, 2, 2, 4, 5, 6, 1, 2, 7, 3, 5, 1, 8, 7, 3, 4, 5, 1, 6, 4]\n",
    "Na zakladni: 1, 2, 6, 7, 8\n",
    "Vo vzduchu: 3, 4, 5, 8\n",
    "```"
   ]
  },
  {
   "cell_type": "code",
   "execution_count": null,
   "metadata": {
    "collapsed": true
   },
   "outputs": [],
   "source": []
  },
  {
   "cell_type": "markdown",
   "metadata": {
    "deletable": true,
    "editable": true
   },
   "source": [
    "## Spájanie termínov v kalendári\n",
    "\n",
    "Ste súčasťou tímu, ktorý pracuje na vývoji novej aplikácie na plánovanie termínov. Vašou úlohou je pridať nasledovnú funkcionalitu: uvažujme, že poznáme zoznam začiatočných a konečných časov stretnutí rôznych ľudí, napr.\n",
    "```\n",
    "[ (7, 9), (1, 3), (11, 14), (14, 15)(4, 5), (8, 10), (13, 16), (14, 15), (18, 20), (4, 6) ]\n",
    "```\n",
    "Prvé číslo v každej dvojici je začiatočná hodina a druhé číslo reprezentuje hodinu konca stretnutia. Vytvorte program, ktorý zistí, kedy je v kalendári miesto na nové stretnutia. Na to potrebujete najskôr spojiť prekrývajúce sa časové intervaly a teda vygenerovať zoznam\n",
    "```\n",
    "[ (1, 3), (4, 6), (7, 10), (11, 16), (18, 20) ]\n",
    "```\n",
    "V druhom kroku musíte vygenerovať \"doplnok\" k intervalu (0, 24):\n",
    "```\n",
    "[ (0, 1), (3, 4), (6, 7), (10, 11), (16, 18), (20, 24) ]\n",
    "```\n"
   ]
  },
  {
   "cell_type": "code",
   "execution_count": null,
   "metadata": {
    "collapsed": true
   },
   "outputs": [],
   "source": []
  },
  {
   "cell_type": "markdown",
   "metadata": {},
   "source": [
    "## Kde končí moja zátvorka?\n",
    "\n",
    "Uvažujme vetu, ktorá obsahuje veľa zátvoriek, napr.\n",
    "```\n",
    "Toto (je veta (ktora) obsahuje (((vela ale) fakt vela) zatvoriek))\n",
    "         1         2         3         4         5         6\n",
    "123456789012345678901234567890123456789012345678901234567890123456\n",
    "```\n",
    "kde čísla pod ňou vyjadrujú pozície jednotlivých znakov. Z klávesnice načítajte pozíciu niektorej z ľavých zátvoriek a zistite, na ktorej pozícii sa nachádza príslušná pravá zátvorka.\n",
    "\n",
    "Príklad:\n",
    "```\n",
    "Zadaj index lavej zatvorky: 6\n",
    "Prislusna prava zatvorka je na indexe c. 66\n",
    "\n",
    "Zadaj index lavej zatvorky: 15\n",
    "Prislusna prava zatvorka je na indexe c. 21\n",
    "\n",
    "Zadaj index lavej zatvorky: 32\n",
    "Prislusna prava zatvorka je na indexe c. 65\n",
    "\n",
    "Zadaj index lavej zatvorky: 33\n",
    "Prislusna prava zatvorka je na indexe c. 54\n",
    "\n",
    "Zadaj index lavej zatvorky: 34\n",
    "Prislusna prava zatvorka je na indexe c. 43\n",
    "\n",
    "Zadaj index lavej zatvorky: 32\n",
    "Prislusna prava zatvorka je na indexe c. 65\n",
    "```\n"
   ]
  },
  {
   "cell_type": "code",
   "execution_count": null,
   "metadata": {
    "collapsed": true
   },
   "outputs": [],
   "source": []
  },
  {
   "cell_type": "markdown",
   "metadata": {},
   "source": [
    "## Zlodej koláčov\n",
    "\n",
    "S batohom, do ktorého sa zmestí maximálne `x` kilogramov ste sa vlámali do centrálneho skladu koláčov. Pred sebou vidíte nasledovný zoznam dvojíc, pričom prvý element označuje hmotnosť koláča a druhý jeho cenu:\n",
    "```\n",
    "[(7, 160), (3, 90), (2, 15)]\n",
    "```\n",
    "Z každého koláča je v sklade neobmedzené množstvo. Vytvorte program, ktorý zistí, koľko ktorých koláčov máte ukradnúť, ak chcete maximalizovať svoj zisk. Kapacitu batoha `x` načítajte z klávesnice.\n",
    "\n",
    "Príklad:\n",
    "```\n",
    "Vloz kapacitu batoha: 20\n",
    "Najlepsi lup:\n",
    "kolac c. 1: 0 ks\n",
    "kolac c. 2: 6 ks\n",
    "kolac c. 3: 1 ks\n",
    "hodnota lupu: 555\n",
    "```\n",
    "\n",
    "Váš program musí podporovať ľubovolné koláče, napr.\n",
    "```\n",
    "[(7, 160), (3, 90), (2, 15), (1, 4), (12, 500)]\n",
    "```\n",
    "Kradnúť môžete iba celé koláče, nemôžete z nich odkrajovať."
   ]
  },
  {
   "cell_type": "code",
   "execution_count": null,
   "metadata": {
    "collapsed": true
   },
   "outputs": [],
   "source": []
  }
 ],
 "metadata": {
  "kernelspec": {
   "display_name": "Python 3",
   "language": "python",
   "name": "python3"
  },
  "language_info": {
   "codemirror_mode": {
    "name": "ipython",
    "version": 3
   },
   "file_extension": ".py",
   "mimetype": "text/x-python",
   "name": "python",
   "nbconvert_exporter": "python",
   "pygments_lexer": "ipython3",
   "version": "3.5.2"
  }
 },
 "nbformat": 4,
 "nbformat_minor": 2
}
