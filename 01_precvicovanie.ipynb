{
 "cells": [
  {
   "cell_type": "markdown",
   "metadata": {},
   "source": [
    "# Vypisovanie dátumov\n",
    "\n",
    "Vytvorte program, ktorý vypíše dátum v slovenskom formáte (deň.mesiac.rok), alebo v americkom formáte (mesiac-deň-rok). \n",
    "\n",
    "Vstupom do programu sú:\n",
    "\n",
    "1. Formát výpisu (s/a), kde znak 's' charakterizuje slovenský formát a znak 'a' charakterizuje americký formát.\n",
    "2. Informácie o dátume (deň,mesiac,rok).\n",
    "\n",
    "Výstupom z programu je požadovaný dátum.\n",
    "\n",
    "Príklad:\n",
    "```\n",
    "Zadaj format vypisu (s/a): s\n",
    "Zadaj den: 20\n",
    "Zadaj mesiac: 3\n",
    "Zadaj rok: 2017\n",
    "Zvoleny datumovy format je: 20.3.2017\n",
    "Dovidenia!\n",
    "\n",
    "Zadaj format vypisu (s/a): a\n",
    "Zadaj den: 20\n",
    "Zadaj mesiac: 3\n",
    "Zadaj rok: 2017\n",
    "Zvoleny datumovy format je: 3-20-2017\n",
    "Dovidenia!\n",
    "\n",
    "Zadaj format vypisu (s/a): t\n",
    "Zadali ste nespravnu moznost. Program sa ukoncuje ...\n",
    "Dovidenia!\n",
    "```"
   ]
  },
  {
   "cell_type": "code",
   "execution_count": 7,
   "metadata": {
    "collapsed": true
   },
   "outputs": [],
   "source": [
    "x = 2"
   ]
  },
  {
   "cell_type": "markdown",
   "metadata": {},
   "source": [
    "# Analýza osôb\n",
    "\n",
    "Napíšte program, ktorý rozpozná osoby v reťazci. Vstupom do programu je reťazec, v ktorom je zoznam osôb. Uvažujeme, že krstné meno a priezvisko sú oddelené medzerou a každá osoba je oddelená znakom ‘|' (pípa). Algoritmus vypíše na obrazovku informácie:\n",
    "\n",
    "1. Počet osôb v reťazci.\n",
    "2. Počet mužov v reťazci.\n",
    "3. Počet žien v reťazci. (Osoba, ktorej priezvisko sa končí koncovkou 'ova' sa považuje za ženu.)\n",
    "\n",
    "Príklad:\n",
    "\n",
    "```\n",
    "Zadaj retazec mien: 'Jan Mrkva|Karol Slovak|Anna Sokolova|Peter Mrkva|Zuzana Krajcova'\n",
    "Pocet osob: 5\n",
    "Pocet muzov: 3\n",
    "Pocet zien: 2\n",
    "Dovidenia!\n",
    "\n",
    "\n",
    "Zadaj retazec mien: 'Adam Adamec|Lucia Sokolova'\n",
    "Pocet osob: 2\n",
    "Pocet muzov: 1\n",
    "Pocet zien: 1\n",
    "Dovidenia!\n",
    "```"
   ]
  },
  {
   "cell_type": "code",
   "execution_count": 9,
   "metadata": {},
   "outputs": [
    {
     "name": "stdout",
     "output_type": "stream",
     "text": [
      "2\n",
      "4\n"
     ]
    }
   ],
   "source": [
    "print(x)\n",
    "print(2*x)"
   ]
  },
  {
   "cell_type": "markdown",
   "metadata": {},
   "source": [
    "# Prepis dátumov\n",
    "\n",
    "Vytvorte program, ktorý prevedie formáty dátumov. Uvažujeme, že poznáme 2 druhy formátov 'DMY' a ‘MDY’ (Y-rok, M-mesiac, D-deň). Každý z formátov má dlhý výpis, kde deň s mesiacom sú charakterizované ako dvojciferné čísla a rok ako štvorciferné číslo. Teda dátum vo formáte 'DMY' (a so separátorom '/') sa vypíše ako dd/mm/yyyy (napríklad 25/05/2017).\n",
    "\n",
    "Program si na začiatku vypýta:\n",
    "\n",
    "1. údaje o dátume vo formáte 'rok.mesiac.deň',\n",
    "2. žiadaný formát dátumu ('DMY'/'MDY'),\n",
    "3. separátor (oddelujúci deň, mesiac a rok).\n",
    "\n",
    "Výstupom z programu je požadovaný formát dátumu.\n",
    "\n",
    "Príklad:\n",
    "```\n",
    "Zadaj datum vo formate 'yyyy/mm/dd': 2017/01/20\n",
    "Zadaj format ('DMY'/'MDY'): DMY\n",
    "Zadaj separator: -\n",
    "Pozadovany format datumu je: 20-01-2017\n",
    "Dovidenia!\n",
    "\n",
    "Zadaj datum vo formate 'yyyy/mm/dd': 1999/02/31\n",
    "Zadaj format ('DMY'/'MDY'): MDY\n",
    "Zadaj separator: .\n",
    "Pozadovany format datumu je: 02.31.1999\n",
    "Dovidenia!\n",
    "\n",
    "Zadaj datum vo formate 'yyyy/mm/dd': 1999/02/31\n",
    "Zadaj format ('DMY'/'MDY'): MDY\n",
    "Zadaj separator: .\n",
    "Pozadovany format datumu je: 02.31.1999\n",
    "Dovidenia!\n",
    "```"
   ]
  },
  {
   "cell_type": "code",
   "execution_count": null,
   "metadata": {
    "collapsed": true
   },
   "outputs": [],
   "source": [
    "#sem vlozte kod"
   ]
  },
  {
   "cell_type": "markdown",
   "metadata": {},
   "source": [
    "# Šifrovanie 1\n",
    "\n",
    "Napíšte program, ktorý zašifruje/odšifruje danú správu. Program si na začiatku vyžiada od užívateľa reťazec a znak. Ak znak je rovný ’s’, program zašifruje vložený reťazec tak, že prehodí poradie písmen, teda zašifrovaný reťazec bude písaný odzadu. Ak znak je rovný ’o’, program odšifruje vložený reťazec tak, že prehodí poradie písmen, teda odšifrovaný reťazec bude písaný odzadu. Po zašifrovaní/odšifrovaní sa program spýta, či chce užívateľ pokračovať, alebo skončiť.\n",
    "\n",
    "Príklad:\n",
    "\n",
    "```\n",
    "Zadaj retazec: Som v skole\n",
    "Zadaj povel (’s’ alebo ‘o’): s\n",
    "Zasifrovany retazec je: eloks v moS\n",
    "Chces pokracovat? (“ano” alebo “nie”): ano\n",
    "\n",
    "Zadaj retazec: eloks v moS\n",
    "Zadaj povel (’s’ alebo ‘o’): o\n",
    "Odsifrovany retazec je: Som v skole\n",
    "Chces pokracovat? (“ano” alebo “nie”): nie\n",
    "\n",
    "Dovidenia\n",
    "```"
   ]
  },
  {
   "cell_type": "code",
   "execution_count": null,
   "metadata": {
    "collapsed": true
   },
   "outputs": [],
   "source": [
    "#sem vlozte kod"
   ]
  },
  {
   "cell_type": "markdown",
   "metadata": {},
   "source": [
    "# Šifrovanie 2\n",
    "\n",
    "Napíšte program, ktorý zašifruje/odšifruje danú správu. Program si na začiatku vyžiada od užívateľa reťazec a znak.  Ak znak je rovný ’s’, program zašifruje vložený reťazec tak, že prehodí vždy dve po sebe nasledujúce písmená. Ak znak je rovný ’o’, program odšifruje vložený reťazec tak, že prehodí vždy dve po sebe nasledujúce písmená. Po zašifrovaní/odšifrovaní sa program spýta, či chce užívateľ pokračovať, alebo skončiť.\n",
    "\n",
    "Príklad:\n",
    "\n",
    "```\n",
    "Zadaj retazec: Som v skole\n",
    "Zadaj povel (’s’ alebo ‘o’): s\n",
    "Zasifrovany retazec je: oS m vksloe\n",
    "Chces pokracovat? (“ano” alebo “nie”): ano\n",
    "\n",
    "Zadaj retazec: oS m vksloe\n",
    "Zadaj povel (’s’ alebo ‘o’): o\n",
    "Odsifrovany retazec je: Som v skole\n",
    "\n",
    "Chces pokracovat? (“ano” alebo “nie”): nie\n",
    "\n",
    "Dovidenia\n",
    "```"
   ]
  },
  {
   "cell_type": "code",
   "execution_count": null,
   "metadata": {
    "collapsed": true
   },
   "outputs": [],
   "source": [
    "#sem vlozte kod"
   ]
  },
  {
   "cell_type": "markdown",
   "metadata": {},
   "source": [
    "# Šifrovanie 3\n",
    "\n",
    "Napíšte program, ktorý zašifruje/odšifruje danú správu. Program si na začiatku vyžiada od užívateľa reťazec a znak. Ak znak je rovný ’s’, program zašifruje vložený reťazec tak, že všetky písmená posunie o tri miesta vpravo, teda písmeno 'a' sa zmení na 'd', písmeno 'b' sa zmení na 'e', atď. Medzera medzi slovami sa zachováva. Ak znak je rovný ’o’, program odšifruje vložený reťazec tak, že všetky písmená posunie o tri miesta vľavo, teda písmeno 'd' sa zmení na 'a', písmeno 'e' sa zmení na 'b', atď. Medzera medzi slovami sa zachováva. Po zašifrovaní/odšifrovaní sa program spýta, či chce užívateľ pokračovať, alebo skončiť.\n",
    "\n",
    "Príklad:\n",
    "\n",
    "```\n",
    "Zadaj retazec: Som v skole\n",
    "Zadaj povel (’s’ alebo ‘o’): s\n",
    "Zasifrovany retazec je: Vrp y vnroh\n",
    "Chces pokracovat? (“ano” alebo “nie”): ano\n",
    "\n",
    "Zadaj retazec: Vrp y vnroh\n",
    "Zadaj povel (’s’ alebo ‘o’): o\n",
    "Odsifrovany retazec je: Som v skole\n",
    "\n",
    "Chces pokracovat? (“ano” alebo “nie”): nie\n",
    "\n",
    "Dovidenia\n",
    "```"
   ]
  },
  {
   "cell_type": "code",
   "execution_count": null,
   "metadata": {
    "collapsed": true
   },
   "outputs": [],
   "source": [
    "#sem vlozte kod"
   ]
  },
  {
   "cell_type": "markdown",
   "metadata": {},
   "source": [
    "# Šifrovanie 4\n",
    "\n",
    "Napíšte program, ktorý zašifruje/odšifruje danú správu. Program si na začiatku vyžiada od užívateľa reťazec a znak. Ak znak je rovný ’s’, program zašifruje vložený reťazec tak, že najskôr sa vypíšu prvé písmená všetkých slov, potom druhe, tretie, atď. Na koniec zašifrovaného reťazca sa uvedie počet písmen tvoriacich jednotlivé slová (naformátovaný s úvodnou nulou, teda “070305” znamená, že veta má tri slová, prvé má 7 písmen, druhé 3 písmená a tretie slovo má 5 písmen). Ak znak je rovný ’o’, program odšifruje vložený reťazec inverzným spôsobom. Po zašifrovaní/odšifrovaní sa program spýta, či chce užívateľ pokračovať, alebo skončiť.\n",
    "\n",
    "Príklad:\n",
    "\n",
    "```\n",
    "Zadaj retazec: Prisiel som domov\n",
    "Zadaj povel (’s’ alebo ‘o’): s\n",
    "Zasifrovany retazec je: Psdrooimmsoivel070305\n",
    "Chces pokracovat? (“ano” alebo “nie”): ano\n",
    "\n",
    "Zadaj retazec: Psdrooimmsoivel070305\n",
    "Zadaj povel (’s’ alebo ‘o’): o\n",
    "Odsifrovany retazec je: Prisiel som domov\n",
    "\n",
    "Chces pokracovat? (“ano” alebo “nie”): nie\n",
    "\n",
    "Dovidenia\n",
    "```"
   ]
  },
  {
   "cell_type": "code",
   "execution_count": null,
   "metadata": {
    "collapsed": true
   },
   "outputs": [],
   "source": [
    "#sem vlozte kod"
   ]
  }
 ],
 "metadata": {
  "kernelspec": {
   "display_name": "Python 3",
   "language": "python",
   "name": "python3"
  },
  "language_info": {
   "codemirror_mode": {
    "name": "ipython",
    "version": 3
   },
   "file_extension": ".py",
   "mimetype": "text/x-python",
   "name": "python",
   "nbconvert_exporter": "python",
   "pygments_lexer": "ipython3",
   "version": "3.6.2"
  }
 },
 "nbformat": 4,
 "nbformat_minor": 1
}
