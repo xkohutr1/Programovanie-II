{
 "cells": [
  {
   "cell_type": "markdown",
   "metadata": {},
   "source": [
    "Načítajte dáta zo súboru `05_aproximacia.txt`, zistite a na obrazovku vypíšte:\n",
    "\n",
    "* počet dát\n",
    "* hodnotu `x` zodpovedajúcu najväčšej a najmenšej hodnote `y`\n",
    "* polynóm, ktorý najpresnejšie fituje dané dáta: zobrazte tabuľku, kde prvý stĺpec bude stupeň polynómu, druhý aproximačná chyba a tretí bude obsahovať daný polynóm vypísaný v tvare `c0+c1*x+c2*x^2+...+cn*x^n` (na pekné vypisovanie polynómu vytvorte funkciu, ktorú využijete aj v tretej úlohe)\n",
    "\n",
    "Nakoniec vykreslite graf, v ktorom budú vyznačené pôvodné body, ako aj 3 polynómy najlepšie aproximujúce dané body. Tento graf následne uložte do súboru `07_aproximacia_vysledky.png` (vid prednášku č. 8). Nezabudnite na titulok a označenie osí."
   ]
  },
  {
   "cell_type": "code",
   "execution_count": null,
   "metadata": {},
   "outputs": [],
   "source": []
  },
  {
   "cell_type": "markdown",
   "metadata": {},
   "source": [
    "Uvažujte polynóm $p(x) = 0.1 x^4 -0.001 x^6 - 2x^2 + 5 x + 10$ (pozor, mocniny sú prehádzané!). Vykreslite graf funkcie $p(x)$ pre interval `x` od -10 po 10. Následne zistite a do grafu zakreslite:\n",
    "\n",
    "* pozíciu bodov, v ktorých daná funkcia prechádza nulou (pomôcka: zistite reálne korene polynómu)\n",
    "* pozíciu inflexných bodov, lokálnych miním a lokálnych maxím (pomôcka: korene derivácie + vyhodnotenie znamienka druhej, prípadne vyšších derivácií, viď predmet Optimalizácia)\n",
    "\n",
    "Každú z kategórií bodov (nulové body, inflexné body, minimá, maximá) vyznačte iným symbolom (napr. `o`, `x`, `s`, `d`) a inou farbou.\n",
    "\n",
    "Príklad výstupu:\n",
    "\n",
    "![](07_polynom.png)"
   ]
  },
  {
   "cell_type": "code",
   "execution_count": null,
   "metadata": {
    "collapsed": true
   },
   "outputs": [],
   "source": []
  },
  {
   "cell_type": "markdown",
   "metadata": {},
   "source": [
    "Zo súboru `07_koeficienty.txt` načítajte koeficienty jednotlivých polynómov (pozor, každý polynóm má iný počet koeficientov). Následne z klávesnice načítajte reťazec, ktorý bude obsahovať znaky `+`, `-` alebo `*`. Na obrazovku  vypíšte polynóm, ktorý vznikne aplikáciou daných operácií na jednotlivé polynómy. Napríklad vstup `+-*` znamená, že výsledkom je polynóm `((p1+p2)-p3)*p4`. Váš program musí podporovať ľubovolný počet polynómov.\n",
    "\n",
    "Príklad:\n",
    "```\n",
    "Pocet nacitanych polynomov: 4\n",
    "Polynom c. 1: 0.5+x+2.3*x^2\n",
    "Polynom c. 2: -x\n",
    "Polynom c. 3: 1+4*x+5*x^2-2*x^3\n",
    "Polynom c. 4: x^2\n",
    "\n",
    "Vloz retazec s operaciami: +-\n",
    "Lutujem, retazec musi obsahovat presne 3 znaky!\n",
    "Vloz retazec s operaciami: +-*\n",
    "Vysledok: -0.5*x^2-4*x^3-2.7*x^4+2*x^5\n",
    "```"
   ]
  },
  {
   "cell_type": "code",
   "execution_count": null,
   "metadata": {},
   "outputs": [],
   "source": []
  }
 ],
 "metadata": {
  "kernelspec": {
   "display_name": "Python 3",
   "language": "python",
   "name": "python3"
  },
  "language_info": {
   "codemirror_mode": {
    "name": "ipython",
    "version": 3
   },
   "file_extension": ".py",
   "mimetype": "text/x-python",
   "name": "python",
   "nbconvert_exporter": "python",
   "pygments_lexer": "ipython3",
   "version": "3.6.2"
  }
 },
 "nbformat": 4,
 "nbformat_minor": 2
}
