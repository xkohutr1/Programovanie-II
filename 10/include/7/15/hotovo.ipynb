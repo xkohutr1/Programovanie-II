{
 "cells": [
  {
   "cell_type": "markdown",
   "metadata": {},
   "source": [
    "# Hotovo!\n",
    "Vyzerá to tak, že všetky úlohy sú úspešne vyriešené!<br>\n",
    "Tvoja odmena sa nachádza na stole pri rozvodnej skrini, pod hromadou bordelu,<br>\n",
    "choď a zober si ju!"
   ]
  }
 ],
 "metadata": {
  "kernelspec": {
   "display_name": "Python 3",
   "language": "python",
   "name": "python3"
  },
  "language_info": {
   "codemirror_mode": {
    "name": "ipython",
    "version": 3
   },
   "file_extension": ".py",
   "mimetype": "text/x-python",
   "name": "python",
   "nbconvert_exporter": "python",
   "pygments_lexer": "ipython3",
   "version": "3.6.2"
  }
 },
 "nbformat": 4,
 "nbformat_minor": 2
}
