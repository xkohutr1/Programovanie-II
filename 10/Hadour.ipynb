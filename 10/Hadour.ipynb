{
 "cells": [
  {
   "cell_type": "markdown",
   "metadata": {},
   "source": [
    "- ..a 4 + 4? 9. tyy, ta ty vieš..\n",
    "\n",
    "skús zrátavať lepšie..vyskúšaj si to na nasledujúcom zozname a výsledok použi v nasledujúcej úlohe ako $n$"
   ]
  },
  {
   "cell_type": "code",
   "execution_count": 45,
   "metadata": {
    "collapsed": true
   },
   "outputs": [],
   "source": [
    "zoznam = [14, -12, 16, -3, -14, 12, -10, 5, -18, -1, 9, -11, 6, 13, -6, 16, 3, 1, -13, 18,-22]"
   ]
  },
  {
   "cell_type": "markdown",
   "metadata": {},
   "source": [
    "***"
   ]
  },
  {
   "cell_type": "markdown",
   "metadata": {},
   "source": [
    "- Vypíš každý $n$-tý znak (čiže $0$, $n$, $2n$, ...)<br>\n",
    "```\n",
    "['y', 'e', 't', 't', 's', 'u', 'r', 'x', 'f', 'v', 'x', 'l', 't', 'e', 'd', 's', 'q', 'x', 'y', 'p', 'f', 't', 'k', 'o', 'a', 'f', 'j', 'i', 'e', 'p', 's', 'e', 'p', 'd', 'a', 't', 'i', 'k', 'p', 'r', 'y', 'm', 't', 'h', 'i']\n",
    "```"
   ]
  },
  {
   "cell_type": "code",
   "execution_count": 41,
   "metadata": {
    "collapsed": true
   },
   "outputs": [],
   "source": []
  },
  {
   "cell_type": "markdown",
   "metadata": {},
   "source": [
    "***"
   ]
  },
  {
   "cell_type": "markdown",
   "metadata": {},
   "source": [
    "- Ak to nejde prečítať spredu, skús zozadu.."
   ]
  },
  {
   "cell_type": "code",
   "execution_count": null,
   "metadata": {
    "collapsed": true
   },
   "outputs": [],
   "source": []
  },
  {
   "cell_type": "markdown",
   "metadata": {},
   "source": [
    "***"
   ]
  },
  {
   "cell_type": "markdown",
   "metadata": {},
   "source": [
    "- __Kľúčom__ v nasledujúcej úlohe je ...(viď vyššie) votrelec v poradí."
   ]
  },
  {
   "cell_type": "code",
   "execution_count": 1,
   "metadata": {},
   "outputs": [],
   "source": [
    "data = open('Aliens.txt', 'r')\n",
    "votrelci = [x for x in data.read().split('\\n')]"
   ]
  },
  {
   "cell_type": "markdown",
   "metadata": {},
   "source": [
    "***"
   ]
  },
  {
   "cell_type": "markdown",
   "metadata": {},
   "source": [
    "- Okej, máš votrelca. Čo tak si ho nájsť v slovníku a pozrieť sa kam ukazuje? <br>\n",
    "```\n",
    "{'Klygnulna': 'Lib/2/0', 'Uglue': 'include/1/1', 'Trahlophe': 'etc/5/7', 'Naki': 'Scripts/2/5', 'Vrakkikx': 'share/2/8', 'Agrikx': 'etc/8/2', 'Jivekx': 'tcl/11/0', 'Zruttart': 'tcl/1/14', 'Pimsylsea': 'libs/4/10', 'Toel': 'DLLs/7/2', 'Tubygh': 'share/0/7', 'Stroukynt': 'DLLs/5/8', 'Oedh': 'Scripts/0/2', 'Oen': 'Doc/0/2', 'Fruensudo': 'include/6/4'}\n",
    "```"
   ]
  },
  {
   "cell_type": "code",
   "execution_count": null,
   "metadata": {
    "collapsed": true
   },
   "outputs": [],
   "source": []
  },
  {
   "cell_type": "markdown",
   "metadata": {},
   "source": [
    "***"
   ]
  },
  {
   "cell_type": "markdown",
   "metadata": {},
   "source": [
    "..tu sme skončili.."
   ]
  }
 ],
 "metadata": {
  "kernelspec": {
   "display_name": "Python 3",
   "language": "python",
   "name": "python3"
  },
  "language_info": {
   "codemirror_mode": {
    "name": "ipython",
    "version": 3
   },
   "file_extension": ".py",
   "mimetype": "text/x-python",
   "name": "python",
   "nbconvert_exporter": "python",
   "pygments_lexer": "ipython3",
   "version": "3.6.2"
  }
 },
 "nbformat": 4,
 "nbformat_minor": 2
}
