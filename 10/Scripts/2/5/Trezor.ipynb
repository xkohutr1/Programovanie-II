{
 "cells": [
  {
   "cell_type": "markdown",
   "metadata": {},
   "source": [
    "Ak si sa dopracoval(a) až sem, tak máš polovicu za sebou..tú jednoduchšiu..<br>\n",
    "Nevzdávaj to..<br>"
   ]
  },
  {
   "cell_type": "markdown",
   "metadata": {},
   "source": [
    "***"
   ]
  },
  {
   "cell_type": "code",
   "execution_count": 3,
   "metadata": {},
   "outputs": [],
   "source": [
    "# pred skusanim najprv spusti poslednu bunku s definiciou funkcie\n",
    "obsah = trezor(kod)"
   ]
  },
  {
   "cell_type": "markdown",
   "metadata": {},
   "source": [
    "## Trezor\n",
    "Treba pozrieť čo je v trezore.. prvé číslo kódu je $5$. K ostatným sa už musíš dopracovať vlastnou hlavou. Ak ich budeš mať všetky, tak ich proste spoj odkopy a otestuj tu vyššie..<br>\n",
    "Good luck and have fun.."
   ]
  },
  {
   "cell_type": "markdown",
   "metadata": {},
   "source": [
    "- Ďalším číslom by mohlo byť maximum z absolútnych hodnôt prvkov zo zoznamu v úplne prvej úlohe. <br>\n",
    "(skopíruj si ho sem a nájdi čo je treba)"
   ]
  },
  {
   "cell_type": "code",
   "execution_count": 11,
   "metadata": {
    "collapsed": true
   },
   "outputs": [],
   "source": []
  },
  {
   "cell_type": "markdown",
   "metadata": {},
   "source": [
    "***"
   ]
  },
  {
   "cell_type": "markdown",
   "metadata": {},
   "source": [
    "- $1110110_{2}$"
   ]
  },
  {
   "cell_type": "code",
   "execution_count": null,
   "metadata": {
    "collapsed": true
   },
   "outputs": [],
   "source": []
  },
  {
   "cell_type": "markdown",
   "metadata": {},
   "source": [
    "***"
   ]
  },
  {
   "cell_type": "markdown",
   "metadata": {},
   "source": [
    "- $0x49_{16}$"
   ]
  },
  {
   "cell_type": "code",
   "execution_count": null,
   "metadata": {
    "collapsed": true
   },
   "outputs": [],
   "source": []
  },
  {
   "cell_type": "markdown",
   "metadata": {},
   "source": [
    "***"
   ]
  },
  {
   "cell_type": "code",
   "execution_count": 1,
   "metadata": {
    "collapsed": true
   },
   "outputs": [],
   "source": [
    "# nemusis sa ani pokusat tuto funkciu rozlustit, proste ju skompiluj: Ctrl+Enter\n",
    "def trezor(a):\n",
    "    import numpy as n\n",
    "    import numpy.linalg as linalg\n",
    "    z1=[]\n",
    "    z2=[]\n",
    "    novy=[]\n",
    "    #/home/jovyan/prg2/2018/Bakarac/05_aproximacia.txt'\n",
    "    subor=open('/home/jovyan/prg2/2018/Bakarac/05_aproximacia.txt')\n",
    "    riadky=subor.readlines()\n",
    "    for i in riadky:\n",
    "        i=i.rstrip()\n",
    "        i=i.split()\n",
    "        z1.append(float(i[0]))\n",
    "        z2.append(float(i[1]))\n",
    "\n",
    "    x = (n.array([z1])).T\n",
    "    y = (n.array([z2])).T\n",
    "    z = [['0x4c', '0x69', '0x62', '0x2f', '0x34', '0x2f', '0x36']]\n",
    "    z = [['0x69', '0x6e', '0x63', '0x6c', '0x75', '0x64', '0x65', '0x2f', '0x37', '0x2f', '0x31', '0x35']]\n",
    "    go = False\n",
    "    deg = \"Stupen polynomu: \"\n",
    "    st = 2\n",
    "    if a != int(0x7cf81):\n",
    "        return ' '.join([''.join([chr(int(y,16)) for y in x]) for x in [['0x7a', '0x6c', '0x79'], ['0x6b', '0x6f', '0x64']]])\n",
    "    for i in z1:\n",
    "        r=[]\n",
    "        for j in range(st,-1,-1):\n",
    "            r.append(i**j)\n",
    "        novy.append(r)\n",
    "    poly = [12, 53, a][2]\n",
    "    if z[0][0] == 20:\n",
    "        return ' '.join([''.join([chr(int(y,16)) for y in x]) for x in [['0x74', '0x6f', '0x74', '0x6f'], ['0x6a', '0x65'], ['0x6b', '0x61', '0x6d', '0x75', '0x66', '0x6c', '0x61', '0x7a']]])\n",
    "    M = n.array(novy)\n",
    "\n",
    "    a=(linalg.inv(((M.T).dot(M))).dot(M.T)).dot(y)\n",
    "    if poly == int('1111100111110000001',2):\n",
    "        return ' '.join([''.join([chr(int(y,16)) for y in x]) for x in z])\n",
    "    t = \"Najlepsia aproximacia: \"\n",
    "    for i in range(len(a)):\n",
    "        koef = str(a[i,0]) if a[i,0] < 0 or i==0 else '+'+str(a[i,0])\n",
    "        print(koef+\"x^\"+str(len(a)-i-1), end=\"\")\n",
    "    yy=M.dot(a)\n",
    "    if go:\n",
    "        print('\\n')\n",
    "        return 'toto cislo je zle'\n",
    "\n",
    "    sso=sum((y-yy)**2)\n",
    "    if a == 1369:\n",
    "        print(\"Suma stvorcov odchylok: \" + str(sso[0]))\n",
    "        return 'tlc/12/4'"
   ]
  }
 ],
 "metadata": {
  "kernelspec": {
   "display_name": "Python 3",
   "language": "python",
   "name": "python3"
  },
  "language_info": {
   "codemirror_mode": {
    "name": "ipython",
    "version": 3
   },
   "file_extension": ".py",
   "mimetype": "text/x-python",
   "name": "python",
   "nbconvert_exporter": "python",
   "pygments_lexer": "ipython3",
   "version": "3.6.2"
  }
 },
 "nbformat": 4,
 "nbformat_minor": 2
}
