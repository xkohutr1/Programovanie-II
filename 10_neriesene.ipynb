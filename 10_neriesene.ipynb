{
 "cells": [
  {
   "cell_type": "markdown",
   "metadata": {},
   "source": [
    "## Filtrovanie zašumeného signálu\n",
    "\n",
    "V súbore `10_filtracia.txt` sa nachádzajú informácie o zašumenom meraní (prvý stĺpec je čas, druhý udáva hodnotu meranej veličiny). Vašou úlohou je prefiltrovať tieto dáta filtrom prvého rádu s prenosom F(s)=1/(Ts + 1), kde T je časová konštanta filtra (uvažujte hodnoty T=1, T=2.5, T=5, T=10). Na obrazovku vykreslite graf, ktorý bude zobrazovať pôvodný zašumený signál ako i jeho filtrované podoby.\n",
    "\n",
    "Pomôcka: využite funkciu `lsim` z knižnice `scipy.signal`, pričom ako vstup použite hodnoty zašumeného signálu.\n",
    "\n",
    "Aký záver o vplyve časovej konštanty filtra na kvalitu filtrácie viete vyvodiť?"
   ]
  },
  {
   "cell_type": "code",
   "execution_count": null,
   "metadata": {
    "collapsed": true
   },
   "outputs": [],
   "source": []
  },
  {
   "cell_type": "markdown",
   "metadata": {},
   "source": [
    "## Simulácia spätnoväzbového zapojenia\n",
    "\n",
    "Uvažujme riadený systém v tvare prenosu $G(s) = 1/(s^2 + 2 s + 3)$. Taktiež uvažujte dva rôzne regulátory:\n",
    "1. $R_1(s) = 5$\n",
    "2. $R_2(s) = 3/s$\n",
    "\n",
    "Vytvorte program, ktorý pre každý regulátor:\n",
    "1. zistí prechodovú charakteristiku URO ako odozvu na zmenu referencie z 0 na 1 v čase 0\n",
    "2. vypočíta trvalú regulačnú odchýlku a maximálne preregulovanie\n",
    "3. vykreslí prechodovú charakteristiku do grafu\n",
    "4. v grafe vyznačí čas vzniku maximálneho preregulovania\n",
    "\n",
    "Váš program musí podporovať ľubovolné prenosy $G(s)$ a $R(s)$. Na tvorbu prenosu URO využite násobenie polynómov z knižnice `numpy.polynomial.polynomial`. Na simuláciu výsledného URO použite funkciu `step` z knižnice `scipy.signal`."
   ]
  },
  {
   "cell_type": "code",
   "execution_count": null,
   "metadata": {
    "collapsed": true
   },
   "outputs": [],
   "source": []
  },
  {
   "cell_type": "markdown",
   "metadata": {},
   "source": [
    "## Počítanie veľkých písmen\n",
    "\n",
    "Zistite, koľko veľkých písmen obsahuje súbor `10_velke_pismena.txt`."
   ]
  },
  {
   "cell_type": "code",
   "execution_count": null,
   "metadata": {
    "collapsed": true
   },
   "outputs": [],
   "source": []
  },
  {
   "cell_type": "markdown",
   "metadata": {},
   "source": [
    "## Nudíme sa s filmami\n",
    "\n",
    "V súbore `10_filmy.txt` sa nachádzajú informácie o filmoch a dĺžke ich trvania (číslo pred prvou dovjbodkou je dĺžka, zvyšok názov filmu - pozor, aj názov filmu môže obsahovať dvojbodky!). Z klávesnice načítajte počet minút, ktoré sa chcete flákať, nič nerobiť a len pozerať filmy :) Následne zistite, ktoré **dva** filmy si máte pustiť, ak chcete čo najlepšie využiť zvolené flákacie časové okno, ale nepresiahnuť ho (nechcete predsa prísť o rozuzlenie).\n",
    "\n",
    "Príklad:\n",
    "```\n",
    "Kolko minut sa chces flakat: 180\n",
    "Film c. 1: \"Nudna videoprednaska 2: Utok fixiek\" (131 minut)\n",
    "Film c. 2: \"Varenie caju na 47 sposobov\" (47 minut)\n",
    "Celkovo 178 minut, nevyuzite ostanu 2 minuty\n",
    "\n",
    "Kolko minut sa chces flakat: 145\n",
    "Film c. 1: \"32 minut nudy\" (32 minut)\n",
    "Film c. 2: \"Mimoni 3: Packu? Jo jo jo packu!\" (112 minut)\n",
    "Celkovo 144 minut, nevyuzita ostane 1 minuta\n",
    "\n",
    "Kolko minut sa chces flakat: 68\n",
    "Lutujem, neexistuje vhodna kombinacia dvoch filmov\n",
    "```\n",
    "\n",
    "**Bonus**: rozšírte váš program tak, aby okrem dvojíc filmov podporoval aj trojice, štvorice, atď. Požadovaný počet filmov načítajte z klávesnice."
   ]
  },
  {
   "cell_type": "code",
   "execution_count": null,
   "metadata": {
    "collapsed": true
   },
   "outputs": [],
   "source": []
  },
  {
   "cell_type": "markdown",
   "metadata": {},
   "source": [
    "## Obchodovanie na burze so strojom času\n",
    "\n",
    "V istej tajnej miestnosti na FCHPT sa nachádza stroj času, ktorý nám poskytol nasledovný vývoj budúcich cien akcií jednej nemenovanej firmy: \n",
    "```\n",
    "[20 20.5 21 15 11 13 8 5 9 6 7 15 8 16 9 2 1 4 10 6 5]\n",
    "```\n",
    "Vytvorte program, ktorý zistí, aký je maximálny dosiahnuteľný zisk za predpokladu, že kúpa akcie sa musí realizovať pred jej predajom. Môžete zrealizovať iba jeden obchod. Váš program musí, samozrejme, podporovať ľubovolné zoznamy cien.\n",
    "\n",
    "V našom prípade bude najlepšie kúpiť akciu, keď stojí 5 eur (8. pozícia v zozname) a predať ju za 16 eur (pozícia č. 14). Celkový zisk tak bude 11 eur.\n",
    "\n",
    "**Bonus**: rozšírte váš program tak, aby podporoval `x` najlepších nákupov, kde `x` načítate z klávesnice. V našom prípade je druhým najlepším obchodom kúpa za 1 euro (pozícia č. 17) a predaj za 10 eur (pozícia č. 19) so ziskom 9 eur. Všimnite si pritom, že kombinácia kúpa za 5 eur (pozícia č. 8) a predaj za 15 eur (pozícia č. 12) síce dáva zisk 10 eur, ale nie je platná, pretože 5 eurový nákup sme už zrealizovali v najlepšom scenári."
   ]
  },
  {
   "cell_type": "code",
   "execution_count": null,
   "metadata": {
    "collapsed": true
   },
   "outputs": [],
   "source": []
  },
  {
   "cell_type": "markdown",
   "metadata": {},
   "source": [
    "## Prekryv obdĺžnikov\n",
    "\n",
    "Uvažujte, že máme dva obdĺžniky, pričom každý z nich je definovaný zoznamom `[x, y, sirka, vyska]`, kde `x` a `y` sú súradnice ľavého dolného rohu. Zistite, či sa obdĺžniky prekrývajú.\n",
    "\n",
    "Uvažujte nasledovné možnosti:\n",
    "```\n",
    "o1 = [0 0 1 2]; o2 = [1.5 2.5 1 1];\n",
    "o1 = [1 1 1 1]; o2 = [3 -1 1 1];\n",
    "o1 = [0 0 1 1]; o2 = [2 0 1 1];\n",
    "o1 = [0 0 1 2]; o2 = [1.5 1 1 1];\n",
    "o1 = [0 0 1 1]; o2 = [0 2 1 1];\n",
    "o1 = [0 0 1 1]; o2 = [0.5 0.5 1 1];\n",
    "o1 = [0 0 1 2]; o2 = [-0.5 0.5 1 1];\n",
    "o1 = [0 0 1 2]; o2 = [0.5 -0.5 1 1];\n",
    "```"
   ]
  },
  {
   "cell_type": "code",
   "execution_count": null,
   "metadata": {
    "collapsed": true
   },
   "outputs": [],
   "source": []
  }
 ],
 "metadata": {
  "kernelspec": {
   "display_name": "Python 3",
   "language": "python",
   "name": "python3"
  },
  "language_info": {
   "codemirror_mode": {
    "name": "ipython",
    "version": 3
   },
   "file_extension": ".py",
   "mimetype": "text/x-python",
   "name": "python",
   "nbconvert_exporter": "python",
   "pygments_lexer": "ipython3",
   "version": "3.6.2"
  }
 },
 "nbformat": 4,
 "nbformat_minor": 2
}
