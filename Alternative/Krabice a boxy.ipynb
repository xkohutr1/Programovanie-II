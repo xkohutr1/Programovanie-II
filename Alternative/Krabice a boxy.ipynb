{
 "cells": [
  {
   "cell_type": "markdown",
   "metadata": {},
   "source": [
    "### Krabice a boxy ###\n",
    "Na sklad ti prišlo <font color=green>k</font> krabic s tovarom. Každá krabica má tvar kocky s rozmermi <font color=green>m</font> a obsahuje <font color=green>m * m</font> boxov s produktom. Tieto krabice majú niekoľko zaujímavých vlastností:<br>\n",
    "1. Najmenšia krabica má rozmer <font color=green>1</font>, ďalšia má rozmer <font color=green>2</font> a takto to pokračuje až po krabicu <font color=green>k</font>,\n",
    "2. Krabice s nepárnym rozmerom obsahujú zelené boxy s produktom a krabice s párnym rozmerom obsahujú červené boxy s produktom.\n",
    "\n",
    "Tvojou úlohou je vypočítať rozdieľ medzi červenými boxami s produktom a zelenými.\n",
    "\n",
    "__Príklad: __<br>\n",
    "Pre <font color=green>k = 5</font>, výstupom bude <font color=green>farebneProdukty(k) = -15</font>. Čiže na sklad ti prišlo <font color=green>1 + 3 \\* 3 + 5 \\* 5 = 35</font> zelených boxov s produktom a <font color=green>2 \\* 2 + 4 \\* 4 = 20</font> červených boxov. Rozdieľ medzi červenými a zelenými je teda <font color=green>20 - 35 = -15</font>."
   ]
  },
  {
   "cell_type": "code",
   "execution_count": 4,
   "metadata": {
    "collapsed": true
   },
   "outputs": [],
   "source": [
    "def farebneProdukty(k):\n",
    "    return "
   ]
  },
  {
   "cell_type": "markdown",
   "metadata": {},
   "source": [
    "***\n",
    "__Test 1:__"
   ]
  },
  {
   "cell_type": "code",
   "execution_count": null,
   "metadata": {
    "collapsed": true
   },
   "outputs": [],
   "source": [
    "farebneProdukty(15)"
   ]
  },
  {
   "cell_type": "markdown",
   "metadata": {},
   "source": [
    "Očakávaný výstup: -120"
   ]
  },
  {
   "cell_type": "markdown",
   "metadata": {},
   "source": [
    "***\n",
    "__Test 2:__"
   ]
  },
  {
   "cell_type": "code",
   "execution_count": null,
   "metadata": {
    "collapsed": true
   },
   "outputs": [],
   "source": [
    "farebneProdukty(36)"
   ]
  },
  {
   "cell_type": "markdown",
   "metadata": {},
   "source": [
    "Očakávaný výstup: 666"
   ]
  },
  {
   "cell_type": "markdown",
   "metadata": {},
   "source": [
    "***\n",
    "__Test 3:__"
   ]
  },
  {
   "cell_type": "code",
   "execution_count": null,
   "metadata": {
    "collapsed": true
   },
   "outputs": [],
   "source": [
    "farebneProdukty(1)"
   ]
  },
  {
   "cell_type": "markdown",
   "metadata": {},
   "source": [
    "Očakávaný výstup: -1"
   ]
  },
  {
   "cell_type": "markdown",
   "metadata": {},
   "source": [
    "***\n",
    "__Test 4:__"
   ]
  },
  {
   "cell_type": "code",
   "execution_count": null,
   "metadata": {
    "collapsed": true
   },
   "outputs": [],
   "source": [
    "farebneProdukty(18)"
   ]
  },
  {
   "cell_type": "markdown",
   "metadata": {},
   "source": [
    "Očakávaný výstup: 171"
   ]
  },
  {
   "cell_type": "markdown",
   "metadata": {},
   "source": [
    "***\n",
    "__Test 5:__"
   ]
  },
  {
   "cell_type": "code",
   "execution_count": null,
   "metadata": {
    "collapsed": true
   },
   "outputs": [],
   "source": [
    "farebneProdukty(1488)"
   ]
  },
  {
   "cell_type": "markdown",
   "metadata": {},
   "source": [
    "Očakávaný výstup: 1107816"
   ]
  }
 ],
 "metadata": {
  "kernelspec": {
   "display_name": "Python 3",
   "language": "python",
   "name": "python3"
  },
  "language_info": {
   "codemirror_mode": {
    "name": "ipython",
    "version": 3
   },
   "file_extension": ".py",
   "mimetype": "text/x-python",
   "name": "python",
   "nbconvert_exporter": "python",
   "pygments_lexer": "ipython3",
   "version": "3.6.2"
  }
 },
 "nbformat": 4,
 "nbformat_minor": 2
}
