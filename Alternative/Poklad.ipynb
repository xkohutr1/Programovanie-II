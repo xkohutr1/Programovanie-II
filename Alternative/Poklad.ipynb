{
 "cells": [
  {
   "cell_type": "markdown",
   "metadata": {},
   "source": [
    "Našla si truhlicu s pokladom! V truhlici sa nachádzajú vždy dva predmety. Prvý predmet má hmotnosť <font color=green>weight1</font> a jeho hodnota je <font color=green>value1</font>. Pre druhý predmet to platí podobne, jeho hmotnosť je <font color=green>weight2</font> a jeho hodnota je <font color=green>value2</font>. Zo sebou však môžeš odniesť len náklad o určitej hmotnosti <font color=green>maxW</font>, takže si musíš dobre rozmyslieť čo zoberieš, pretože sa nemôžeš vrátiť naspäť. Úlohou programu je vypočítať najvyššiu hodnotu z pokladu, ktorý si so sebou zoberieš.\n",
    "\n",
    "__Príklad: __<br>\n",
    "Ak <font color=green>value1 = 10</font>, <font color=green>weight1 = 5</font>, <font color=green>value2 = 6</font>, <font color=green>weight2 = 4</font> a <font color=green>maxW = 8</font>, tak výstupom bude <font color=green>zoberPoklad(value1, weight1, value2, weight2, maxW) = 10</font>, pretože oba naraz zobrať nemôžeš, kvôli limitu na hmotnosť nákladu, takže treba vybrať ten hodnotnejší, čiže prvý predmet s hodnotou <font color=green>10</font>. "
   ]
  },
  {
   "cell_type": "code",
   "execution_count": 4,
   "metadata": {
    "collapsed": true
   },
   "outputs": [],
   "source": [
    "def zoberPoklad(value1, weight1, value2, weight2, maxW):\n",
    "    return "
   ]
  },
  {
   "cell_type": "markdown",
   "metadata": {},
   "source": [
    "***\n",
    "__Test 1:__"
   ]
  },
  {
   "cell_type": "code",
   "execution_count": null,
   "metadata": {
    "collapsed": true
   },
   "outputs": [],
   "source": [
    "zoberPoklad(10, 5, 6, 4, 9)"
   ]
  },
  {
   "cell_type": "markdown",
   "metadata": {},
   "source": [
    "Očakávaný výstup: 16"
   ]
  },
  {
   "cell_type": "markdown",
   "metadata": {},
   "source": [
    "***\n",
    "__Test 2:__"
   ]
  },
  {
   "cell_type": "code",
   "execution_count": null,
   "metadata": {
    "collapsed": true
   },
   "outputs": [],
   "source": [
    "zoberPoklad(5, 3, 7, 4, 6)"
   ]
  },
  {
   "cell_type": "markdown",
   "metadata": {},
   "source": [
    "Očakávaný výstup: 7"
   ]
  },
  {
   "cell_type": "markdown",
   "metadata": {},
   "source": [
    "***\n",
    "__Test 3:__"
   ]
  },
  {
   "cell_type": "code",
   "execution_count": null,
   "metadata": {
    "collapsed": true
   },
   "outputs": [],
   "source": [
    "zoberPoklad(10, 2, 11, 3, 1)"
   ]
  },
  {
   "cell_type": "markdown",
   "metadata": {},
   "source": [
    "Očakávaný výstup: 0"
   ]
  },
  {
   "cell_type": "markdown",
   "metadata": {},
   "source": [
    "***\n",
    "__Test 4:__"
   ]
  },
  {
   "cell_type": "code",
   "execution_count": null,
   "metadata": {
    "collapsed": true
   },
   "outputs": [],
   "source": [
    "zoberPoklad(15, 2, 20, 3, 2)"
   ]
  },
  {
   "cell_type": "markdown",
   "metadata": {},
   "source": [
    "Očakávaný výstup: 15"
   ]
  },
  {
   "cell_type": "markdown",
   "metadata": {},
   "source": [
    "***\n",
    "__Test 5:__"
   ]
  },
  {
   "cell_type": "code",
   "execution_count": null,
   "metadata": {
    "collapsed": true
   },
   "outputs": [],
   "source": [
    "zoberPoklad(4, 3, 3, 4, 4)"
   ]
  },
  {
   "cell_type": "markdown",
   "metadata": {},
   "source": [
    "Očakávaný výstup: 4"
   ]
  }
 ],
 "metadata": {
  "kernelspec": {
   "display_name": "Python 3",
   "language": "python",
   "name": "python3"
  },
  "language_info": {
   "codemirror_mode": {
    "name": "ipython",
    "version": 3
   },
   "file_extension": ".py",
   "mimetype": "text/x-python",
   "name": "python",
   "nbconvert_exporter": "python",
   "pygments_lexer": "ipython3",
   "version": "3.6.2"
  }
 },
 "nbformat": 4,
 "nbformat_minor": 2
}
