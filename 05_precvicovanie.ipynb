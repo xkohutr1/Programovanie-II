{
 "cells": [
  {
   "cell_type": "markdown",
   "metadata": {},
   "source": [
    "Vytvorte stĺpcový vektor `x` obsahujúci čísla od 1 po 5."
   ]
  },
  {
   "cell_type": "code",
   "execution_count": 6,
   "metadata": {
    "collapsed": true
   },
   "outputs": [],
   "source": []
  },
  {
   "cell_type": "markdown",
   "metadata": {},
   "source": [
    "Na obrazovku vypíšte rozmery vektora `x` v tvare\n",
    "\n",
    "```\n",
    "Vektor ma XXX riadkov a YYY stlpcov\n",
    "```"
   ]
  },
  {
   "cell_type": "code",
   "execution_count": 7,
   "metadata": {},
   "outputs": [
    {
     "name": "stdout",
     "output_type": "stream",
     "text": [
      "Vektor ma 5 riadkov a 1 stlpcov\n"
     ]
    }
   ],
   "source": []
  },
  {
   "cell_type": "markdown",
   "metadata": {},
   "source": [
    "Vytvorte maticu `Z = x*x'` a vypíšte ju na obrazovku"
   ]
  },
  {
   "cell_type": "code",
   "execution_count": 8,
   "metadata": {},
   "outputs": [
    {
     "name": "stdout",
     "output_type": "stream",
     "text": [
      "[[  1.   2.   3.   4.   5.]\n",
      " [  2.   4.   6.   8.  10.]\n",
      " [  3.   6.   9.  12.  15.]\n",
      " [  4.   8.  12.  16.  20.]\n",
      " [  5.  10.  15.  20.  25.]]\n"
     ]
    }
   ],
   "source": []
  },
  {
   "cell_type": "markdown",
   "metadata": {},
   "source": [
    "Vypíšte prvok ležiaci na 2. riadku a 3. stĺpci matice `Z`"
   ]
  },
  {
   "cell_type": "code",
   "execution_count": 9,
   "metadata": {},
   "outputs": [
    {
     "name": "stdout",
     "output_type": "stream",
     "text": [
      "6.0\n"
     ]
    }
   ],
   "source": []
  },
  {
   "cell_type": "markdown",
   "metadata": {},
   "source": [
    "Vypíšte druhý riadok matice `Z`"
   ]
  },
  {
   "cell_type": "code",
   "execution_count": 10,
   "metadata": {},
   "outputs": [
    {
     "name": "stdout",
     "output_type": "stream",
     "text": [
      "[  2.   4.   6.   8.  10.]\n"
     ]
    }
   ],
   "source": []
  },
  {
   "cell_type": "markdown",
   "metadata": {},
   "source": [
    "Vytvorte maticu skladajúcu sa z 2. a 4. riadka matice Z a z jej 1., 3. a 5. stĺpca"
   ]
  },
  {
   "cell_type": "code",
   "execution_count": 22,
   "metadata": {},
   "outputs": [
    {
     "name": "stdout",
     "output_type": "stream",
     "text": [
      "[[  2.   6.  10.]\n",
      " [  4.  12.  20.]]\n"
     ]
    }
   ],
   "source": []
  },
  {
   "cell_type": "markdown",
   "metadata": {},
   "source": [
    "Zistite, či je matica `Z` invertovateľná. Použite dva spôsoby:\n",
    "1. matica je invertovateľná, ak jej hodnosť je totožná s jej rozmerom\n",
    "2. matica je invertovateľná, ak jej vlastné čísla nie sú nulové\n",
    "\n",
    "V oboch prípadoch musí byť, samozrejme, matica štvorcová. Túto podmienku tiež zahrňte do programu."
   ]
  },
  {
   "cell_type": "code",
   "execution_count": 34,
   "metadata": {},
   "outputs": [
    {
     "name": "stdout",
     "output_type": "stream",
     "text": [
      "False\n",
      "False\n",
      "True\n",
      "False\n",
      "True\n",
      "True\n"
     ]
    }
   ],
   "source": []
  },
  {
   "cell_type": "markdown",
   "metadata": {},
   "source": [
    "Postup z predošlej úlohy aplikujte na nasledovné matice a pre každú z nich vypíšte jej hodnosť, vlastné čísla a či je invertovateľná. Uvažujte nasledovné matice:\n",
    "```\n",
    "M1 = np.zeros((2, 2))\n",
    "M2 = np.eye(3)\n",
    "M3 = np.ones((3, 3))\n",
    "M4 = np.array( [ [1., 2.], [3., 4.] ])\n",
    "M5 = np.array( [ [1., 2.], [5., 6.] ])\n",
    "```"
   ]
  },
  {
   "cell_type": "code",
   "execution_count": 50,
   "metadata": {},
   "outputs": [
    {
     "name": "stdout",
     "output_type": "stream",
     "text": [
      "[-0.53112887  7.53112887]\n",
      "[[-0.79402877 -0.2928046 ]\n",
      " [ 0.60788018 -0.9561723 ]]\n",
      "[ 0.4217316  -0.32286272]\n"
     ]
    }
   ],
   "source": []
  },
  {
   "cell_type": "markdown",
   "metadata": {},
   "source": [
    "Zistite riešenie systému rovníc\n",
    "```\n",
    " x1 + 2*x2 + x3 = 2\n",
    "        x2 + x3 = 4\n",
    "-x1 +   x2 + x3 = 5       \n",
    "```"
   ]
  },
  {
   "cell_type": "code",
   "execution_count": null,
   "metadata": {
    "collapsed": true
   },
   "outputs": [],
   "source": []
  },
  {
   "cell_type": "markdown",
   "metadata": {},
   "source": [
    "Programovo vykonajte skúšku správnosti výsledku z predošlej úlohy"
   ]
  },
  {
   "cell_type": "code",
   "execution_count": null,
   "metadata": {
    "collapsed": true
   },
   "outputs": [],
   "source": []
  },
  {
   "cell_type": "markdown",
   "metadata": {},
   "source": [
    "Uvažujme vektor `x` obsahujúci čísla od 1 po 5 (ako čísla s desatinnou čiarkou). Vytvorte maticu `M` v nasledovnom tvare:\n",
    "```\n",
    "[ x1^2 x1 1 ]\n",
    "[ x2^2 x2 1 ]\n",
    "[ x3^2 x3 1 ]\n",
    "[ x4^2 x4 1 ]\n",
    "[ x5^2 x5 1 ]\n",
    "```"
   ]
  },
  {
   "cell_type": "code",
   "execution_count": null,
   "metadata": {
    "collapsed": true
   },
   "outputs": [],
   "source": []
  },
  {
   "cell_type": "markdown",
   "metadata": {},
   "source": [
    "Vytvorte maticu `M'*M` a zistite, či je invertovateľná. Ak je, na obrazovku vypíšte jej inverziu."
   ]
  },
  {
   "cell_type": "code",
   "execution_count": null,
   "metadata": {
    "collapsed": true
   },
   "outputs": [],
   "source": []
  },
  {
   "cell_type": "markdown",
   "metadata": {},
   "source": [
    "Uvažujme vektor `x` obsahujúci čísla od 1 po 5 (ako čísla s desatinnou čiarkou) a vektor `y` obsahujúci hodnoty `[1, 0.5, 3, 4.2, 7.8]`. Zistite parametre funkcie `f = a*x^2+b*x+c`, ktorá najpresnejšie aproximuje dané body, teda minimalizuje sumu štvorcov odchýliek medzi `y_i` a `f(x_i)`.\n",
    "\n",
    "Očakávaný výsledok:\n",
    "```\n",
    "Aproximacna funkcia: 0.4949*x^2 - 1.2271*x + 1.5600\n",
    "Suma stvorcov odchyliek: 0.9503\n",
    "```"
   ]
  },
  {
   "cell_type": "code",
   "execution_count": null,
   "metadata": {
    "collapsed": true
   },
   "outputs": [],
   "source": []
  }
 ],
 "metadata": {
  "kernelspec": {
   "display_name": "Python 3",
   "language": "python",
   "name": "python3"
  },
  "language_info": {
   "codemirror_mode": {
    "name": "ipython",
    "version": 3
   },
   "file_extension": ".py",
   "mimetype": "text/x-python",
   "name": "python",
   "nbconvert_exporter": "python",
   "pygments_lexer": "ipython3",
   "version": "3.6.2"
  }
 },
 "nbformat": 4,
 "nbformat_minor": 2
}