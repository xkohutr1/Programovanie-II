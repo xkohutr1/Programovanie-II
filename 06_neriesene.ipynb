{
 "cells": [
  {
   "cell_type": "markdown",
   "metadata": {},
   "source": [
    "Z klávecnice načítajte číslo funkcie a vykreslite jej graf pre `x` od -10 po 10 s krokom 0.1. Podporované funkcie:\n",
    "\n",
    "1. x**2\n",
    "2. sqrt(x)\n",
    "3. sin(x)\n",
    "4. cos(x)\n",
    "5. log(x)"
   ]
  },
  {
   "cell_type": "code",
   "execution_count": null,
   "metadata": {
    "collapsed": true
   },
   "outputs": [],
   "source": []
  },
  {
   "cell_type": "markdown",
   "metadata": {},
   "source": [
    "Riešenie z predošlej úlohy rozšírte tak, aby užívateľ mohol vložiť viacero funkcií ako čísla oddelené medzerou. Následne vygenerujte jeden spoločný graf obsahujúci všetky zadané funkcie."
   ]
  },
  {
   "cell_type": "code",
   "execution_count": null,
   "metadata": {
    "collapsed": true
   },
   "outputs": [],
   "source": []
  },
  {
   "cell_type": "markdown",
   "metadata": {},
   "source": [
    "Riešenie z predošlej úlohy upravte tak, aby sa jednotlivé zadané funkcie vykresľovali v separátnych grafoch pomocou `subplot()`."
   ]
  },
  {
   "cell_type": "code",
   "execution_count": null,
   "metadata": {
    "collapsed": true
   },
   "outputs": [],
   "source": []
  },
  {
   "cell_type": "markdown",
   "metadata": {},
   "source": [
    "Riešenie z predošlej úlohy upravte tak, aby užívateľ za číslo funkcie mohol pridať znak označujúci farbu a prípadne aj typ markeru.\n",
    "\n",
    "Príklad vstupu:\n",
    "```\n",
    "Vloz funkcie: 1b 3rx 4m\n",
    "```\n",
    "\n",
    "Pri takomto vstupe chceme vykresliť prvú funkciu modrou farbou, tretiu funkciu červenou s krížikmi a poslednú fialovou farbou."
   ]
  },
  {
   "cell_type": "code",
   "execution_count": null,
   "metadata": {
    "collapsed": true
   },
   "outputs": [],
   "source": []
  },
  {
   "cell_type": "markdown",
   "metadata": {},
   "source": [
    "Modifikujte úlohu z predošlého cvičenia (aproximácia funkcie) tak, aby ste na záver vykreslili graf, v ktorom budú vyznačené aproximované body ako i aproximačné polynómy rôznych stupňov"
   ]
  },
  {
   "cell_type": "code",
   "execution_count": null,
   "metadata": {
    "collapsed": true
   },
   "outputs": [],
   "source": []
  }
 ],
 "metadata": {
  "kernelspec": {
   "display_name": "Python 3",
   "language": "python",
   "name": "python3"
  },
  "language_info": {
   "codemirror_mode": {
    "name": "ipython",
    "version": 3
   },
   "file_extension": ".py",
   "mimetype": "text/x-python",
   "name": "python",
   "nbconvert_exporter": "python",
   "pygments_lexer": "ipython3",
   "version": "3.6.2"
  }
 },
 "nbformat": 4,
 "nbformat_minor": 2
}
