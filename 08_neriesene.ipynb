{
 "cells": [
  {
   "cell_type": "markdown",
   "metadata": {},
   "source": [
    "V súbore `08_produky.txt` sú nasledovné dáta:\n",
    "```\n",
    "# toyota, skoda, audi, mercedes\n",
    "58 76 15 25\n",
    "# nestle, hami, sunar, nutrilon, beba\n",
    "14 18 24 17 16\n",
    "# apple, samsung, htc, lg, huawei, xioami\n",
    "80 50 12 5 8 10\n",
    "# coca-cola, pepsi-cola, nestea, rajec\n",
    "45 48 23 19\n",
    "```\n",
    "\n",
    "Riadky s komentármi označujú názvy produktov oddelené čiarkou a medzerou a nasledujúci riadok udáva počet predaných kusov. Pre každú kategóriu produktov vytvorte koláčový graf obsahujúci príslušné dáta aj s názvami produktov (názvy produktov nesmú obsahovať čiarku). Produkt s najväčšou početnosťou v každej kategórii graficky zvýraznite cez parameter `explode` (pozíciu najpočetnejšieho produktu musíte zistiť automaticky)."
   ]
  },
  {
   "cell_type": "code",
   "execution_count": 8,
   "metadata": {},
   "outputs": [
    {
     "name": "stdout",
     "output_type": "stream",
     "text": [
      "[['toyota', 'skoda', 'audi', 'mercedes'], ['nestle', 'hami', 'sunar', 'nutrilon', 'beba'], ['apple', 'samsung', 'htc', 'lg', 'huawei', 'xioami'], ['coca-cola', 'pepsi-cola', 'nestea', 'rajec']]\n"
     ]
    }
   ],
   "source": []
  },
  {
   "cell_type": "markdown",
   "metadata": {},
   "source": [
    "Uvažujme [Himmelblaovu funkciu](https://en.wikipedia.org/wiki/Himmelblau%27s_function), ktorá je daná predpisom $f(x, y) = (x^2+y-11)^2+(x+y^2-7)^2$. Ďalej uvažujte rozsah $-6 \\le x \\le 6$ a $-6 \\le y \\le 6$. Do samostatných obrázkov vykreslite:\n",
    "\n",
    "1. priestorový graf\n",
    "2. vrstevnicový graf\n",
    "3. do vrstevnicového grafu vyznačte pozíciu globálneho minima (môžete ho zistiť buď analyticky alebo obyčajným prehľadávaním matice funkčných hodnôt pre vhodné jemné delenie oboch osí)\n",
    "\n",
    "**Bonus:** Himmelblaova funkcia má 4 identické globálne minimá. Zistite a vykreslite pozíciu všetkých z nich. Jednotlivé minimá sú:\n",
    "\n",
    "* x=3.0, y=2.0\n",
    "* x=-2.805118, y=3.131312\n",
    "* x=-3.779310, y=-3.283186\n",
    "* x=3.584428, y=-1.848126"
   ]
  },
  {
   "cell_type": "code",
   "execution_count": null,
   "metadata": {
    "collapsed": true
   },
   "outputs": [],
   "source": []
  }
 ],
 "metadata": {
  "kernelspec": {
   "display_name": "Python 3",
   "language": "python",
   "name": "python3"
  },
  "language_info": {
   "codemirror_mode": {
    "name": "ipython",
    "version": 3
   },
   "file_extension": ".py",
   "mimetype": "text/x-python",
   "name": "python",
   "nbconvert_exporter": "python",
   "pygments_lexer": "ipython3",
   "version": "3.6.2"
  }
 },
 "nbformat": 4,
 "nbformat_minor": 2
}