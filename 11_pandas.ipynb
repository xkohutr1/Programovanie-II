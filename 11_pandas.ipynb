{
 "cells": [
  {
   "cell_type": "markdown",
   "metadata": {},
   "source": [
    "# Pandas\n",
    "\n",
    "Knižnica na dátovú analytiku"
   ]
  },
  {
   "cell_type": "code",
   "execution_count": 1,
   "metadata": {
    "collapsed": true
   },
   "outputs": [],
   "source": [
    "import pandas as pd"
   ]
  },
  {
   "cell_type": "markdown",
   "metadata": {},
   "source": [
    "## Definovanie tabuľky (`DataFrame`)\n",
    "\n",
    "Najjednoduhšie pomocou slovníka, kde kľúče označujú stĺpce tabuľky, napríklad:"
   ]
  },
  {
   "cell_type": "code",
   "execution_count": 2,
   "metadata": {
    "collapsed": true
   },
   "outputs": [],
   "source": [
    "tab = {\n",
    "    'teplota': [10.11, 9.88, 9.49, 8.88, 8.09, 7.32, 7.32, 7.03, 8.09, 9.85],\n",
    "    'vlhkost': [58, 62, 66, 71, 78, 85, 86, 87, 85, 76],\n",
    "    'oblacnost': [0, 10, 22, 32, 25, 31, 41, 48, 55, 56]\n",
    "}"
   ]
  },
  {
   "cell_type": "markdown",
   "metadata": {},
   "source": [
    "Tabuľku vytvoríme pomocou volania funkcie `DataFrame`:"
   ]
  },
  {
   "cell_type": "code",
   "execution_count": 3,
   "metadata": {
    "collapsed": true
   },
   "outputs": [],
   "source": [
    "df = pd.DataFrame(tab)"
   ]
  },
  {
   "cell_type": "markdown",
   "metadata": {},
   "source": [
    "# Zobrazenie tabuľky\n",
    "\n",
    "Tabuľku môžeme zobraziť pomocou funkcie `print`:"
   ]
  },
  {
   "cell_type": "code",
   "execution_count": 4,
   "metadata": {},
   "outputs": [
    {
     "name": "stdout",
     "output_type": "stream",
     "text": [
      "   oblacnost  teplota  vlhkost\n",
      "0          0    10.11       58\n",
      "1         10     9.88       62\n",
      "2         22     9.49       66\n",
      "3         32     8.88       71\n",
      "4         25     8.09       78\n",
      "5         31     7.32       85\n",
      "6         41     7.32       86\n",
      "7         48     7.03       87\n",
      "8         55     8.09       85\n",
      "9         56     9.85       76\n"
     ]
    }
   ],
   "source": [
    "print(df)"
   ]
  },
  {
   "cell_type": "markdown",
   "metadata": {},
   "source": [
    "Ak má tabuľka príliš veľa riadkov, je vhodné zobraziť iba jej úvodnú resp. záverečnú časť. To sa realizuje pomocou metód `head()` resp. `tail()` aplikovaných na objekt reprezentujúci tabuľku:"
   ]
  },
  {
   "cell_type": "code",
   "execution_count": 5,
   "metadata": {},
   "outputs": [
    {
     "name": "stdout",
     "output_type": "stream",
     "text": [
      "   oblacnost  teplota  vlhkost\n",
      "0          0    10.11       58\n",
      "1         10     9.88       62\n",
      "2         22     9.49       66\n",
      "3         32     8.88       71\n",
      "4         25     8.09       78\n"
     ]
    }
   ],
   "source": [
    "print(df.head())"
   ]
  },
  {
   "cell_type": "code",
   "execution_count": 6,
   "metadata": {},
   "outputs": [
    {
     "data": {
      "text/html": [
       "<div>\n",
       "<table border=\"1\" class=\"dataframe\">\n",
       "  <thead>\n",
       "    <tr style=\"text-align: right;\">\n",
       "      <th></th>\n",
       "      <th>oblacnost</th>\n",
       "      <th>teplota</th>\n",
       "      <th>vlhkost</th>\n",
       "    </tr>\n",
       "  </thead>\n",
       "  <tbody>\n",
       "    <tr>\n",
       "      <th>5</th>\n",
       "      <td>31</td>\n",
       "      <td>7.32</td>\n",
       "      <td>85</td>\n",
       "    </tr>\n",
       "    <tr>\n",
       "      <th>6</th>\n",
       "      <td>41</td>\n",
       "      <td>7.32</td>\n",
       "      <td>86</td>\n",
       "    </tr>\n",
       "    <tr>\n",
       "      <th>7</th>\n",
       "      <td>48</td>\n",
       "      <td>7.03</td>\n",
       "      <td>87</td>\n",
       "    </tr>\n",
       "    <tr>\n",
       "      <th>8</th>\n",
       "      <td>55</td>\n",
       "      <td>8.09</td>\n",
       "      <td>85</td>\n",
       "    </tr>\n",
       "    <tr>\n",
       "      <th>9</th>\n",
       "      <td>56</td>\n",
       "      <td>9.85</td>\n",
       "      <td>76</td>\n",
       "    </tr>\n",
       "  </tbody>\n",
       "</table>\n",
       "</div>"
      ],
      "text/plain": [
       "   oblacnost  teplota  vlhkost\n",
       "5         31     7.32       85\n",
       "6         41     7.32       86\n",
       "7         48     7.03       87\n",
       "8         55     8.09       85\n",
       "9         56     9.85       76"
      ]
     },
     "execution_count": 6,
     "metadata": {},
     "output_type": "execute_result"
    }
   ],
   "source": [
    "df.tail()"
   ]
  },
  {
   "cell_type": "code",
   "execution_count": 7,
   "metadata": {},
   "outputs": [
    {
     "data": {
      "text/html": [
       "<div>\n",
       "<table border=\"1\" class=\"dataframe\">\n",
       "  <thead>\n",
       "    <tr style=\"text-align: right;\">\n",
       "      <th></th>\n",
       "      <th>oblacnost</th>\n",
       "      <th>teplota</th>\n",
       "      <th>vlhkost</th>\n",
       "    </tr>\n",
       "  </thead>\n",
       "  <tbody>\n",
       "    <tr>\n",
       "      <th>0</th>\n",
       "      <td>0</td>\n",
       "      <td>10.11</td>\n",
       "      <td>58</td>\n",
       "    </tr>\n",
       "    <tr>\n",
       "      <th>1</th>\n",
       "      <td>10</td>\n",
       "      <td>9.88</td>\n",
       "      <td>62</td>\n",
       "    </tr>\n",
       "    <tr>\n",
       "      <th>2</th>\n",
       "      <td>22</td>\n",
       "      <td>9.49</td>\n",
       "      <td>66</td>\n",
       "    </tr>\n",
       "  </tbody>\n",
       "</table>\n",
       "</div>"
      ],
      "text/plain": [
       "   oblacnost  teplota  vlhkost\n",
       "0          0    10.11       58\n",
       "1         10     9.88       62\n",
       "2         22     9.49       66"
      ]
     },
     "execution_count": 7,
     "metadata": {},
     "output_type": "execute_result"
    }
   ],
   "source": [
    "df.head(3)"
   ]
  },
  {
   "cell_type": "code",
   "execution_count": 8,
   "metadata": {},
   "outputs": [
    {
     "data": {
      "text/html": [
       "<div>\n",
       "<table border=\"1\" class=\"dataframe\">\n",
       "  <thead>\n",
       "    <tr style=\"text-align: right;\">\n",
       "      <th></th>\n",
       "      <th>oblacnost</th>\n",
       "      <th>teplota</th>\n",
       "      <th>vlhkost</th>\n",
       "    </tr>\n",
       "  </thead>\n",
       "  <tbody>\n",
       "    <tr>\n",
       "      <th>6</th>\n",
       "      <td>41</td>\n",
       "      <td>7.32</td>\n",
       "      <td>86</td>\n",
       "    </tr>\n",
       "    <tr>\n",
       "      <th>7</th>\n",
       "      <td>48</td>\n",
       "      <td>7.03</td>\n",
       "      <td>87</td>\n",
       "    </tr>\n",
       "    <tr>\n",
       "      <th>8</th>\n",
       "      <td>55</td>\n",
       "      <td>8.09</td>\n",
       "      <td>85</td>\n",
       "    </tr>\n",
       "    <tr>\n",
       "      <th>9</th>\n",
       "      <td>56</td>\n",
       "      <td>9.85</td>\n",
       "      <td>76</td>\n",
       "    </tr>\n",
       "  </tbody>\n",
       "</table>\n",
       "</div>"
      ],
      "text/plain": [
       "   oblacnost  teplota  vlhkost\n",
       "6         41     7.32       86\n",
       "7         48     7.03       87\n",
       "8         55     8.09       85\n",
       "9         56     9.85       76"
      ]
     },
     "execution_count": 8,
     "metadata": {},
     "output_type": "execute_result"
    }
   ],
   "source": [
    "df.tail(4)"
   ]
  },
  {
   "cell_type": "markdown",
   "metadata": {},
   "source": [
    "# Prístup k jednotlivým stĺpcom tabuľky\n",
    "\n",
    "Objekt reprezentujúci tabuľku je možné indexovať ako slovník pomocou názvu stĺpca:"
   ]
  },
  {
   "cell_type": "code",
   "execution_count": 9,
   "metadata": {},
   "outputs": [
    {
     "name": "stdout",
     "output_type": "stream",
     "text": [
      "0    10.11\n",
      "1     9.88\n",
      "2     9.49\n",
      "3     8.88\n",
      "4     8.09\n",
      "5     7.32\n",
      "6     7.32\n",
      "7     7.03\n",
      "8     8.09\n",
      "9     9.85\n",
      "Name: teplota, dtype: float64\n"
     ]
    }
   ],
   "source": [
    "teplota = df[\"teplota\"]\n",
    "print(teplota)"
   ]
  },
  {
   "cell_type": "markdown",
   "metadata": {},
   "source": [
    "Alternatívne je možné získať stĺpec pomocou prístupu k atribútu:"
   ]
  },
  {
   "cell_type": "code",
   "execution_count": 10,
   "metadata": {},
   "outputs": [
    {
     "name": "stdout",
     "output_type": "stream",
     "text": [
      "0    58\n",
      "1    62\n",
      "2    66\n",
      "3    71\n",
      "4    78\n",
      "5    85\n",
      "6    86\n",
      "7    87\n",
      "8    85\n",
      "9    76\n",
      "Name: vlhkost, dtype: int64\n"
     ]
    }
   ],
   "source": [
    "vlhkost = df.vlhkost\n",
    "vlhkost2 = df[\"vlhkost\"]\n",
    "print(vlhkost)"
   ]
  },
  {
   "cell_type": "markdown",
   "metadata": {},
   "source": [
    "V oboch prípadoch vráti Pandas daný stĺpec ako tzv. `Series` objekt:"
   ]
  },
  {
   "cell_type": "code",
   "execution_count": 11,
   "metadata": {},
   "outputs": [
    {
     "data": {
      "text/plain": [
       "pandas.core.series.Series"
      ]
     },
     "execution_count": 11,
     "metadata": {},
     "output_type": "execute_result"
    }
   ],
   "source": [
    "type(teplota)"
   ]
  },
  {
   "cell_type": "markdown",
   "metadata": {},
   "source": [
    "Ak chceme získať iba hodnoty konkrétneho stĺpca ako `numpy` pole (`ndarray`), vypýtame si ich z atribútu `values` daného stĺpca:"
   ]
  },
  {
   "cell_type": "code",
   "execution_count": 12,
   "metadata": {},
   "outputs": [
    {
     "name": "stdout",
     "output_type": "stream",
     "text": [
      "[ 10.11   9.88   9.49   8.88   8.09   7.32   7.32   7.03   8.09   9.85]\n"
     ]
    }
   ],
   "source": [
    "T = df[\"teplota\"].values\n",
    "print(T)"
   ]
  },
  {
   "cell_type": "code",
   "execution_count": 13,
   "metadata": {},
   "outputs": [
    {
     "data": {
      "text/plain": [
       "numpy.ndarray"
      ]
     },
     "execution_count": 13,
     "metadata": {},
     "output_type": "execute_result"
    }
   ],
   "source": [
    "type(T)"
   ]
  },
  {
   "cell_type": "code",
   "execution_count": 14,
   "metadata": {},
   "outputs": [
    {
     "name": "stdout",
     "output_type": "stream",
     "text": [
      "[58 62 66 71 78 85 86 87 85 76]\n",
      "<class 'numpy.ndarray'>\n"
     ]
    }
   ],
   "source": [
    "V = df.vlhkost.values\n",
    "print(V)\n",
    "print(type(V))"
   ]
  },
  {
   "cell_type": "markdown",
   "metadata": {},
   "source": [
    "Ak chceme získať prvky v stĺpcoch ako python zoznam (`list`), dodatočne aplikujeme metódu `tolist()`:"
   ]
  },
  {
   "cell_type": "code",
   "execution_count": 15,
   "metadata": {},
   "outputs": [
    {
     "name": "stdout",
     "output_type": "stream",
     "text": [
      "[10.11, 9.88, 9.49, 8.88, 8.09, 7.32, 7.32, 7.03, 8.09, 9.85]\n",
      "<class 'list'>\n"
     ]
    }
   ],
   "source": [
    "T2 = df[\"teplota\"].values.tolist()\n",
    "print(T2)\n",
    "print(type(T2))"
   ]
  },
  {
   "cell_type": "code",
   "execution_count": 16,
   "metadata": {},
   "outputs": [
    {
     "name": "stdout",
     "output_type": "stream",
     "text": [
      "[58, 62, 66, 71, 78, 85, 86, 87, 85, 76]\n",
      "<class 'list'>\n"
     ]
    }
   ],
   "source": [
    "V2 = df.vlhkost.values.tolist()\n",
    "print(V2)\n",
    "print(type(V2))"
   ]
  },
  {
   "cell_type": "markdown",
   "metadata": {},
   "source": [
    "Ak chceme získať časť tabuľky korešpondujúcu ku konkrétnym stĺpcom, objekt `DataFrame` indexujeme zoznamom názvov týchto stĺpcov:"
   ]
  },
  {
   "cell_type": "code",
   "execution_count": 17,
   "metadata": {},
   "outputs": [
    {
     "name": "stdout",
     "output_type": "stream",
     "text": [
      "   vlhkost  teplota\n",
      "0       58    10.11\n",
      "1       62     9.88\n",
      "2       66     9.49\n",
      "3       71     8.88\n",
      "4       78     8.09\n",
      "5       85     7.32\n",
      "6       86     7.32\n",
      "7       87     7.03\n",
      "8       85     8.09\n",
      "9       76     9.85\n"
     ]
    }
   ],
   "source": [
    "stlpce = [\"vlhkost\", \"teplota\"]\n",
    "V_T = df[stlpce]\n",
    "print(V_T)"
   ]
  },
  {
   "cell_type": "code",
   "execution_count": 18,
   "metadata": {},
   "outputs": [
    {
     "data": {
      "text/plain": [
       "pandas.core.frame.DataFrame"
      ]
     },
     "execution_count": 18,
     "metadata": {},
     "output_type": "execute_result"
    }
   ],
   "source": [
    "type(V_T)"
   ]
  },
  {
   "cell_type": "code",
   "execution_count": 19,
   "metadata": {},
   "outputs": [
    {
     "data": {
      "text/plain": [
       "[10.11, 9.88, 9.49, 8.88, 8.09, 7.32, 7.32, 7.03, 8.09, 9.85]"
      ]
     },
     "execution_count": 19,
     "metadata": {},
     "output_type": "execute_result"
    }
   ],
   "source": [
    "V_T[\"teplota\"].values.tolist()"
   ]
  },
  {
   "cell_type": "markdown",
   "metadata": {},
   "source": [
    "Alebo kompaktne:"
   ]
  },
  {
   "cell_type": "code",
   "execution_count": null,
   "metadata": {
    "collapsed": true
   },
   "outputs": [],
   "source": [
    "V_T = df[ [\"vlhkost\", \"teplota\"] ]"
   ]
  },
  {
   "cell_type": "markdown",
   "metadata": {},
   "source": [
    "# Prístup k jednotlivým riadkom tabuľky\n",
    "\n",
    "Objekt typu `DataFrame` je možné indexovať aj ako zoznam (`list`) použitím celočíselných rozsahu indexov. Nezabudnime, že Python indexuje od nuly"
   ]
  },
  {
   "cell_type": "code",
   "execution_count": 20,
   "metadata": {},
   "outputs": [
    {
     "name": "stdout",
     "output_type": "stream",
     "text": [
      "   oblacnost  teplota  vlhkost\n",
      "0          0    10.11       58\n",
      "1         10     9.88       62\n",
      "2         22     9.49       66\n"
     ]
    }
   ],
   "source": [
    "riadky = df[0:3]\n",
    "print(riadky)"
   ]
  },
  {
   "cell_type": "code",
   "execution_count": 23,
   "metadata": {},
   "outputs": [
    {
     "name": "stdout",
     "output_type": "stream",
     "text": [
      "   oblacnost  teplota  vlhkost\n",
      "4         25     8.09       78\n",
      "5         31     7.32       85\n"
     ]
    }
   ],
   "source": [
    "print(df[4:6])"
   ]
  },
  {
   "cell_type": "markdown",
   "metadata": {},
   "source": [
    "Výstupom je nová tabuľka:"
   ]
  },
  {
   "cell_type": "code",
   "execution_count": 25,
   "metadata": {},
   "outputs": [
    {
     "data": {
      "text/plain": [
       "pandas.core.frame.DataFrame"
      ]
     },
     "execution_count": 25,
     "metadata": {},
     "output_type": "execute_result"
    }
   ],
   "source": [
    "type(riadky)"
   ]
  },
  {
   "cell_type": "markdown",
   "metadata": {},
   "source": [
    "Takže je s ňou možné pracovať obvyklým spôsobom, napr.:"
   ]
  },
  {
   "cell_type": "code",
   "execution_count": 26,
   "metadata": {},
   "outputs": [
    {
     "name": "stdout",
     "output_type": "stream",
     "text": [
      "[0, 10, 22]\n"
     ]
    }
   ],
   "source": [
    "print(riadky.oblacnost.values.tolist())"
   ]
  },
  {
   "cell_type": "code",
   "execution_count": 27,
   "metadata": {},
   "outputs": [
    {
     "name": "stdout",
     "output_type": "stream",
     "text": [
      "   oblacnost  teplota  vlhkost\n",
      "0          0    10.11       58\n",
      "1         10     9.88       62\n",
      "2         22     9.49       66\n",
      "3         32     8.88       71\n",
      "4         25     8.09       78\n",
      "5         31     7.32       85\n",
      "6         41     7.32       86\n",
      "7         48     7.03       87\n",
      "8         55     8.09       85\n",
      "9         56     9.85       76\n"
     ]
    }
   ],
   "source": [
    "print(df)"
   ]
  },
  {
   "cell_type": "markdown",
   "metadata": {},
   "source": [
    "# Pridanie stĺpca do tabuľky\n",
    "\n",
    "Pridanie stĺpca je realizované ako pridanie nového kľúča do slovníka:"
   ]
  },
  {
   "cell_type": "code",
   "execution_count": 28,
   "metadata": {},
   "outputs": [
    {
     "name": "stdout",
     "output_type": "stream",
     "text": [
      "   oblacnost  teplota  vlhkost                  cas\n",
      "0          0    10.11       58  2021-04-21 21:00:00\n",
      "1         10     9.88       62  2021-04-21 22:00:00\n",
      "2         22     9.49       66  2021-04-21 23:00:00\n",
      "3         32     8.88       71  2021-04-22 00:00:00\n",
      "4         25     8.09       78  2021-04-22 01:00:00\n",
      "5         31     7.32       85  2021-04-22 02:00:00\n",
      "6         41     7.32       86  2021-04-22 03:00:00\n",
      "7         48     7.03       87  2021-04-22 04:00:00\n",
      "8         55     8.09       85  2021-04-22 05:00:00\n",
      "9         56     9.85       76  2021-04-22 06:00:00\n"
     ]
    }
   ],
   "source": [
    "cas = ['2021-04-21 21:00:00', '2021-04-21 22:00:00', '2021-04-21 23:00:00',\n",
    "       '2021-04-22 00:00:00', '2021-04-22 01:00:00', '2021-04-22 02:00:00',\n",
    "       '2021-04-22 03:00:00', '2021-04-22 04:00:00', '2021-04-22 05:00:00', '2021-04-22 06:00:00']\n",
    "df[\"cas\"] = cas\n",
    "print(df)"
   ]
  },
  {
   "cell_type": "markdown",
   "metadata": {},
   "source": [
    "Poznámka: všimnime si, že `DataFrame` je heterogénny dátový typ, kde stĺpce môžu byť rôznych dátových typov"
   ]
  },
  {
   "cell_type": "code",
   "execution_count": 29,
   "metadata": {},
   "outputs": [
    {
     "data": {
      "text/plain": [
       "oblacnost      int64\n",
       "teplota      float64\n",
       "vlhkost        int64\n",
       "cas           object\n",
       "dtype: object"
      ]
     },
     "execution_count": 29,
     "metadata": {},
     "output_type": "execute_result"
    }
   ],
   "source": [
    "df.dtypes"
   ]
  },
  {
   "cell_type": "markdown",
   "metadata": {},
   "source": [
    "# Odobratie stĺpca tabuľky\n",
    "\n",
    "Trvalé odobratie stĺpca sa realizuje pomocou príkazu `del`:"
   ]
  },
  {
   "cell_type": "code",
   "execution_count": 30,
   "metadata": {},
   "outputs": [
    {
     "name": "stdout",
     "output_type": "stream",
     "text": [
      "   oblacnost  teplota  vlhkost\n",
      "0          0    10.11       58\n",
      "1         10     9.88       62\n",
      "2         22     9.49       66\n",
      "3         32     8.88       71\n",
      "4         25     8.09       78\n",
      "5         31     7.32       85\n",
      "6         41     7.32       86\n",
      "7         48     7.03       87\n",
      "8         55     8.09       85\n",
      "9         56     9.85       76\n"
     ]
    }
   ],
   "source": [
    "del df[\"cas\"]\n",
    "print(df)"
   ]
  },
  {
   "cell_type": "markdown",
   "metadata": {},
   "source": [
    "Na ďalšie pokračovanie výkladu odobratý stĺpec opätovne pridáme:"
   ]
  },
  {
   "cell_type": "code",
   "execution_count": 31,
   "metadata": {},
   "outputs": [
    {
     "name": "stdout",
     "output_type": "stream",
     "text": [
      "   oblacnost  teplota  vlhkost                  cas\n",
      "0          0    10.11       58  2021-04-21 21:00:00\n",
      "1         10     9.88       62  2021-04-21 22:00:00\n",
      "2         22     9.49       66  2021-04-21 23:00:00\n",
      "3         32     8.88       71  2021-04-22 00:00:00\n",
      "4         25     8.09       78  2021-04-22 01:00:00\n",
      "5         31     7.32       85  2021-04-22 02:00:00\n",
      "6         41     7.32       86  2021-04-22 03:00:00\n",
      "7         48     7.03       87  2021-04-22 04:00:00\n",
      "8         55     8.09       85  2021-04-22 05:00:00\n",
      "9         56     9.85       76  2021-04-22 06:00:00\n"
     ]
    }
   ],
   "source": [
    "cas = ['2021-04-21 21:00:00', '2021-04-21 22:00:00', '2021-04-21 23:00:00',\n",
    "       '2021-04-22 00:00:00', '2021-04-22 01:00:00', '2021-04-22 02:00:00',\n",
    "       '2021-04-22 03:00:00', '2021-04-22 04:00:00', '2021-04-22 05:00:00', '2021-04-22 06:00:00']\n",
    "df[\"cas\"] = cas\n",
    "print(df)"
   ]
  },
  {
   "cell_type": "markdown",
   "metadata": {},
   "source": [
    "# Parametre tabuľky (veľkosť, názvy stĺpcov)\n",
    "\n",
    "Počet riadkov tabuľky získame aplikáciou funkcie `len`:"
   ]
  },
  {
   "cell_type": "code",
   "execution_count": 32,
   "metadata": {},
   "outputs": [
    {
     "data": {
      "text/plain": [
       "10"
      ]
     },
     "execution_count": 32,
     "metadata": {},
     "output_type": "execute_result"
    }
   ],
   "source": [
    "len(df)"
   ]
  },
  {
   "cell_type": "markdown",
   "metadata": {},
   "source": [
    "Názvy stĺpcov získame z atribútu `columns`:"
   ]
  },
  {
   "cell_type": "code",
   "execution_count": 33,
   "metadata": {},
   "outputs": [
    {
     "name": "stdout",
     "output_type": "stream",
     "text": [
      "Index(['oblacnost', 'teplota', 'vlhkost', 'cas'], dtype='object')\n"
     ]
    }
   ],
   "source": [
    "cols = df.columns\n",
    "print(cols)"
   ]
  },
  {
   "cell_type": "markdown",
   "metadata": {},
   "source": [
    "Objekt typu `Index` sa správa ako bežný Python zoznam (`list`), takže je možné napr. aplikovať funkciu `len` na zistenie počtu stĺpcov:"
   ]
  },
  {
   "cell_type": "code",
   "execution_count": 34,
   "metadata": {},
   "outputs": [
    {
     "data": {
      "text/plain": [
       "4"
      ]
     },
     "execution_count": 34,
     "metadata": {},
     "output_type": "execute_result"
    }
   ],
   "source": [
    "len(cols)"
   ]
  },
  {
   "cell_type": "markdown",
   "metadata": {},
   "source": [
    "Alebo kompaktne:"
   ]
  },
  {
   "cell_type": "code",
   "execution_count": 35,
   "metadata": {},
   "outputs": [
    {
     "name": "stdout",
     "output_type": "stream",
     "text": [
      "4\n"
     ]
    }
   ],
   "source": [
    "pocet_stlpcov = len(df.columns)\n",
    "print(pocet_stlpcov)"
   ]
  },
  {
   "cell_type": "markdown",
   "metadata": {},
   "source": [
    "Prípadne môžeme cez zoznam stĺpcov iterovať:"
   ]
  },
  {
   "cell_type": "code",
   "execution_count": 36,
   "metadata": {},
   "outputs": [
    {
     "name": "stdout",
     "output_type": "stream",
     "text": [
      "oblacnost\n",
      "teplota\n",
      "vlhkost\n",
      "cas\n"
     ]
    }
   ],
   "source": [
    "for stlpec in df.columns:\n",
    "    print(stlpec)"
   ]
  },
  {
   "cell_type": "markdown",
   "metadata": {},
   "source": [
    "# Index tabuľky\n",
    "\n",
    "Indexom je defaultne celočíselný rozsah od `0` (nula) po `N-1`, kde `N` je počet riadkov tabuľky."
   ]
  },
  {
   "cell_type": "code",
   "execution_count": 37,
   "metadata": {},
   "outputs": [
    {
     "name": "stdout",
     "output_type": "stream",
     "text": [
      "   oblacnost  teplota  vlhkost                  cas\n",
      "0          0    10.11       58  2021-04-21 21:00:00\n",
      "1         10     9.88       62  2021-04-21 22:00:00\n",
      "2         22     9.49       66  2021-04-21 23:00:00\n",
      "3         32     8.88       71  2021-04-22 00:00:00\n",
      "4         25     8.09       78  2021-04-22 01:00:00\n"
     ]
    }
   ],
   "source": [
    "print(df.head())"
   ]
  },
  {
   "cell_type": "markdown",
   "metadata": {},
   "source": [
    "Pomocou metódy `iloc` (integer location) sa potom vieme spýtať na konkrétny riadok a automaticky ho konvertovať na štruktúru..."
   ]
  },
  {
   "cell_type": "code",
   "execution_count": 40,
   "metadata": {},
   "outputs": [
    {
     "name": "stdout",
     "output_type": "stream",
     "text": [
      "   oblacnost  teplota  vlhkost                  cas\n",
      "0          0    10.11       58  2021-04-21 21:00:00\n",
      "<class 'pandas.core.frame.DataFrame'>\n"
     ]
    }
   ],
   "source": [
    "riadok = df[0:1]\n",
    "print(riadok)\n",
    "print(type(riadok))"
   ]
  },
  {
   "cell_type": "code",
   "execution_count": 41,
   "metadata": {},
   "outputs": [
    {
     "name": "stdout",
     "output_type": "stream",
     "text": [
      "oblacnost                      0\n",
      "teplota                    10.11\n",
      "vlhkost                       58\n",
      "cas          2021-04-21 21:00:00\n",
      "Name: 0, dtype: object\n"
     ]
    }
   ],
   "source": [
    "riadok_ako_struktura = df.iloc[0]\n",
    "print(riadok_ako_struktura)"
   ]
  },
  {
   "cell_type": "markdown",
   "metadata": {},
   "source": [
    "K hodnotám tejto štruktúry potom môžeme pristúpiť cez jej atribúty, napr:"
   ]
  },
  {
   "cell_type": "code",
   "execution_count": 42,
   "metadata": {},
   "outputs": [
    {
     "name": "stdout",
     "output_type": "stream",
     "text": [
      "10.11\n"
     ]
    }
   ],
   "source": [
    "T0 = riadok_ako_struktura.teplota\n",
    "print(T0)"
   ]
  },
  {
   "cell_type": "markdown",
   "metadata": {},
   "source": [
    "Rýchly prístup ku konkrétnej bunke tabuľky keď poznáme jej celočíselný index riadka a reťazcový názov stĺpca"
   ]
  },
  {
   "cell_type": "code",
   "execution_count": 43,
   "metadata": {},
   "outputs": [
    {
     "data": {
      "text/plain": [
       "66"
      ]
     },
     "execution_count": 43,
     "metadata": {},
     "output_type": "execute_result"
    }
   ],
   "source": [
    "df.iloc[2].vlhkost"
   ]
  },
  {
   "cell_type": "code",
   "execution_count": 45,
   "metadata": {},
   "outputs": [
    {
     "data": {
      "text/html": [
       "<div>\n",
       "<table border=\"1\" class=\"dataframe\">\n",
       "  <thead>\n",
       "    <tr style=\"text-align: right;\">\n",
       "      <th></th>\n",
       "      <th>oblacnost</th>\n",
       "      <th>teplota</th>\n",
       "      <th>vlhkost</th>\n",
       "      <th>cas</th>\n",
       "    </tr>\n",
       "  </thead>\n",
       "  <tbody>\n",
       "    <tr>\n",
       "      <th>0</th>\n",
       "      <td>0</td>\n",
       "      <td>10.11</td>\n",
       "      <td>58</td>\n",
       "      <td>2021-04-21 21:00:00</td>\n",
       "    </tr>\n",
       "    <tr>\n",
       "      <th>1</th>\n",
       "      <td>10</td>\n",
       "      <td>9.88</td>\n",
       "      <td>62</td>\n",
       "      <td>2021-04-21 22:00:00</td>\n",
       "    </tr>\n",
       "    <tr>\n",
       "      <th>2</th>\n",
       "      <td>22</td>\n",
       "      <td>9.49</td>\n",
       "      <td>66</td>\n",
       "      <td>2021-04-21 23:00:00</td>\n",
       "    </tr>\n",
       "    <tr>\n",
       "      <th>3</th>\n",
       "      <td>32</td>\n",
       "      <td>8.88</td>\n",
       "      <td>71</td>\n",
       "      <td>2021-04-22 00:00:00</td>\n",
       "    </tr>\n",
       "    <tr>\n",
       "      <th>4</th>\n",
       "      <td>25</td>\n",
       "      <td>8.09</td>\n",
       "      <td>78</td>\n",
       "      <td>2021-04-22 01:00:00</td>\n",
       "    </tr>\n",
       "  </tbody>\n",
       "</table>\n",
       "</div>"
      ],
      "text/plain": [
       "   oblacnost  teplota  vlhkost                  cas\n",
       "0          0    10.11       58  2021-04-21 21:00:00\n",
       "1         10     9.88       62  2021-04-21 22:00:00\n",
       "2         22     9.49       66  2021-04-21 23:00:00\n",
       "3         32     8.88       71  2021-04-22 00:00:00\n",
       "4         25     8.09       78  2021-04-22 01:00:00"
      ]
     },
     "execution_count": 45,
     "metadata": {},
     "output_type": "execute_result"
    }
   ],
   "source": [
    "df.head()"
   ]
  },
  {
   "cell_type": "markdown",
   "metadata": {},
   "source": [
    "Niekedy je však výhodné riadky neindexovať číslom riadka, ale niektorým zo stĺpcom tabuľky. V našom vzorovom príklade je napríklad výhodné riadky označovať časovou značkou. To dosiahneme pomocou metódy `set_index`, ktorá označí daný stĺpec ako index tabuľky:"
   ]
  },
  {
   "cell_type": "code",
   "execution_count": 46,
   "metadata": {},
   "outputs": [
    {
     "name": "stdout",
     "output_type": "stream",
     "text": [
      "                     oblacnost  teplota  vlhkost\n",
      "cas                                             \n",
      "2021-04-21 21:00:00          0    10.11       58\n",
      "2021-04-21 22:00:00         10     9.88       62\n",
      "2021-04-21 23:00:00         22     9.49       66\n",
      "2021-04-22 00:00:00         32     8.88       71\n",
      "2021-04-22 01:00:00         25     8.09       78\n",
      "2021-04-22 02:00:00         31     7.32       85\n",
      "2021-04-22 03:00:00         41     7.32       86\n",
      "2021-04-22 04:00:00         48     7.03       87\n",
      "2021-04-22 05:00:00         55     8.09       85\n",
      "2021-04-22 06:00:00         56     9.85       76\n"
     ]
    }
   ],
   "source": [
    "novy_df = df.set_index(\"cas\")\n",
    "print(novy_df)"
   ]
  },
  {
   "cell_type": "markdown",
   "metadata": {},
   "source": [
    "Výhoda je, že teraz sa môžeme spýtať na riadok pomocou dátumu/času. Použijeme na to metódu `loc`:"
   ]
  },
  {
   "cell_type": "code",
   "execution_count": 47,
   "metadata": {},
   "outputs": [
    {
     "name": "stdout",
     "output_type": "stream",
     "text": [
      "oblacnost    32.00\n",
      "teplota       8.88\n",
      "vlhkost      71.00\n",
      "Name: 2021-04-22 00:00:00, dtype: float64\n"
     ]
    }
   ],
   "source": [
    "polnoc = novy_df.loc[\"2021-04-22 00:00:00\"]\n",
    "print(polnoc)"
   ]
  },
  {
   "cell_type": "markdown",
   "metadata": {},
   "source": [
    "Stále však bude fungovať aj celočíselné indexovanie cez `iloc`, akurát, že musím vedieť, na ktorom riadku sa polnoc nachádza:"
   ]
  },
  {
   "cell_type": "code",
   "execution_count": 48,
   "metadata": {},
   "outputs": [
    {
     "name": "stdout",
     "output_type": "stream",
     "text": [
      "oblacnost    32.00\n",
      "teplota       8.88\n",
      "vlhkost      71.00\n",
      "Name: 2021-04-22 00:00:00, dtype: float64\n"
     ]
    }
   ],
   "source": [
    "polnoc2 = novy_df.iloc[3]\n",
    "print(polnoc2)"
   ]
  },
  {
   "cell_type": "markdown",
   "metadata": {},
   "source": [
    "Metóde `loc` môžeme poskytnúť aj rozsah hodnôt indexov, napr:"
   ]
  },
  {
   "cell_type": "code",
   "execution_count": 49,
   "metadata": {},
   "outputs": [
    {
     "name": "stdout",
     "output_type": "stream",
     "text": [
      "                     oblacnost  teplota  vlhkost\n",
      "cas                                             \n",
      "2021-04-21 21:00:00          0    10.11       58\n",
      "2021-04-21 22:00:00         10     9.88       62\n",
      "2021-04-21 23:00:00         22     9.49       66\n"
     ]
    }
   ],
   "source": [
    "vecer = novy_df.loc[\"2021-04-21 21:00:00\":\"2021-04-21 23:00:00\"]\n",
    "print(vecer)"
   ]
  },
  {
   "cell_type": "code",
   "execution_count": 50,
   "metadata": {},
   "outputs": [
    {
     "data": {
      "text/html": [
       "<div>\n",
       "<table border=\"1\" class=\"dataframe\">\n",
       "  <thead>\n",
       "    <tr style=\"text-align: right;\">\n",
       "      <th></th>\n",
       "      <th>oblacnost</th>\n",
       "      <th>teplota</th>\n",
       "      <th>vlhkost</th>\n",
       "    </tr>\n",
       "    <tr>\n",
       "      <th>cas</th>\n",
       "      <th></th>\n",
       "      <th></th>\n",
       "      <th></th>\n",
       "    </tr>\n",
       "  </thead>\n",
       "  <tbody>\n",
       "    <tr>\n",
       "      <th>2021-04-21 21:00:00</th>\n",
       "      <td>0</td>\n",
       "      <td>10.11</td>\n",
       "      <td>58</td>\n",
       "    </tr>\n",
       "    <tr>\n",
       "      <th>2021-04-21 22:00:00</th>\n",
       "      <td>10</td>\n",
       "      <td>9.88</td>\n",
       "      <td>62</td>\n",
       "    </tr>\n",
       "    <tr>\n",
       "      <th>2021-04-21 23:00:00</th>\n",
       "      <td>22</td>\n",
       "      <td>9.49</td>\n",
       "      <td>66</td>\n",
       "    </tr>\n",
       "    <tr>\n",
       "      <th>2021-04-22 00:00:00</th>\n",
       "      <td>32</td>\n",
       "      <td>8.88</td>\n",
       "      <td>71</td>\n",
       "    </tr>\n",
       "    <tr>\n",
       "      <th>2021-04-22 01:00:00</th>\n",
       "      <td>25</td>\n",
       "      <td>8.09</td>\n",
       "      <td>78</td>\n",
       "    </tr>\n",
       "    <tr>\n",
       "      <th>2021-04-22 02:00:00</th>\n",
       "      <td>31</td>\n",
       "      <td>7.32</td>\n",
       "      <td>85</td>\n",
       "    </tr>\n",
       "    <tr>\n",
       "      <th>2021-04-22 03:00:00</th>\n",
       "      <td>41</td>\n",
       "      <td>7.32</td>\n",
       "      <td>86</td>\n",
       "    </tr>\n",
       "    <tr>\n",
       "      <th>2021-04-22 04:00:00</th>\n",
       "      <td>48</td>\n",
       "      <td>7.03</td>\n",
       "      <td>87</td>\n",
       "    </tr>\n",
       "    <tr>\n",
       "      <th>2021-04-22 05:00:00</th>\n",
       "      <td>55</td>\n",
       "      <td>8.09</td>\n",
       "      <td>85</td>\n",
       "    </tr>\n",
       "    <tr>\n",
       "      <th>2021-04-22 06:00:00</th>\n",
       "      <td>56</td>\n",
       "      <td>9.85</td>\n",
       "      <td>76</td>\n",
       "    </tr>\n",
       "  </tbody>\n",
       "</table>\n",
       "</div>"
      ],
      "text/plain": [
       "                     oblacnost  teplota  vlhkost\n",
       "cas                                             \n",
       "2021-04-21 21:00:00          0    10.11       58\n",
       "2021-04-21 22:00:00         10     9.88       62\n",
       "2021-04-21 23:00:00         22     9.49       66\n",
       "2021-04-22 00:00:00         32     8.88       71\n",
       "2021-04-22 01:00:00         25     8.09       78\n",
       "2021-04-22 02:00:00         31     7.32       85\n",
       "2021-04-22 03:00:00         41     7.32       86\n",
       "2021-04-22 04:00:00         48     7.03       87\n",
       "2021-04-22 05:00:00         55     8.09       85\n",
       "2021-04-22 06:00:00         56     9.85       76"
      ]
     },
     "execution_count": 50,
     "metadata": {},
     "output_type": "execute_result"
    }
   ],
   "source": [
    "novy_df"
   ]
  },
  {
   "cell_type": "markdown",
   "metadata": {},
   "source": [
    "Požadovaný rozsah dokonca môže byť väčší ako rozsah dát v tabuľke:"
   ]
  },
  {
   "cell_type": "code",
   "execution_count": 51,
   "metadata": {},
   "outputs": [
    {
     "name": "stdout",
     "output_type": "stream",
     "text": [
      "                     oblacnost  teplota  vlhkost\n",
      "cas                                             \n",
      "2021-04-22 00:00:00         32     8.88       71\n",
      "2021-04-22 01:00:00         25     8.09       78\n",
      "2021-04-22 02:00:00         31     7.32       85\n",
      "2021-04-22 03:00:00         41     7.32       86\n",
      "2021-04-22 04:00:00         48     7.03       87\n",
      "2021-04-22 05:00:00         55     8.09       85\n",
      "2021-04-22 06:00:00         56     9.85       76\n"
     ]
    }
   ],
   "source": [
    "dnes = novy_df.loc[\"2021-04-22 00:00:00\":\"2021-04-22 23:59:59\"]\n",
    "print(dnes)"
   ]
  },
  {
   "cell_type": "markdown",
   "metadata": {},
   "source": [
    "Taktiež môžeme filtrovanie podľa indexu obmedziť iba na konkrétne stĺpce tým, že metóde `loc` ako druhý vstupný argument poskytneme zoznam názvov stĺpcov, o ktoré máme záujem:"
   ]
  },
  {
   "cell_type": "code",
   "execution_count": 52,
   "metadata": {},
   "outputs": [
    {
     "name": "stdout",
     "output_type": "stream",
     "text": [
      "                     teplota  oblacnost\n",
      "cas                                    \n",
      "2021-04-21 21:00:00    10.11          0\n",
      "2021-04-21 22:00:00     9.88         10\n",
      "2021-04-21 23:00:00     9.49         22\n"
     ]
    }
   ],
   "source": [
    "vcera = novy_df.loc[\"2021-04-21 00:00:00\":\"2021-04-21 23:59:59\", [\"teplota\", \"oblacnost\"]]\n",
    "print(vcera)"
   ]
  },
  {
   "cell_type": "markdown",
   "metadata": {},
   "source": [
    "Riadky tiež môžeme filtrovať pomocou podmienok, napr:"
   ]
  },
  {
   "cell_type": "code",
   "execution_count": 53,
   "metadata": {},
   "outputs": [
    {
     "data": {
      "text/html": [
       "<div>\n",
       "<table border=\"1\" class=\"dataframe\">\n",
       "  <thead>\n",
       "    <tr style=\"text-align: right;\">\n",
       "      <th></th>\n",
       "      <th>oblacnost</th>\n",
       "      <th>teplota</th>\n",
       "      <th>vlhkost</th>\n",
       "    </tr>\n",
       "    <tr>\n",
       "      <th>cas</th>\n",
       "      <th></th>\n",
       "      <th></th>\n",
       "      <th></th>\n",
       "    </tr>\n",
       "  </thead>\n",
       "  <tbody>\n",
       "    <tr>\n",
       "      <th>2021-04-21 21:00:00</th>\n",
       "      <td>0</td>\n",
       "      <td>10.11</td>\n",
       "      <td>58</td>\n",
       "    </tr>\n",
       "    <tr>\n",
       "      <th>2021-04-21 22:00:00</th>\n",
       "      <td>10</td>\n",
       "      <td>9.88</td>\n",
       "      <td>62</td>\n",
       "    </tr>\n",
       "    <tr>\n",
       "      <th>2021-04-21 23:00:00</th>\n",
       "      <td>22</td>\n",
       "      <td>9.49</td>\n",
       "      <td>66</td>\n",
       "    </tr>\n",
       "    <tr>\n",
       "      <th>2021-04-22 00:00:00</th>\n",
       "      <td>32</td>\n",
       "      <td>8.88</td>\n",
       "      <td>71</td>\n",
       "    </tr>\n",
       "    <tr>\n",
       "      <th>2021-04-22 01:00:00</th>\n",
       "      <td>25</td>\n",
       "      <td>8.09</td>\n",
       "      <td>78</td>\n",
       "    </tr>\n",
       "    <tr>\n",
       "      <th>2021-04-22 05:00:00</th>\n",
       "      <td>55</td>\n",
       "      <td>8.09</td>\n",
       "      <td>85</td>\n",
       "    </tr>\n",
       "    <tr>\n",
       "      <th>2021-04-22 06:00:00</th>\n",
       "      <td>56</td>\n",
       "      <td>9.85</td>\n",
       "      <td>76</td>\n",
       "    </tr>\n",
       "  </tbody>\n",
       "</table>\n",
       "</div>"
      ],
      "text/plain": [
       "                     oblacnost  teplota  vlhkost\n",
       "cas                                             \n",
       "2021-04-21 21:00:00          0    10.11       58\n",
       "2021-04-21 22:00:00         10     9.88       62\n",
       "2021-04-21 23:00:00         22     9.49       66\n",
       "2021-04-22 00:00:00         32     8.88       71\n",
       "2021-04-22 01:00:00         25     8.09       78\n",
       "2021-04-22 05:00:00         55     8.09       85\n",
       "2021-04-22 06:00:00         56     9.85       76"
      ]
     },
     "execution_count": 53,
     "metadata": {},
     "output_type": "execute_result"
    }
   ],
   "source": [
    "novy_df[ novy_df[\"teplota\"] > 8 ]"
   ]
  },
  {
   "cell_type": "markdown",
   "metadata": {},
   "source": [
    "# Pridanie riadka do tabuľky\n",
    "\n",
    "Realizuje da pomocou metódy `append`:"
   ]
  },
  {
   "cell_type": "code",
   "execution_count": 54,
   "metadata": {},
   "outputs": [
    {
     "name": "stdout",
     "output_type": "stream",
     "text": [
      "                     oblacnost  teplota\n",
      "cas                                    \n",
      "2021-04-21 23:30:00         50     12.5\n"
     ]
    }
   ],
   "source": [
    "novy = pd.DataFrame({'cas': ['2021-04-21 23:30:00'], 'oblacnost': [50], 'teplota': [12.5]}).set_index('cas')\n",
    "print(novy)"
   ]
  },
  {
   "cell_type": "code",
   "execution_count": 55,
   "metadata": {},
   "outputs": [
    {
     "data": {
      "text/html": [
       "<div>\n",
       "<table border=\"1\" class=\"dataframe\">\n",
       "  <thead>\n",
       "    <tr style=\"text-align: right;\">\n",
       "      <th></th>\n",
       "      <th>oblacnost</th>\n",
       "      <th>teplota</th>\n",
       "    </tr>\n",
       "    <tr>\n",
       "      <th>cas</th>\n",
       "      <th></th>\n",
       "      <th></th>\n",
       "    </tr>\n",
       "  </thead>\n",
       "  <tbody>\n",
       "    <tr>\n",
       "      <th>2021-04-21 21:00:00</th>\n",
       "      <td>0</td>\n",
       "      <td>10.11</td>\n",
       "    </tr>\n",
       "    <tr>\n",
       "      <th>2021-04-21 22:00:00</th>\n",
       "      <td>10</td>\n",
       "      <td>9.88</td>\n",
       "    </tr>\n",
       "    <tr>\n",
       "      <th>2021-04-21 23:00:00</th>\n",
       "      <td>22</td>\n",
       "      <td>9.49</td>\n",
       "    </tr>\n",
       "    <tr>\n",
       "      <th>2021-04-21 23:30:00</th>\n",
       "      <td>50</td>\n",
       "      <td>12.50</td>\n",
       "    </tr>\n",
       "  </tbody>\n",
       "</table>\n",
       "</div>"
      ],
      "text/plain": [
       "                     oblacnost  teplota\n",
       "cas                                    \n",
       "2021-04-21 21:00:00          0    10.11\n",
       "2021-04-21 22:00:00         10     9.88\n",
       "2021-04-21 23:00:00         22     9.49\n",
       "2021-04-21 23:30:00         50    12.50"
      ]
     },
     "execution_count": 55,
     "metadata": {},
     "output_type": "execute_result"
    }
   ],
   "source": [
    "vcera.append(novy)"
   ]
  },
  {
   "cell_type": "markdown",
   "metadata": {},
   "source": [
    "# Štatistické vyhodnotenie údajov v tabuľke"
   ]
  },
  {
   "cell_type": "markdown",
   "metadata": {},
   "source": [
    "Metóda `describe` vypočíta pre každý stĺpec štatistické ukazovatele:"
   ]
  },
  {
   "cell_type": "code",
   "execution_count": 56,
   "metadata": {},
   "outputs": [
    {
     "data": {
      "text/html": [
       "<div>\n",
       "<table border=\"1\" class=\"dataframe\">\n",
       "  <thead>\n",
       "    <tr style=\"text-align: right;\">\n",
       "      <th></th>\n",
       "      <th>oblacnost</th>\n",
       "      <th>teplota</th>\n",
       "      <th>vlhkost</th>\n",
       "    </tr>\n",
       "  </thead>\n",
       "  <tbody>\n",
       "    <tr>\n",
       "      <th>count</th>\n",
       "      <td>10.000000</td>\n",
       "      <td>10.000000</td>\n",
       "      <td>10.000000</td>\n",
       "    </tr>\n",
       "    <tr>\n",
       "      <th>mean</th>\n",
       "      <td>32.000000</td>\n",
       "      <td>8.606000</td>\n",
       "      <td>75.400000</td>\n",
       "    </tr>\n",
       "    <tr>\n",
       "      <th>std</th>\n",
       "      <td>18.559215</td>\n",
       "      <td>1.183828</td>\n",
       "      <td>10.689559</td>\n",
       "    </tr>\n",
       "    <tr>\n",
       "      <th>min</th>\n",
       "      <td>0.000000</td>\n",
       "      <td>7.030000</td>\n",
       "      <td>58.000000</td>\n",
       "    </tr>\n",
       "    <tr>\n",
       "      <th>25%</th>\n",
       "      <td>22.750000</td>\n",
       "      <td>7.512500</td>\n",
       "      <td>67.250000</td>\n",
       "    </tr>\n",
       "    <tr>\n",
       "      <th>50%</th>\n",
       "      <td>31.500000</td>\n",
       "      <td>8.485000</td>\n",
       "      <td>77.000000</td>\n",
       "    </tr>\n",
       "    <tr>\n",
       "      <th>75%</th>\n",
       "      <td>46.250000</td>\n",
       "      <td>9.760000</td>\n",
       "      <td>85.000000</td>\n",
       "    </tr>\n",
       "    <tr>\n",
       "      <th>max</th>\n",
       "      <td>56.000000</td>\n",
       "      <td>10.110000</td>\n",
       "      <td>87.000000</td>\n",
       "    </tr>\n",
       "  </tbody>\n",
       "</table>\n",
       "</div>"
      ],
      "text/plain": [
       "       oblacnost    teplota    vlhkost\n",
       "count  10.000000  10.000000  10.000000\n",
       "mean   32.000000   8.606000  75.400000\n",
       "std    18.559215   1.183828  10.689559\n",
       "min     0.000000   7.030000  58.000000\n",
       "25%    22.750000   7.512500  67.250000\n",
       "50%    31.500000   8.485000  77.000000\n",
       "75%    46.250000   9.760000  85.000000\n",
       "max    56.000000  10.110000  87.000000"
      ]
     },
     "execution_count": 56,
     "metadata": {},
     "output_type": "execute_result"
    }
   ],
   "source": [
    "df.describe()"
   ]
  },
  {
   "cell_type": "markdown",
   "metadata": {},
   "source": [
    "Jednotlivé štatistické vlastnosti môžeme získať aj priamo aplikáciou príslušných metód:\n",
    "* `count`\n",
    "* `mean`\n",
    "* `std`\n",
    "* `min`\n",
    "* `max`"
   ]
  },
  {
   "cell_type": "code",
   "execution_count": 57,
   "metadata": {},
   "outputs": [
    {
     "data": {
      "text/plain": [
       "oblacnost    10\n",
       "teplota      10\n",
       "vlhkost      10\n",
       "cas          10\n",
       "dtype: int64"
      ]
     },
     "execution_count": 57,
     "metadata": {},
     "output_type": "execute_result"
    }
   ],
   "source": [
    "df.count()"
   ]
  },
  {
   "cell_type": "code",
   "execution_count": null,
   "metadata": {
    "collapsed": true
   },
   "outputs": [],
   "source": [
    "df.teplota.count()"
   ]
  },
  {
   "cell_type": "code",
   "execution_count": 58,
   "metadata": {},
   "outputs": [
    {
     "data": {
      "text/plain": [
       "8.6059999999999999"
      ]
     },
     "execution_count": 58,
     "metadata": {},
     "output_type": "execute_result"
    }
   ],
   "source": [
    "df.teplota.mean()"
   ]
  },
  {
   "cell_type": "code",
   "execution_count": 59,
   "metadata": {},
   "outputs": [
    {
     "data": {
      "text/plain": [
       "58"
      ]
     },
     "execution_count": 59,
     "metadata": {},
     "output_type": "execute_result"
    }
   ],
   "source": [
    "df.vlhkost.min()"
   ]
  },
  {
   "cell_type": "code",
   "execution_count": 60,
   "metadata": {},
   "outputs": [
    {
     "data": {
      "text/plain": [
       "56"
      ]
     },
     "execution_count": 60,
     "metadata": {},
     "output_type": "execute_result"
    }
   ],
   "source": [
    "df.oblacnost.max()"
   ]
  },
  {
   "cell_type": "code",
   "execution_count": 61,
   "metadata": {},
   "outputs": [
    {
     "data": {
      "text/plain": [
       "58"
      ]
     },
     "execution_count": 61,
     "metadata": {},
     "output_type": "execute_result"
    }
   ],
   "source": [
    "df[\"vlhkost\"].min()"
   ]
  },
  {
   "cell_type": "markdown",
   "metadata": {},
   "source": [
    "# Načítanie dát\n",
    "\n",
    "Pandas vie načítať dáta z rôznych formátov:\n",
    "* `read_csv()` - načítanie zo súboru v comma separated value formáte\n",
    "* `read_json()` - načítanie zo súboru v JSON formáte\n",
    "* `read_xml()` - načítanie zo súboru v XML formáte"
   ]
  },
  {
   "cell_type": "code",
   "execution_count": 62,
   "metadata": {
    "collapsed": true
   },
   "outputs": [],
   "source": [
    "df = pd.read_csv('bratislava_weather.csv')"
   ]
  },
  {
   "cell_type": "code",
   "execution_count": 63,
   "metadata": {},
   "outputs": [
    {
     "name": "stdout",
     "output_type": "stream",
     "text": [
      "                    dt   temp  feels_like  pressure  humidity  dew_point  uvi  \\\n",
      "0  2021-04-21 21:00:00  10.11        8.69      1014        58       2.23  0.0   \n",
      "1  2021-04-21 22:00:00   9.88        9.59      1014        62       2.95  0.0   \n",
      "2  2021-04-21 23:00:00   9.49        9.22      1014        66       3.46  0.0   \n",
      "3  2021-04-22 00:00:00   8.88        8.50      1015        71       3.92  0.0   \n",
      "4  2021-04-22 01:00:00   8.09        7.47      1015        78       4.49  0.0   \n",
      "\n",
      "   clouds  visibility  wind_speed  wind_deg  wind_gust   pop  \n",
      "0       0       10000        1.85       223       2.19  0.42  \n",
      "1      10       10000        1.43       275       1.71  0.42  \n",
      "2      22       10000        1.36       295       1.59  0.48  \n",
      "3      32       10000        1.39       300       1.57  0.38  \n",
      "4      25       10000        1.50       308       1.59  0.26  \n"
     ]
    }
   ],
   "source": [
    "print(df.head())"
   ]
  },
  {
   "cell_type": "code",
   "execution_count": 64,
   "metadata": {},
   "outputs": [
    {
     "data": {
      "text/html": [
       "<div>\n",
       "<table border=\"1\" class=\"dataframe\">\n",
       "  <thead>\n",
       "    <tr style=\"text-align: right;\">\n",
       "      <th></th>\n",
       "      <th>temp</th>\n",
       "      <th>feels_like</th>\n",
       "      <th>pressure</th>\n",
       "      <th>humidity</th>\n",
       "      <th>dew_point</th>\n",
       "      <th>uvi</th>\n",
       "      <th>clouds</th>\n",
       "      <th>visibility</th>\n",
       "      <th>wind_speed</th>\n",
       "      <th>wind_deg</th>\n",
       "      <th>wind_gust</th>\n",
       "      <th>pop</th>\n",
       "    </tr>\n",
       "  </thead>\n",
       "  <tbody>\n",
       "    <tr>\n",
       "      <th>count</th>\n",
       "      <td>48.000000</td>\n",
       "      <td>48.000000</td>\n",
       "      <td>48.000000</td>\n",
       "      <td>48.000000</td>\n",
       "      <td>48.000000</td>\n",
       "      <td>48.000000</td>\n",
       "      <td>48.000000</td>\n",
       "      <td>48.0</td>\n",
       "      <td>48.000000</td>\n",
       "      <td>48.000000</td>\n",
       "      <td>48.000000</td>\n",
       "      <td>48.000000</td>\n",
       "    </tr>\n",
       "    <tr>\n",
       "      <th>mean</th>\n",
       "      <td>8.529792</td>\n",
       "      <td>6.850417</td>\n",
       "      <td>1020.666667</td>\n",
       "      <td>63.520833</td>\n",
       "      <td>1.669167</td>\n",
       "      <td>0.975000</td>\n",
       "      <td>52.145833</td>\n",
       "      <td>10000.0</td>\n",
       "      <td>3.808333</td>\n",
       "      <td>314.270833</td>\n",
       "      <td>5.768958</td>\n",
       "      <td>0.082500</td>\n",
       "    </tr>\n",
       "    <tr>\n",
       "      <th>std</th>\n",
       "      <td>3.477164</td>\n",
       "      <td>3.959502</td>\n",
       "      <td>3.861062</td>\n",
       "      <td>13.070984</td>\n",
       "      <td>2.519627</td>\n",
       "      <td>1.316527</td>\n",
       "      <td>30.985920</td>\n",
       "      <td>0.0</td>\n",
       "      <td>1.864461</td>\n",
       "      <td>21.008346</td>\n",
       "      <td>3.070493</td>\n",
       "      <td>0.129426</td>\n",
       "    </tr>\n",
       "    <tr>\n",
       "      <th>min</th>\n",
       "      <td>1.550000</td>\n",
       "      <td>-1.460000</td>\n",
       "      <td>1014.000000</td>\n",
       "      <td>38.000000</td>\n",
       "      <td>-1.360000</td>\n",
       "      <td>0.000000</td>\n",
       "      <td>0.000000</td>\n",
       "      <td>10000.0</td>\n",
       "      <td>1.360000</td>\n",
       "      <td>223.000000</td>\n",
       "      <td>1.570000</td>\n",
       "      <td>0.000000</td>\n",
       "    </tr>\n",
       "    <tr>\n",
       "      <th>25%</th>\n",
       "      <td>6.110000</td>\n",
       "      <td>4.077500</td>\n",
       "      <td>1017.750000</td>\n",
       "      <td>57.500000</td>\n",
       "      <td>-0.350000</td>\n",
       "      <td>0.000000</td>\n",
       "      <td>30.750000</td>\n",
       "      <td>10000.0</td>\n",
       "      <td>2.335000</td>\n",
       "      <td>306.750000</td>\n",
       "      <td>2.770000</td>\n",
       "      <td>0.000000</td>\n",
       "    </tr>\n",
       "    <tr>\n",
       "      <th>50%</th>\n",
       "      <td>9.115000</td>\n",
       "      <td>7.725000</td>\n",
       "      <td>1022.000000</td>\n",
       "      <td>63.500000</td>\n",
       "      <td>0.610000</td>\n",
       "      <td>0.185000</td>\n",
       "      <td>50.000000</td>\n",
       "      <td>10000.0</td>\n",
       "      <td>3.050000</td>\n",
       "      <td>315.500000</td>\n",
       "      <td>6.195000</td>\n",
       "      <td>0.000000</td>\n",
       "    </tr>\n",
       "    <tr>\n",
       "      <th>75%</th>\n",
       "      <td>11.185000</td>\n",
       "      <td>9.645000</td>\n",
       "      <td>1024.000000</td>\n",
       "      <td>70.250000</td>\n",
       "      <td>4.062500</td>\n",
       "      <td>1.555000</td>\n",
       "      <td>79.250000</td>\n",
       "      <td>10000.0</td>\n",
       "      <td>5.842500</td>\n",
       "      <td>326.000000</td>\n",
       "      <td>8.900000</td>\n",
       "      <td>0.130000</td>\n",
       "    </tr>\n",
       "    <tr>\n",
       "      <th>max</th>\n",
       "      <td>13.630000</td>\n",
       "      <td>12.250000</td>\n",
       "      <td>1026.000000</td>\n",
       "      <td>87.000000</td>\n",
       "      <td>6.100000</td>\n",
       "      <td>4.230000</td>\n",
       "      <td>100.000000</td>\n",
       "      <td>10000.0</td>\n",
       "      <td>7.030000</td>\n",
       "      <td>353.000000</td>\n",
       "      <td>10.400000</td>\n",
       "      <td>0.480000</td>\n",
       "    </tr>\n",
       "  </tbody>\n",
       "</table>\n",
       "</div>"
      ],
      "text/plain": [
       "            temp  feels_like     pressure   humidity  dew_point        uvi  \\\n",
       "count  48.000000   48.000000    48.000000  48.000000  48.000000  48.000000   \n",
       "mean    8.529792    6.850417  1020.666667  63.520833   1.669167   0.975000   \n",
       "std     3.477164    3.959502     3.861062  13.070984   2.519627   1.316527   \n",
       "min     1.550000   -1.460000  1014.000000  38.000000  -1.360000   0.000000   \n",
       "25%     6.110000    4.077500  1017.750000  57.500000  -0.350000   0.000000   \n",
       "50%     9.115000    7.725000  1022.000000  63.500000   0.610000   0.185000   \n",
       "75%    11.185000    9.645000  1024.000000  70.250000   4.062500   1.555000   \n",
       "max    13.630000   12.250000  1026.000000  87.000000   6.100000   4.230000   \n",
       "\n",
       "           clouds  visibility  wind_speed    wind_deg  wind_gust        pop  \n",
       "count   48.000000        48.0   48.000000   48.000000  48.000000  48.000000  \n",
       "mean    52.145833     10000.0    3.808333  314.270833   5.768958   0.082500  \n",
       "std     30.985920         0.0    1.864461   21.008346   3.070493   0.129426  \n",
       "min      0.000000     10000.0    1.360000  223.000000   1.570000   0.000000  \n",
       "25%     30.750000     10000.0    2.335000  306.750000   2.770000   0.000000  \n",
       "50%     50.000000     10000.0    3.050000  315.500000   6.195000   0.000000  \n",
       "75%     79.250000     10000.0    5.842500  326.000000   8.900000   0.130000  \n",
       "max    100.000000     10000.0    7.030000  353.000000  10.400000   0.480000  "
      ]
     },
     "execution_count": 64,
     "metadata": {},
     "output_type": "execute_result"
    }
   ],
   "source": [
    "df.describe()"
   ]
  },
  {
   "cell_type": "markdown",
   "metadata": {},
   "source": [
    "# Načítanie dát z webu\n",
    "\n",
    "Špeciálnou kapitolou je priame načítanie dát z webových stránok. Pandas vie automaticky parsovať webové stránky a extrahovať z nich tabuľky pomocou funkcie `read_html` ak je doinštalovaný modul `lxml`:"
   ]
  },
  {
   "cell_type": "code",
   "execution_count": null,
   "metadata": {
    "collapsed": true
   },
   "outputs": [],
   "source": [
    "!pip install --user lxml"
   ]
  },
  {
   "cell_type": "markdown",
   "metadata": {},
   "source": [
    "Teraz môžeme načítať dáta napr. z https://en.wikipedia.org/wiki/COVID-19_pandemic_in_Slovakia"
   ]
  },
  {
   "cell_type": "code",
   "execution_count": 65,
   "metadata": {
    "collapsed": true
   },
   "outputs": [],
   "source": [
    "import pandas as pd\n",
    "wiki = pd.read_html(\"https://en.wikipedia.org/wiki/COVID-19_pandemic_in_Slovakia\")"
   ]
  },
  {
   "cell_type": "markdown",
   "metadata": {},
   "source": [
    "Počet načítaných tabuliek:"
   ]
  },
  {
   "cell_type": "code",
   "execution_count": 66,
   "metadata": {},
   "outputs": [
    {
     "name": "stdout",
     "output_type": "stream",
     "text": [
      "5\n"
     ]
    }
   ],
   "source": [
    "print(len(wiki))"
   ]
  },
  {
   "cell_type": "code",
   "execution_count": 67,
   "metadata": {},
   "outputs": [
    {
     "data": {
      "text/html": [
       "<div>\n",
       "<table border=\"1\" class=\"dataframe\">\n",
       "  <thead>\n",
       "    <tr style=\"text-align: right;\">\n",
       "      <th></th>\n",
       "      <th>0</th>\n",
       "      <th>1</th>\n",
       "      <th>2</th>\n",
       "      <th>3</th>\n",
       "      <th>4</th>\n",
       "      <th>5</th>\n",
       "      <th>6</th>\n",
       "      <th>7</th>\n",
       "      <th>8</th>\n",
       "      <th>9</th>\n",
       "      <th>10</th>\n",
       "      <th>11</th>\n",
       "      <th>12</th>\n",
       "      <th>13</th>\n",
       "      <th>14</th>\n",
       "      <th>15</th>\n",
       "      <th>16</th>\n",
       "      <th>17</th>\n",
       "    </tr>\n",
       "  </thead>\n",
       "  <tbody>\n",
       "    <tr>\n",
       "      <th>0</th>\n",
       "      <td>Date</td>\n",
       "      <td>Bratislava</td>\n",
       "      <td>Žilina</td>\n",
       "      <td>Košice</td>\n",
       "      <td>Trnava</td>\n",
       "      <td>Trenčín</td>\n",
       "      <td>Prešov</td>\n",
       "      <td>Banská Bystrica</td>\n",
       "      <td>Nitra</td>\n",
       "      <td>Confirmed</td>\n",
       "      <td>Deaths</td>\n",
       "      <td>Recoveries</td>\n",
       "      <td>Tested</td>\n",
       "      <td>References</td>\n",
       "      <td>NaN</td>\n",
       "      <td>NaN</td>\n",
       "      <td>NaN</td>\n",
       "      <td>NaN</td>\n",
       "    </tr>\n",
       "    <tr>\n",
       "      <th>1</th>\n",
       "      <td>New</td>\n",
       "      <td>Total</td>\n",
       "      <td>New</td>\n",
       "      <td>Total</td>\n",
       "      <td>New</td>\n",
       "      <td>Total</td>\n",
       "      <td>New</td>\n",
       "      <td>Total</td>\n",
       "      <td>NaN</td>\n",
       "      <td>NaN</td>\n",
       "      <td>NaN</td>\n",
       "      <td>NaN</td>\n",
       "      <td>NaN</td>\n",
       "      <td>NaN</td>\n",
       "      <td>NaN</td>\n",
       "      <td>NaN</td>\n",
       "      <td>NaN</td>\n",
       "      <td>NaN</td>\n",
       "    </tr>\n",
       "    <tr>\n",
       "      <th>2</th>\n",
       "      <td>2020-03-06</td>\n",
       "      <td>NaN</td>\n",
       "      <td>NaN</td>\n",
       "      <td>NaN</td>\n",
       "      <td>NaN</td>\n",
       "      <td>NaN</td>\n",
       "      <td>NaN</td>\n",
       "      <td>NaN</td>\n",
       "      <td>NaN</td>\n",
       "      <td>1</td>\n",
       "      <td>1</td>\n",
       "      <td>-</td>\n",
       "      <td>-</td>\n",
       "      <td>-</td>\n",
       "      <td>-</td>\n",
       "      <td>306.0</td>\n",
       "      <td>306.0</td>\n",
       "      <td>[82]</td>\n",
       "    </tr>\n",
       "    <tr>\n",
       "      <th>3</th>\n",
       "      <td>2020-03-07</td>\n",
       "      <td>NaN</td>\n",
       "      <td>NaN</td>\n",
       "      <td>NaN</td>\n",
       "      <td>NaN</td>\n",
       "      <td>NaN</td>\n",
       "      <td>NaN</td>\n",
       "      <td>NaN</td>\n",
       "      <td>NaN</td>\n",
       "      <td>2</td>\n",
       "      <td>3</td>\n",
       "      <td>-</td>\n",
       "      <td>-</td>\n",
       "      <td>-</td>\n",
       "      <td>-</td>\n",
       "      <td>86.0</td>\n",
       "      <td>392.0</td>\n",
       "      <td>[83]</td>\n",
       "    </tr>\n",
       "    <tr>\n",
       "      <th>4</th>\n",
       "      <td>2020-03-08</td>\n",
       "      <td>NaN</td>\n",
       "      <td>NaN</td>\n",
       "      <td>NaN</td>\n",
       "      <td>NaN</td>\n",
       "      <td>NaN</td>\n",
       "      <td>NaN</td>\n",
       "      <td>NaN</td>\n",
       "      <td>NaN</td>\n",
       "      <td>2</td>\n",
       "      <td>5</td>\n",
       "      <td>-</td>\n",
       "      <td>-</td>\n",
       "      <td>-</td>\n",
       "      <td>-</td>\n",
       "      <td>104.0</td>\n",
       "      <td>496.0</td>\n",
       "      <td>[84]</td>\n",
       "    </tr>\n",
       "  </tbody>\n",
       "</table>\n",
       "</div>"
      ],
      "text/plain": [
       "           0           1       2       3       4        5       6   \\\n",
       "0        Date  Bratislava  Žilina  Košice  Trnava  Trenčín  Prešov   \n",
       "1         New       Total     New   Total     New    Total     New   \n",
       "2  2020-03-06         NaN     NaN     NaN     NaN      NaN     NaN   \n",
       "3  2020-03-07         NaN     NaN     NaN     NaN      NaN     NaN   \n",
       "4  2020-03-08         NaN     NaN     NaN     NaN      NaN     NaN   \n",
       "\n",
       "                7      8          9       10          11      12          13  \\\n",
       "0  Banská Bystrica  Nitra  Confirmed  Deaths  Recoveries  Tested  References   \n",
       "1            Total    NaN        NaN     NaN         NaN     NaN         NaN   \n",
       "2              NaN    NaN          1       1           -       -           -   \n",
       "3              NaN    NaN          2       3           -       -           -   \n",
       "4              NaN    NaN          2       5           -       -           -   \n",
       "\n",
       "    14     15     16    17  \n",
       "0  NaN    NaN    NaN   NaN  \n",
       "1  NaN    NaN    NaN   NaN  \n",
       "2    -  306.0  306.0  [82]  \n",
       "3    -   86.0  392.0  [83]  \n",
       "4    -  104.0  496.0  [84]  "
      ]
     },
     "execution_count": 67,
     "metadata": {},
     "output_type": "execute_result"
    }
   ],
   "source": [
    "wiki[-1].head()"
   ]
  },
  {
   "cell_type": "code",
   "execution_count": 68,
   "metadata": {
    "collapsed": true
   },
   "outputs": [],
   "source": [
    "wiki = pd.read_html(\"https://en.wikipedia.org/wiki/COVID-19_pandemic_in_Slovakia\", header=0, skiprows=[1])"
   ]
  },
  {
   "cell_type": "code",
   "execution_count": 69,
   "metadata": {},
   "outputs": [
    {
     "data": {
      "text/html": [
       "<div>\n",
       "<table border=\"1\" class=\"dataframe\">\n",
       "  <thead>\n",
       "    <tr style=\"text-align: right;\">\n",
       "      <th></th>\n",
       "      <th>Date</th>\n",
       "      <th>Bratislava</th>\n",
       "      <th>Žilina</th>\n",
       "      <th>Košice</th>\n",
       "      <th>Trnava</th>\n",
       "      <th>Trenčín</th>\n",
       "      <th>Prešov</th>\n",
       "      <th>Banská Bystrica</th>\n",
       "      <th>Nitra</th>\n",
       "      <th>Confirmed</th>\n",
       "      <th>Deaths</th>\n",
       "      <th>Recoveries</th>\n",
       "      <th>Tested</th>\n",
       "      <th>References</th>\n",
       "      <th>Unnamed: 14</th>\n",
       "      <th>Unnamed: 15</th>\n",
       "      <th>Unnamed: 16</th>\n",
       "      <th>Unnamed: 17</th>\n",
       "    </tr>\n",
       "  </thead>\n",
       "  <tbody>\n",
       "    <tr>\n",
       "      <th>0</th>\n",
       "      <td>2020-03-06</td>\n",
       "      <td>NaN</td>\n",
       "      <td>NaN</td>\n",
       "      <td>NaN</td>\n",
       "      <td>NaN</td>\n",
       "      <td>NaN</td>\n",
       "      <td>NaN</td>\n",
       "      <td>NaN</td>\n",
       "      <td>NaN</td>\n",
       "      <td>1</td>\n",
       "      <td>1.0</td>\n",
       "      <td>-</td>\n",
       "      <td>-</td>\n",
       "      <td>-</td>\n",
       "      <td>-</td>\n",
       "      <td>306.0</td>\n",
       "      <td>306.0</td>\n",
       "      <td>[82]</td>\n",
       "    </tr>\n",
       "    <tr>\n",
       "      <th>1</th>\n",
       "      <td>2020-03-07</td>\n",
       "      <td>NaN</td>\n",
       "      <td>NaN</td>\n",
       "      <td>NaN</td>\n",
       "      <td>NaN</td>\n",
       "      <td>NaN</td>\n",
       "      <td>NaN</td>\n",
       "      <td>NaN</td>\n",
       "      <td>NaN</td>\n",
       "      <td>2</td>\n",
       "      <td>3.0</td>\n",
       "      <td>-</td>\n",
       "      <td>-</td>\n",
       "      <td>-</td>\n",
       "      <td>-</td>\n",
       "      <td>86.0</td>\n",
       "      <td>392.0</td>\n",
       "      <td>[83]</td>\n",
       "    </tr>\n",
       "    <tr>\n",
       "      <th>2</th>\n",
       "      <td>2020-03-08</td>\n",
       "      <td>NaN</td>\n",
       "      <td>NaN</td>\n",
       "      <td>NaN</td>\n",
       "      <td>NaN</td>\n",
       "      <td>NaN</td>\n",
       "      <td>NaN</td>\n",
       "      <td>NaN</td>\n",
       "      <td>NaN</td>\n",
       "      <td>2</td>\n",
       "      <td>5.0</td>\n",
       "      <td>-</td>\n",
       "      <td>-</td>\n",
       "      <td>-</td>\n",
       "      <td>-</td>\n",
       "      <td>104.0</td>\n",
       "      <td>496.0</td>\n",
       "      <td>[84]</td>\n",
       "    </tr>\n",
       "    <tr>\n",
       "      <th>3</th>\n",
       "      <td>2020-03-09</td>\n",
       "      <td>NaN</td>\n",
       "      <td>NaN</td>\n",
       "      <td>NaN</td>\n",
       "      <td>NaN</td>\n",
       "      <td>NaN</td>\n",
       "      <td>NaN</td>\n",
       "      <td>NaN</td>\n",
       "      <td>NaN</td>\n",
       "      <td>2</td>\n",
       "      <td>7.0</td>\n",
       "      <td>-</td>\n",
       "      <td>-</td>\n",
       "      <td>-</td>\n",
       "      <td>-</td>\n",
       "      <td>52.0</td>\n",
       "      <td>548.0</td>\n",
       "      <td>[85]</td>\n",
       "    </tr>\n",
       "    <tr>\n",
       "      <th>4</th>\n",
       "      <td>2020-03-10</td>\n",
       "      <td>NaN</td>\n",
       "      <td>NaN</td>\n",
       "      <td>NaN</td>\n",
       "      <td>NaN</td>\n",
       "      <td>NaN</td>\n",
       "      <td>NaN</td>\n",
       "      <td>NaN</td>\n",
       "      <td>NaN</td>\n",
       "      <td>-</td>\n",
       "      <td>7.0</td>\n",
       "      <td>-</td>\n",
       "      <td>-</td>\n",
       "      <td>-</td>\n",
       "      <td>-</td>\n",
       "      <td>42.0</td>\n",
       "      <td>590.0</td>\n",
       "      <td>[86]</td>\n",
       "    </tr>\n",
       "  </tbody>\n",
       "</table>\n",
       "</div>"
      ],
      "text/plain": [
       "         Date  Bratislava  Žilina  Košice  Trnava  Trenčín  Prešov  \\\n",
       "0  2020-03-06         NaN     NaN     NaN     NaN      NaN     NaN   \n",
       "1  2020-03-07         NaN     NaN     NaN     NaN      NaN     NaN   \n",
       "2  2020-03-08         NaN     NaN     NaN     NaN      NaN     NaN   \n",
       "3  2020-03-09         NaN     NaN     NaN     NaN      NaN     NaN   \n",
       "4  2020-03-10         NaN     NaN     NaN     NaN      NaN     NaN   \n",
       "\n",
       "   Banská Bystrica  Nitra Confirmed  Deaths Recoveries Tested References  \\\n",
       "0              NaN    NaN         1     1.0          -      -          -   \n",
       "1              NaN    NaN         2     3.0          -      -          -   \n",
       "2              NaN    NaN         2     5.0          -      -          -   \n",
       "3              NaN    NaN         2     7.0          -      -          -   \n",
       "4              NaN    NaN         -     7.0          -      -          -   \n",
       "\n",
       "  Unnamed: 14  Unnamed: 15  Unnamed: 16 Unnamed: 17  \n",
       "0           -        306.0        306.0        [82]  \n",
       "1           -         86.0        392.0        [83]  \n",
       "2           -        104.0        496.0        [84]  \n",
       "3           -         52.0        548.0        [85]  \n",
       "4           -         42.0        590.0        [86]  "
      ]
     },
     "execution_count": 69,
     "metadata": {},
     "output_type": "execute_result"
    }
   ],
   "source": [
    "tab = wiki[-1]\n",
    "tab.head()"
   ]
  },
  {
   "cell_type": "markdown",
   "metadata": {},
   "source": [
    "Nastavme dátum ako index:"
   ]
  },
  {
   "cell_type": "code",
   "execution_count": 70,
   "metadata": {},
   "outputs": [
    {
     "data": {
      "text/html": [
       "<div>\n",
       "<table border=\"1\" class=\"dataframe\">\n",
       "  <thead>\n",
       "    <tr style=\"text-align: right;\">\n",
       "      <th></th>\n",
       "      <th>Bratislava</th>\n",
       "      <th>Žilina</th>\n",
       "      <th>Košice</th>\n",
       "      <th>Trnava</th>\n",
       "      <th>Trenčín</th>\n",
       "      <th>Prešov</th>\n",
       "      <th>Banská Bystrica</th>\n",
       "      <th>Nitra</th>\n",
       "      <th>Confirmed</th>\n",
       "      <th>Deaths</th>\n",
       "      <th>Recoveries</th>\n",
       "      <th>Tested</th>\n",
       "      <th>References</th>\n",
       "      <th>Unnamed: 14</th>\n",
       "      <th>Unnamed: 15</th>\n",
       "      <th>Unnamed: 16</th>\n",
       "      <th>Unnamed: 17</th>\n",
       "    </tr>\n",
       "    <tr>\n",
       "      <th>Date</th>\n",
       "      <th></th>\n",
       "      <th></th>\n",
       "      <th></th>\n",
       "      <th></th>\n",
       "      <th></th>\n",
       "      <th></th>\n",
       "      <th></th>\n",
       "      <th></th>\n",
       "      <th></th>\n",
       "      <th></th>\n",
       "      <th></th>\n",
       "      <th></th>\n",
       "      <th></th>\n",
       "      <th></th>\n",
       "      <th></th>\n",
       "      <th></th>\n",
       "      <th></th>\n",
       "    </tr>\n",
       "  </thead>\n",
       "  <tbody>\n",
       "    <tr>\n",
       "      <th>2020-03-06</th>\n",
       "      <td>NaN</td>\n",
       "      <td>NaN</td>\n",
       "      <td>NaN</td>\n",
       "      <td>NaN</td>\n",
       "      <td>NaN</td>\n",
       "      <td>NaN</td>\n",
       "      <td>NaN</td>\n",
       "      <td>NaN</td>\n",
       "      <td>1</td>\n",
       "      <td>1.0</td>\n",
       "      <td>-</td>\n",
       "      <td>-</td>\n",
       "      <td>-</td>\n",
       "      <td>-</td>\n",
       "      <td>306.0</td>\n",
       "      <td>306.0</td>\n",
       "      <td>[82]</td>\n",
       "    </tr>\n",
       "    <tr>\n",
       "      <th>2020-03-07</th>\n",
       "      <td>NaN</td>\n",
       "      <td>NaN</td>\n",
       "      <td>NaN</td>\n",
       "      <td>NaN</td>\n",
       "      <td>NaN</td>\n",
       "      <td>NaN</td>\n",
       "      <td>NaN</td>\n",
       "      <td>NaN</td>\n",
       "      <td>2</td>\n",
       "      <td>3.0</td>\n",
       "      <td>-</td>\n",
       "      <td>-</td>\n",
       "      <td>-</td>\n",
       "      <td>-</td>\n",
       "      <td>86.0</td>\n",
       "      <td>392.0</td>\n",
       "      <td>[83]</td>\n",
       "    </tr>\n",
       "    <tr>\n",
       "      <th>2020-03-08</th>\n",
       "      <td>NaN</td>\n",
       "      <td>NaN</td>\n",
       "      <td>NaN</td>\n",
       "      <td>NaN</td>\n",
       "      <td>NaN</td>\n",
       "      <td>NaN</td>\n",
       "      <td>NaN</td>\n",
       "      <td>NaN</td>\n",
       "      <td>2</td>\n",
       "      <td>5.0</td>\n",
       "      <td>-</td>\n",
       "      <td>-</td>\n",
       "      <td>-</td>\n",
       "      <td>-</td>\n",
       "      <td>104.0</td>\n",
       "      <td>496.0</td>\n",
       "      <td>[84]</td>\n",
       "    </tr>\n",
       "    <tr>\n",
       "      <th>2020-03-09</th>\n",
       "      <td>NaN</td>\n",
       "      <td>NaN</td>\n",
       "      <td>NaN</td>\n",
       "      <td>NaN</td>\n",
       "      <td>NaN</td>\n",
       "      <td>NaN</td>\n",
       "      <td>NaN</td>\n",
       "      <td>NaN</td>\n",
       "      <td>2</td>\n",
       "      <td>7.0</td>\n",
       "      <td>-</td>\n",
       "      <td>-</td>\n",
       "      <td>-</td>\n",
       "      <td>-</td>\n",
       "      <td>52.0</td>\n",
       "      <td>548.0</td>\n",
       "      <td>[85]</td>\n",
       "    </tr>\n",
       "    <tr>\n",
       "      <th>2020-03-10</th>\n",
       "      <td>NaN</td>\n",
       "      <td>NaN</td>\n",
       "      <td>NaN</td>\n",
       "      <td>NaN</td>\n",
       "      <td>NaN</td>\n",
       "      <td>NaN</td>\n",
       "      <td>NaN</td>\n",
       "      <td>NaN</td>\n",
       "      <td>-</td>\n",
       "      <td>7.0</td>\n",
       "      <td>-</td>\n",
       "      <td>-</td>\n",
       "      <td>-</td>\n",
       "      <td>-</td>\n",
       "      <td>42.0</td>\n",
       "      <td>590.0</td>\n",
       "      <td>[86]</td>\n",
       "    </tr>\n",
       "  </tbody>\n",
       "</table>\n",
       "</div>"
      ],
      "text/plain": [
       "            Bratislava  Žilina  Košice  Trnava  Trenčín  Prešov  \\\n",
       "Date                                                              \n",
       "2020-03-06         NaN     NaN     NaN     NaN      NaN     NaN   \n",
       "2020-03-07         NaN     NaN     NaN     NaN      NaN     NaN   \n",
       "2020-03-08         NaN     NaN     NaN     NaN      NaN     NaN   \n",
       "2020-03-09         NaN     NaN     NaN     NaN      NaN     NaN   \n",
       "2020-03-10         NaN     NaN     NaN     NaN      NaN     NaN   \n",
       "\n",
       "            Banská Bystrica  Nitra Confirmed  Deaths Recoveries Tested  \\\n",
       "Date                                                                     \n",
       "2020-03-06              NaN    NaN         1     1.0          -      -   \n",
       "2020-03-07              NaN    NaN         2     3.0          -      -   \n",
       "2020-03-08              NaN    NaN         2     5.0          -      -   \n",
       "2020-03-09              NaN    NaN         2     7.0          -      -   \n",
       "2020-03-10              NaN    NaN         -     7.0          -      -   \n",
       "\n",
       "           References Unnamed: 14  Unnamed: 15  Unnamed: 16 Unnamed: 17  \n",
       "Date                                                                     \n",
       "2020-03-06          -           -        306.0        306.0        [82]  \n",
       "2020-03-07          -           -         86.0        392.0        [83]  \n",
       "2020-03-08          -           -        104.0        496.0        [84]  \n",
       "2020-03-09          -           -         52.0        548.0        [85]  \n",
       "2020-03-10          -           -         42.0        590.0        [86]  "
      ]
     },
     "execution_count": 70,
     "metadata": {},
     "output_type": "execute_result"
    }
   ],
   "source": [
    "tab2 = tab.set_index('Date')\n",
    "tab2.head()"
   ]
  },
  {
   "cell_type": "markdown",
   "metadata": {},
   "source": [
    "Extrahujme iba stĺpce, ktoré nás zaujímajú:"
   ]
  },
  {
   "cell_type": "code",
   "execution_count": 71,
   "metadata": {},
   "outputs": [
    {
     "data": {
      "text/html": [
       "<div>\n",
       "<table border=\"1\" class=\"dataframe\">\n",
       "  <thead>\n",
       "    <tr style=\"text-align: right;\">\n",
       "      <th></th>\n",
       "      <th>Confirmed</th>\n",
       "      <th>Deaths</th>\n",
       "    </tr>\n",
       "    <tr>\n",
       "      <th>Date</th>\n",
       "      <th></th>\n",
       "      <th></th>\n",
       "    </tr>\n",
       "  </thead>\n",
       "  <tbody>\n",
       "    <tr>\n",
       "      <th>2020-03-06</th>\n",
       "      <td>1</td>\n",
       "      <td>1.0</td>\n",
       "    </tr>\n",
       "    <tr>\n",
       "      <th>2020-03-07</th>\n",
       "      <td>2</td>\n",
       "      <td>3.0</td>\n",
       "    </tr>\n",
       "    <tr>\n",
       "      <th>2020-03-08</th>\n",
       "      <td>2</td>\n",
       "      <td>5.0</td>\n",
       "    </tr>\n",
       "    <tr>\n",
       "      <th>2020-03-09</th>\n",
       "      <td>2</td>\n",
       "      <td>7.0</td>\n",
       "    </tr>\n",
       "    <tr>\n",
       "      <th>2020-03-10</th>\n",
       "      <td>-</td>\n",
       "      <td>7.0</td>\n",
       "    </tr>\n",
       "  </tbody>\n",
       "</table>\n",
       "</div>"
      ],
      "text/plain": [
       "           Confirmed  Deaths\n",
       "Date                        \n",
       "2020-03-06         1     1.0\n",
       "2020-03-07         2     3.0\n",
       "2020-03-08         2     5.0\n",
       "2020-03-09         2     7.0\n",
       "2020-03-10         -     7.0"
      ]
     },
     "execution_count": 71,
     "metadata": {},
     "output_type": "execute_result"
    }
   ],
   "source": [
    "redukovana = tab2.loc[:, [\"Confirmed\", \"Deaths\"]]\n",
    "redukovana.head()"
   ]
  },
  {
   "cell_type": "code",
   "execution_count": 72,
   "metadata": {},
   "outputs": [
    {
     "data": {
      "text/html": [
       "<div>\n",
       "<table border=\"1\" class=\"dataframe\">\n",
       "  <thead>\n",
       "    <tr style=\"text-align: right;\">\n",
       "      <th></th>\n",
       "      <th>Confirmed</th>\n",
       "      <th>Deaths</th>\n",
       "    </tr>\n",
       "    <tr>\n",
       "      <th>Date</th>\n",
       "      <th></th>\n",
       "      <th></th>\n",
       "    </tr>\n",
       "  </thead>\n",
       "  <tbody>\n",
       "    <tr>\n",
       "      <th>2021-04-18</th>\n",
       "      <td>93</td>\n",
       "      <td>376067.0</td>\n",
       "    </tr>\n",
       "    <tr>\n",
       "      <th>2021-04-19</th>\n",
       "      <td>642</td>\n",
       "      <td>376709.0</td>\n",
       "    </tr>\n",
       "    <tr>\n",
       "      <th>2021-04-20</th>\n",
       "      <td>764</td>\n",
       "      <td>377473.0</td>\n",
       "    </tr>\n",
       "    <tr>\n",
       "      <th>NaN</th>\n",
       "      <td>NaN</td>\n",
       "      <td>NaN</td>\n",
       "    </tr>\n",
       "    <tr>\n",
       "      <th>Total</th>\n",
       "      <td>NaN</td>\n",
       "      <td>377473.0</td>\n",
       "    </tr>\n",
       "  </tbody>\n",
       "</table>\n",
       "</div>"
      ],
      "text/plain": [
       "           Confirmed    Deaths\n",
       "Date                          \n",
       "2021-04-18        93  376067.0\n",
       "2021-04-19       642  376709.0\n",
       "2021-04-20       764  377473.0\n",
       "NaN              NaN       NaN\n",
       "Total            NaN  377473.0"
      ]
     },
     "execution_count": 72,
     "metadata": {},
     "output_type": "execute_result"
    }
   ],
   "source": [
    "redukovana.tail()"
   ]
  },
  {
   "cell_type": "markdown",
   "metadata": {},
   "source": [
    "Vidíme, že máme dva riadky naviac. Odstránime ich:"
   ]
  },
  {
   "cell_type": "code",
   "execution_count": 73,
   "metadata": {},
   "outputs": [
    {
     "data": {
      "text/html": [
       "<div>\n",
       "<table border=\"1\" class=\"dataframe\">\n",
       "  <thead>\n",
       "    <tr style=\"text-align: right;\">\n",
       "      <th></th>\n",
       "      <th>Confirmed</th>\n",
       "      <th>Deaths</th>\n",
       "    </tr>\n",
       "    <tr>\n",
       "      <th>Date</th>\n",
       "      <th></th>\n",
       "      <th></th>\n",
       "    </tr>\n",
       "  </thead>\n",
       "  <tbody>\n",
       "    <tr>\n",
       "      <th>2021-04-16</th>\n",
       "      <td>750</td>\n",
       "      <td>375336.0</td>\n",
       "    </tr>\n",
       "    <tr>\n",
       "      <th>2021-04-17</th>\n",
       "      <td>638</td>\n",
       "      <td>375974.0</td>\n",
       "    </tr>\n",
       "    <tr>\n",
       "      <th>2021-04-18</th>\n",
       "      <td>93</td>\n",
       "      <td>376067.0</td>\n",
       "    </tr>\n",
       "    <tr>\n",
       "      <th>2021-04-19</th>\n",
       "      <td>642</td>\n",
       "      <td>376709.0</td>\n",
       "    </tr>\n",
       "    <tr>\n",
       "      <th>2021-04-20</th>\n",
       "      <td>764</td>\n",
       "      <td>377473.0</td>\n",
       "    </tr>\n",
       "  </tbody>\n",
       "</table>\n",
       "</div>"
      ],
      "text/plain": [
       "           Confirmed    Deaths\n",
       "Date                          \n",
       "2021-04-16       750  375336.0\n",
       "2021-04-17       638  375974.0\n",
       "2021-04-18        93  376067.0\n",
       "2021-04-19       642  376709.0\n",
       "2021-04-20       764  377473.0"
      ]
     },
     "execution_count": 73,
     "metadata": {},
     "output_type": "execute_result"
    }
   ],
   "source": [
    "redukovana = redukovana[0:-2]\n",
    "redukovana.tail()"
   ]
  },
  {
   "cell_type": "markdown",
   "metadata": {},
   "source": [
    "Stále máme problém s nevalidnými údajmi:"
   ]
  },
  {
   "cell_type": "code",
   "execution_count": 74,
   "metadata": {},
   "outputs": [
    {
     "data": {
      "text/html": [
       "<div>\n",
       "<table border=\"1\" class=\"dataframe\">\n",
       "  <thead>\n",
       "    <tr style=\"text-align: right;\">\n",
       "      <th></th>\n",
       "      <th>Confirmed</th>\n",
       "      <th>Deaths</th>\n",
       "    </tr>\n",
       "    <tr>\n",
       "      <th>Date</th>\n",
       "      <th></th>\n",
       "      <th></th>\n",
       "    </tr>\n",
       "  </thead>\n",
       "  <tbody>\n",
       "    <tr>\n",
       "      <th>2020-03-06</th>\n",
       "      <td>1</td>\n",
       "      <td>1.0</td>\n",
       "    </tr>\n",
       "    <tr>\n",
       "      <th>2020-03-07</th>\n",
       "      <td>2</td>\n",
       "      <td>3.0</td>\n",
       "    </tr>\n",
       "    <tr>\n",
       "      <th>2020-03-08</th>\n",
       "      <td>2</td>\n",
       "      <td>5.0</td>\n",
       "    </tr>\n",
       "    <tr>\n",
       "      <th>2020-03-09</th>\n",
       "      <td>2</td>\n",
       "      <td>7.0</td>\n",
       "    </tr>\n",
       "    <tr>\n",
       "      <th>2020-03-10</th>\n",
       "      <td>-</td>\n",
       "      <td>7.0</td>\n",
       "    </tr>\n",
       "  </tbody>\n",
       "</table>\n",
       "</div>"
      ],
      "text/plain": [
       "           Confirmed  Deaths\n",
       "Date                        \n",
       "2020-03-06         1     1.0\n",
       "2020-03-07         2     3.0\n",
       "2020-03-08         2     5.0\n",
       "2020-03-09         2     7.0\n",
       "2020-03-10         -     7.0"
      ]
     },
     "execution_count": 74,
     "metadata": {},
     "output_type": "execute_result"
    }
   ],
   "source": [
    "redukovana.head()"
   ]
  },
  {
   "cell_type": "markdown",
   "metadata": {},
   "source": [
    "Nahradenie nevalidných buniek:"
   ]
  },
  {
   "cell_type": "code",
   "execution_count": 75,
   "metadata": {},
   "outputs": [
    {
     "data": {
      "text/html": [
       "<div>\n",
       "<table border=\"1\" class=\"dataframe\">\n",
       "  <thead>\n",
       "    <tr style=\"text-align: right;\">\n",
       "      <th></th>\n",
       "      <th>Confirmed</th>\n",
       "      <th>Deaths</th>\n",
       "    </tr>\n",
       "    <tr>\n",
       "      <th>Date</th>\n",
       "      <th></th>\n",
       "      <th></th>\n",
       "    </tr>\n",
       "  </thead>\n",
       "  <tbody>\n",
       "    <tr>\n",
       "      <th>2020-03-06</th>\n",
       "      <td>1</td>\n",
       "      <td>1.0</td>\n",
       "    </tr>\n",
       "    <tr>\n",
       "      <th>2020-03-07</th>\n",
       "      <td>2</td>\n",
       "      <td>3.0</td>\n",
       "    </tr>\n",
       "    <tr>\n",
       "      <th>2020-03-08</th>\n",
       "      <td>2</td>\n",
       "      <td>5.0</td>\n",
       "    </tr>\n",
       "    <tr>\n",
       "      <th>2020-03-09</th>\n",
       "      <td>2</td>\n",
       "      <td>7.0</td>\n",
       "    </tr>\n",
       "    <tr>\n",
       "      <th>2020-03-10</th>\n",
       "      <td>0</td>\n",
       "      <td>7.0</td>\n",
       "    </tr>\n",
       "  </tbody>\n",
       "</table>\n",
       "</div>"
      ],
      "text/plain": [
       "           Confirmed  Deaths\n",
       "Date                        \n",
       "2020-03-06         1     1.0\n",
       "2020-03-07         2     3.0\n",
       "2020-03-08         2     5.0\n",
       "2020-03-09         2     7.0\n",
       "2020-03-10         0     7.0"
      ]
     },
     "execution_count": 75,
     "metadata": {},
     "output_type": "execute_result"
    }
   ],
   "source": [
    "redukovana.loc[redukovana.Confirmed==\"-\", \"Confirmed\"] = 0\n",
    "redukovana.head()"
   ]
  },
  {
   "cell_type": "markdown",
   "metadata": {},
   "source": [
    "# Vykreslovanie tabuliek\n",
    "\n",
    "Realizujeme pomocou `matplotlib` a metódy `plot`:"
   ]
  },
  {
   "cell_type": "code",
   "execution_count": 76,
   "metadata": {
    "collapsed": true
   },
   "outputs": [],
   "source": [
    "import matplotlib.pyplot as plt"
   ]
  },
  {
   "cell_type": "code",
   "execution_count": 77,
   "metadata": {
    "collapsed": true
   },
   "outputs": [],
   "source": [
    "plt.close(\"all\")"
   ]
  },
  {
   "cell_type": "code",
   "execution_count": 78,
   "metadata": {},
   "outputs": [
    {
     "data": {
      "image/png": "[encoded data removed]",
      "text/plain": [
       "<matplotlib.figure.Figure at 0x7ff6d115dcc0>"
      ]
     },
     "metadata": {},
     "output_type": "display_data"
    }
   ],
   "source": [
    "redukovana.Deaths.plot()\n",
    "plt.show()"
   ]
  },
  {
   "cell_type": "markdown",
   "metadata": {},
   "source": [
    "Prípadne naša tabuľka s počasím:"
   ]
  },
  {
   "cell_type": "code",
   "execution_count": 79,
   "metadata": {
    "collapsed": true
   },
   "outputs": [],
   "source": [
    "df = pd.read_csv('bratislava_weather.csv').set_index('dt')"
   ]
  },
  {
   "cell_type": "code",
   "execution_count": 80,
   "metadata": {},
   "outputs": [
    {
     "data": {
      "text/html": [
       "<div>\n",
       "<table border=\"1\" class=\"dataframe\">\n",
       "  <thead>\n",
       "    <tr style=\"text-align: right;\">\n",
       "      <th></th>\n",
       "      <th>temp</th>\n",
       "      <th>feels_like</th>\n",
       "      <th>pressure</th>\n",
       "      <th>humidity</th>\n",
       "      <th>dew_point</th>\n",
       "      <th>uvi</th>\n",
       "      <th>clouds</th>\n",
       "      <th>visibility</th>\n",
       "      <th>wind_speed</th>\n",
       "      <th>wind_deg</th>\n",
       "      <th>wind_gust</th>\n",
       "      <th>pop</th>\n",
       "    </tr>\n",
       "    <tr>\n",
       "      <th>dt</th>\n",
       "      <th></th>\n",
       "      <th></th>\n",
       "      <th></th>\n",
       "      <th></th>\n",
       "      <th></th>\n",
       "      <th></th>\n",
       "      <th></th>\n",
       "      <th></th>\n",
       "      <th></th>\n",
       "      <th></th>\n",
       "      <th></th>\n",
       "      <th></th>\n",
       "    </tr>\n",
       "  </thead>\n",
       "  <tbody>\n",
       "    <tr>\n",
       "      <th>2021-04-21 21:00:00</th>\n",
       "      <td>10.11</td>\n",
       "      <td>8.69</td>\n",
       "      <td>1014</td>\n",
       "      <td>58</td>\n",
       "      <td>2.23</td>\n",
       "      <td>0.0</td>\n",
       "      <td>0</td>\n",
       "      <td>10000</td>\n",
       "      <td>1.85</td>\n",
       "      <td>223</td>\n",
       "      <td>2.19</td>\n",
       "      <td>0.42</td>\n",
       "    </tr>\n",
       "    <tr>\n",
       "      <th>2021-04-21 22:00:00</th>\n",
       "      <td>9.88</td>\n",
       "      <td>9.59</td>\n",
       "      <td>1014</td>\n",
       "      <td>62</td>\n",
       "      <td>2.95</td>\n",
       "      <td>0.0</td>\n",
       "      <td>10</td>\n",
       "      <td>10000</td>\n",
       "      <td>1.43</td>\n",
       "      <td>275</td>\n",
       "      <td>1.71</td>\n",
       "      <td>0.42</td>\n",
       "    </tr>\n",
       "    <tr>\n",
       "      <th>2021-04-21 23:00:00</th>\n",
       "      <td>9.49</td>\n",
       "      <td>9.22</td>\n",
       "      <td>1014</td>\n",
       "      <td>66</td>\n",
       "      <td>3.46</td>\n",
       "      <td>0.0</td>\n",
       "      <td>22</td>\n",
       "      <td>10000</td>\n",
       "      <td>1.36</td>\n",
       "      <td>295</td>\n",
       "      <td>1.59</td>\n",
       "      <td>0.48</td>\n",
       "    </tr>\n",
       "    <tr>\n",
       "      <th>2021-04-22 00:00:00</th>\n",
       "      <td>8.88</td>\n",
       "      <td>8.50</td>\n",
       "      <td>1015</td>\n",
       "      <td>71</td>\n",
       "      <td>3.92</td>\n",
       "      <td>0.0</td>\n",
       "      <td>32</td>\n",
       "      <td>10000</td>\n",
       "      <td>1.39</td>\n",
       "      <td>300</td>\n",
       "      <td>1.57</td>\n",
       "      <td>0.38</td>\n",
       "    </tr>\n",
       "    <tr>\n",
       "      <th>2021-04-22 01:00:00</th>\n",
       "      <td>8.09</td>\n",
       "      <td>7.47</td>\n",
       "      <td>1015</td>\n",
       "      <td>78</td>\n",
       "      <td>4.49</td>\n",
       "      <td>0.0</td>\n",
       "      <td>25</td>\n",
       "      <td>10000</td>\n",
       "      <td>1.50</td>\n",
       "      <td>308</td>\n",
       "      <td>1.59</td>\n",
       "      <td>0.26</td>\n",
       "    </tr>\n",
       "  </tbody>\n",
       "</table>\n",
       "</div>"
      ],
      "text/plain": [
       "                      temp  feels_like  pressure  humidity  dew_point  uvi  \\\n",
       "dt                                                                           \n",
       "2021-04-21 21:00:00  10.11        8.69      1014        58       2.23  0.0   \n",
       "2021-04-21 22:00:00   9.88        9.59      1014        62       2.95  0.0   \n",
       "2021-04-21 23:00:00   9.49        9.22      1014        66       3.46  0.0   \n",
       "2021-04-22 00:00:00   8.88        8.50      1015        71       3.92  0.0   \n",
       "2021-04-22 01:00:00   8.09        7.47      1015        78       4.49  0.0   \n",
       "\n",
       "                     clouds  visibility  wind_speed  wind_deg  wind_gust   pop  \n",
       "dt                                                                              \n",
       "2021-04-21 21:00:00       0       10000        1.85       223       2.19  0.42  \n",
       "2021-04-21 22:00:00      10       10000        1.43       275       1.71  0.42  \n",
       "2021-04-21 23:00:00      22       10000        1.36       295       1.59  0.48  \n",
       "2021-04-22 00:00:00      32       10000        1.39       300       1.57  0.38  \n",
       "2021-04-22 01:00:00      25       10000        1.50       308       1.59  0.26  "
      ]
     },
     "execution_count": 80,
     "metadata": {},
     "output_type": "execute_result"
    }
   ],
   "source": [
    "df.head()"
   ]
  },
  {
   "cell_type": "code",
   "execution_count": 81,
   "metadata": {},
   "outputs": [
    {
     "data": {
      "text/plain": [
       "Index(['temp', 'feels_like', 'pressure', 'humidity', 'dew_point', 'uvi',\n",
       "       'clouds', 'visibility', 'wind_speed', 'wind_deg', 'wind_gust', 'pop'],\n",
       "      dtype='object')"
      ]
     },
     "execution_count": 81,
     "metadata": {},
     "output_type": "execute_result"
    }
   ],
   "source": [
    "df.columns"
   ]
  },
  {
   "cell_type": "code",
   "execution_count": 82,
   "metadata": {},
   "outputs": [
    {
     "data": {
      "image/png": "[encoded data removed]",
      "text/plain": [
       "<matplotlib.figure.Figure at 0x7ff6cb53ebe0>"
      ]
     },
     "metadata": {},
     "output_type": "display_data"
    }
   ],
   "source": [
    "df[\"pop\"].plot()\n",
    "plt.title('Pravdepodobnost zrazok')\n",
    "plt.show()"
   ]
  },
  {
   "cell_type": "code",
   "execution_count": 83,
   "metadata": {},
   "outputs": [
    {
     "data": {
      "image/png": "[encoded data removed]",
      "text/plain": [
       "<matplotlib.figure.Figure at 0x7ff6cb5961d0>"
      ]
     },
     "metadata": {},
     "output_type": "display_data"
    }
   ],
   "source": [
    "to_plot = [\"temp\", \"feels_like\"]\n",
    "df.loc[:, to_plot].plot()\n",
    "plt.legend(to_plot)\n",
    "plt.show()"
   ]
  },
  {
   "cell_type": "code",
   "execution_count": 84,
   "metadata": {},
   "outputs": [
    {
     "data": {
      "image/png": "[encoded data removed]",
      "text/plain": [
       "<matplotlib.figure.Figure at 0x7ff6cdebe208>"
      ]
     },
     "metadata": {},
     "output_type": "display_data"
    }
   ],
   "source": [
    "to_plot = [\"humidity\", \"clouds\"]\n",
    "df.loc[:, to_plot].plot()\n",
    "plt.legend(to_plot)\n",
    "plt.show()"
   ]
  }
 ],
 "metadata": {
  "kernelspec": {
   "display_name": "Python 3",
   "language": "python",
   "name": "python3"
  },
  "language_info": {
   "codemirror_mode": {
    "name": "ipython",
    "version": 3
   },
   "file_extension": ".py",
   "mimetype": "text/x-python",
   "name": "python",
   "nbconvert_exporter": "python",
   "pygments_lexer": "ipython3",
   "version": "3.6.2"
  }
 },
 "nbformat": 4,
 "nbformat_minor": 2
}
