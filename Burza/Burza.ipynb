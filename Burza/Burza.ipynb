{
 "cells": [
  {
   "cell_type": "markdown",
   "metadata": {},
   "source": [
    "### Burza\n",
    "Wall Street v meste New York sa stala symbolom obchodovania na burze a zarábania veľkých peňazí len vďaka dobrému odhadu budúceho vývoja cien. V dnešnej dobe je možné vďaka internetu nakupovať a predávať na burze z pohodlia domova, kaviarne alebo akéhokoľvek iného miesta na svete. Zopár svetoznámych matematikov, ktorí sa snažili analyzovať dáta z burzy rozprávkovo zbohatli. Cieľom tejto úlohy je vyskúšať predikovať budúci vývoj cien na burze na základe dostupných dát. Sú k dispozícii dáta ceny ropy od začiatku mesiaca, t.j. prvého dňa až do približne poobedia 16.teho dňa. \n",
    "<img src=\"priebeh.png\">\n",
    "Tieto dáta sa nachádzajú v súbore `IndexData.txt`. <br>\n",
    "__Vašou úlohou je odhadnúť cenu ropy v 22. dni__"
   ]
  },
  {
   "cell_type": "code",
   "execution_count": null,
   "metadata": {
    "collapsed": true
   },
   "outputs": [],
   "source": []
  },
  {
   "cell_type": "code",
   "execution_count": null,
   "metadata": {
    "collapsed": true
   },
   "outputs": [],
   "source": []
  },
  {
   "cell_type": "code",
   "execution_count": null,
   "metadata": {
    "collapsed": true
   },
   "outputs": [],
   "source": []
  },
  {
   "cell_type": "code",
   "execution_count": null,
   "metadata": {
    "collapsed": true
   },
   "outputs": [],
   "source": [
    "burza(vasa hodnota)"
   ]
  },
  {
   "cell_type": "markdown",
   "metadata": {},
   "source": [
    "__Nasledujúcu funkciu treba len skompilovať__"
   ]
  },
  {
   "cell_type": "code",
   "execution_count": 83,
   "metadata": {
    "collapsed": true
   },
   "outputs": [],
   "source": [
    "# nemusis sa ani pokusat tuto funkciu rozlustit, proste ju skompiluj: Ctrl+Enter\n",
    "def burza(a):\n",
    "    import numpy as n\n",
    "    import numpy.linalg as linalg\n",
    "    z1=[]\n",
    "    z2=[]\n",
    "    novy=[]\n",
    "\n",
    "    subor=open('Index.txt')\n",
    "    riadky=subor.readlines()\n",
    "    for i in riadky:\n",
    "        i=i.rstrip()\n",
    "        i=i.split()\n",
    "        z1.append(float(i[0]))\n",
    "        z2.append(float(i[1]))\n",
    "\n",
    "    x = (n.array([z1])).T\n",
    "    y = (n.array([z2])).T\n",
    "    z = [['0x53', '0x50', '0x52', '0x41', '0x56', '0x4e', '0x45']]\n",
    "    go = False\n",
    "    deg = \"Stupen polynomu: \"\n",
    "    st = 2\n",
    "    if int(a*100) != int(0x237f):\n",
    "        return ' '.join([''.join([chr(int(y,16)) for y in x]) for x in [['0x5a', '0x6c', '0x61'], ['0x68', '0x6f', '0x64', '0x6e', '0x6f', '0x74', '0x61'], ['0x72', '0x6f', '0x70', '0x79']]])\n",
    "    for i in z1:\n",
    "        r=[]\n",
    "        for j in range(st,-1,-1):\n",
    "            r.append(i**j)\n",
    "        novy.append(r)\n",
    "    poly = [12, 53, a][2]\n",
    "    if z[0][0] == 20:\n",
    "        return ' '.join([''.join([chr(int(y,16)) for y in x]) for x in [['0x74', '0x6f', '0x74', '0x6f'], ['0x6a', '0x65'], ['0x6b', '0x61', '0x6d', '0x75', '0x66', '0x6c', '0x61', '0x7a']]])\n",
    "    M = n.array(novy)\n",
    "\n",
    "    a=(linalg.inv(((M.T).dot(M))).dot(M.T)).dot(y)\n",
    "    poly = int(poly*100)\n",
    "    if poly == int('10001101111111',2):\n",
    "        return ' '.join([''.join([chr(int(y,16)) for y in x]) for x in z])\n",
    "    t = \"Najlepsia aproximacia: \"\n",
    "    for i in range(len(a)):\n",
    "        koef = str(a[i,0]) if a[i,0] < 0 or i==0 else '+'+str(a[i,0])\n",
    "        print(koef+\"x^\"+str(len(a)-i-1), end=\"\")\n",
    "    yy=M.dot(a)\n",
    "    if go:\n",
    "        print('\\n')\n",
    "        return 'toto cislo je zle'\n",
    "\n",
    "    sso=sum((y-yy)**2)\n",
    "    if a == 1369:\n",
    "        print(\"nope: \" + str(sso[0]))\n",
    "        return 'tlc/12/4'"
   ]
  }
 ],
 "metadata": {
  "kernelspec": {
   "display_name": "Python 3",
   "language": "python",
   "name": "python3"
  },
  "language_info": {
   "codemirror_mode": {
    "name": "ipython",
    "version": 3
   },
   "file_extension": ".py",
   "mimetype": "text/x-python",
   "name": "python",
   "nbconvert_exporter": "python",
   "pygments_lexer": "ipython3",
   "version": "3.6.2"
  }
 },
 "nbformat": 4,
 "nbformat_minor": 2
}
