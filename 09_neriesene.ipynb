{
 "cells": [
  {
   "cell_type": "markdown",
   "metadata": {},
   "source": [
    "V súbore `09_interpolacia.txt` sa nachádzajú dáta v nasledovnom tvare:\n",
    "\n",
    "```\n",
    "# x y\n",
    "1.00 2.12\n",
    "1.10\n",
    "1.21 0.79\n",
    "1.30\n",
    "1.42 -0.82\n",
    "1.52\n",
    "1.63 -2.15\n",
    "1.84 -2.35\n",
    "1.90\n",
    "2.05 -0.82\n",
    "2.10\n",
    "2.15\n",
    "2.26 1.88\n",
    "2.47 3.73\n",
    "2.53\n",
    "2.68 2.68\n",
    "2.74\n",
    "2.89 -0.53\n",
    "2.94\n",
    "3.05\n",
    "3.08\n",
    "3.11 -1.84\n",
    "3.32 1.22\n",
    "3.38\n",
    "3.43\n",
    "3.53 4.33\n",
    "3.62\n",
    "3.74 2.02\n",
    "3.95 -1.32\n",
    "4.03\n",
    "4.12\n",
    "4.16 1.85\n",
    "4.22\n",
    "4.37 4.92\n",
    "4.45\n",
    "4.58 0.63\n",
    "4.63\n",
    "4.72\n",
    "4.79 0.63\n",
    "5.00 5.55\n",
    "```\n",
    "\n",
    "Ako vidíme, niektoré výsledky chýbajú. Vašou úlohou je načítať vstupné dáta zo súboru a doplniť chýbajúce výsledky využitím lineárnej a kvadratickej interpolácie známych dát. Doplnené dáta uložte do súboru `09_interpolacia_vysledky.txt`, ktorý bude obsahovať tri stĺpce. V prvom budú hodnoty `x` načítané zo súboru, druhý bude obsahovať výsledky lineárnej interpolácie a tretí výsledky kvadratickej interpolácie."
   ]
  },
  {
   "cell_type": "code",
   "execution_count": null,
   "metadata": {},
   "outputs": [],
   "source": []
  },
  {
   "cell_type": "markdown",
   "metadata": {},
   "source": [
    "Dáta z predošlej úlohy boli vygenerované fyzickým procesom, ktorý sa dá zhruba aproximovať jednou z nasledovných funkcií:\n",
    "\n",
    "1. $ a \\sin(x-1) + b x^3 + c $\n",
    "2. $ a \\cos(x^2) + b x^2 + c (1/x) $\n",
    "3. $ a x + b \\cos(\\sin(x)) + c $\n",
    "\n",
    "Použitím funkcie `curve_fit` zistite, ktorá z funkcií najpresnejšie opisuje daný fyzický proces. Vygenerujte obrázok aj s legendou, ktorý zobrazí všetky uvedené funkcie s použitím ich optimálnych parametrov $a$, $b$, $c$. Obrázok vyexportujte do súboru `09_proces.png`."
   ]
  },
  {
   "cell_type": "code",
   "execution_count": null,
   "metadata": {
    "collapsed": true
   },
   "outputs": [],
   "source": []
  },
  {
   "cell_type": "markdown",
   "metadata": {},
   "source": [
    "V súbore `09_stravovanie1.txt` sa nachádzajú informácie o potravinách, ich cene na kilogram, množstve vitamínu A, kalorickej hodnote a dostupnosti v kilogramoch:\n",
    "```\n",
    "# nazov cena vitamin kalorie dostupnost\n",
    "kukurica 0.18 107 72 10\n",
    "mlieko 0.23 500 121 10\n",
    "chlieb 0.05 0 65 10\n",
    "```\n",
    "\n",
    "Vašou úlohou je zistiť, koľko kilogramov ktorej potraviny máte skombinovať, ak chcete:\n",
    "\n",
    "* čo najnižšiu výslednú cenu\n",
    "* celková kalorická hodnota musí byť medzi 2000 a 2250\n",
    "* celkové množstvo vitamínu A musí byť v rozsahu 5000 až 50000\n",
    "* z každého produktu môžete spotrebovať iba ohraničené množstvo dané v poslednom stĺpci tabuľky (samozrejme, nemôžete použiť záporné množstvá)\n",
    "\n",
    "Výsledky zobrazte v tvare:\n",
    "```\n",
    "Optimalna porcia ma cenu XXX eur, XXX kalorii, XXX jednotiek vitaminu A a nasledovne zlozenie:\n",
    "kukurica: XXX kg\n",
    "mlieko: XXX kg\n",
    "chlieb: XXX kg\n",
    "celkovo: XXX kg\n",
    "```\n",
    "\n",
    "Všetky dáta (vrátane názvov potravín) musíte načítavať zo súboru! Váš program musí podporovať ľubovolné množstvo produktov. Na verifikáciu použite dáta `09_stravovanie2.txt`:\n",
    "```\n",
    "# nazov cena vitamin kalorie dostupnost\n",
    "kukurica 0.18 107 72 10\n",
    "mlieko 0.23 500 121 5\n",
    "chlieb 0.05 0 65 5\n",
    "jogurt 0.3 800 150 10\n",
    "```\n",
    "\n",
    "Pomôcka: úlohu formulujte a riešte ako lineárny program. Pre prvú sadu vstupných dát je optimum `x=[1.94, 10, 10]`, pre druhý súbor zasa `x=[0, 5, 5, 7.13]`."
   ]
  },
  {
   "cell_type": "code",
   "execution_count": null,
   "metadata": {
    "collapsed": true
   },
   "outputs": [],
   "source": []
  },
  {
   "cell_type": "markdown",
   "metadata": {},
   "source": [
    "Použitím lokálnej optimalizácie zistite optimálne riešenie problému $\\min \\ (1-x)^2 + 100(y-x^2)^2 \\ \\text{v.n.} \\ x^2 + y^2 \\le 2$.\n",
    "\n",
    "Riešenie: $x^{\\star} = 1$, $y^{\\star} = 1$."
   ]
  },
  {
   "cell_type": "code",
   "execution_count": null,
   "metadata": {
    "collapsed": true
   },
   "outputs": [],
   "source": []
  },
  {
   "cell_type": "markdown",
   "metadata": {},
   "source": [
    "Uvažujme účelovú funkciu $|x-1.5| + 0.5 x^2 - \\sin(x^3)$ bez ohraničení. Zistite, v ktorom bode má táto funkcia svoje minimum. Použite lokálnu aj globálnu optimalizáciu. Pri lokálnej optimalizácii vyšetrite rôzne štartovacie body (napr. -2.5, -1.0, 2.0, 2.8) a výsledky zobrazte vo forme tabuľky. Na záver vykreslite graf účelovej funkcie na intervale [-3, 3] a vyznačte v ňom lokálne aj globálne minimá nájdené numerickou optimalizáciou.\n",
    "\n",
    "Riešenie: $x^* = 1.1529$."
   ]
  },
  {
   "cell_type": "code",
   "execution_count": null,
   "metadata": {},
   "outputs": [],
   "source": []
  },
  {
   "cell_type": "markdown",
   "metadata": {},
   "source": [
    "Uvažujme [Himmelblauovu funkciu](https://en.wikipedia.org/wiki/Himmelblau%27s_function) v tvare $(x^2+y-11)^2 + (x+y^2-7)^2$. Požitím lokálnej a globálnej optimalizácie nájdite jej minimá. Následne vykreslite vrstevnicový graf funkcie na intervale [-6, 6] pre obe súradnice a vyznačte v ňom pozície získaných miním. Vyšetrite vplyv počiatočných podmienok na to, do ktorého minima procedúra skonverguje.\n",
    "\n",
    "Riešenie: funkcia má 4 globálne minimá:\n",
    "\n",
    "1. $x^* = 3$, $y^* = 2$\n",
    "2. $x^* = -2.805$, $y^* = 3.131$\n",
    "3. $x^* = -3.779$, $y^* = -3.283$\n",
    "4. $x^* = 3.584$, $y^* = -1.848$"
   ]
  },
  {
   "cell_type": "code",
   "execution_count": null,
   "metadata": {},
   "outputs": [],
   "source": []
  }
 ],
 "metadata": {
  "kernelspec": {
   "display_name": "Python 3",
   "language": "python",
   "name": "python3"
  },
  "language_info": {
   "codemirror_mode": {
    "name": "ipython",
    "version": 3
   },
   "file_extension": ".py",
   "mimetype": "text/x-python",
   "name": "python",
   "nbconvert_exporter": "python",
   "pygments_lexer": "ipython3",
   "version": "3.6.2"
  }
 },
 "nbformat": 4,
 "nbformat_minor": 2
}
